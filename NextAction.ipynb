{
  "nbformat": 4,
  "nbformat_minor": 0,
  "metadata": {
    "colab": {
      "name": "NextAction.ipynb",
      "version": "0.3.2",
      "provenance": [],
      "include_colab_link": true
    },
    "kernelspec": {
      "name": "python3",
      "display_name": "Python 3"
    }
  },
  "cells": [
    {
      "cell_type": "markdown",
      "metadata": {
        "id": "view-in-github",
        "colab_type": "text"
      },
      "source": [
        "<a href=\"https://colab.research.google.com/github/j3nguyen/user_item_embeddings/blob/master/NextAction.ipynb\" target=\"_parent\"><img src=\"https://colab.research.google.com/assets/colab-badge.svg\" alt=\"Open In Colab\"/></a>"
      ]
    },
    {
      "cell_type": "code",
      "metadata": {
        "id": "i7lmWYxUscXg",
        "colab_type": "code",
        "colab": {}
      },
      "source": [
        "import re\n",
        "import numpy as np\n",
        "import pandas as pd\n",
        "from pprint import pprint\n",
        "\n",
        "# Gensim\n",
        "# import gensim\n",
        "# import gensim.corpora as corpora\n",
        "# from gensim.utils import simple_preprocess\n",
        "# from gensim.models import CoherenceModel\n",
        "\n",
        "# spacy for lemmatization\n",
        "# import spacy\n",
        "\n",
        "# NLTK for stopwords and stemming\n",
        "# from nltk.stem.porter import * \n",
        "# from nltk.stem.snowball import SnowballStemmer\n",
        "# from nltk.corpus import stopwords\n",
        "# stop_words = stopwords.words('english')\n",
        "\n",
        "# Plotting tools\n",
        "# import pyLDAvis\n",
        "# import pyLDAvis.gensim  # don't skip this\n",
        "import matplotlib.pyplot as plt\n",
        "import matplotlib"
      ],
      "execution_count": 0,
      "outputs": []
    },
    {
      "cell_type": "code",
      "metadata": {
        "id": "EJyyvljXsfw-",
        "colab_type": "code",
        "colab": {
          "base_uri": "https://localhost:8080/",
          "height": 67
        },
        "outputId": "aba45a77-8976-4c13-fddb-186a73e91857"
      },
      "source": [
        "import nltk\n",
        "nltk.download('stopwords')"
      ],
      "execution_count": 3,
      "outputs": [
        {
          "output_type": "stream",
          "text": [
            "[nltk_data] Downloading package stopwords to /root/nltk_data...\n",
            "[nltk_data]   Unzipping corpora/stopwords.zip.\n"
          ],
          "name": "stdout"
        },
        {
          "output_type": "execute_result",
          "data": {
            "text/plain": [
              "True"
            ]
          },
          "metadata": {
            "tags": []
          },
          "execution_count": 3
        }
      ]
    },
    {
      "cell_type": "code",
      "metadata": {
        "id": "Ru9frj6Xs7yr",
        "colab_type": "code",
        "colab": {
          "base_uri": "https://localhost:8080/",
          "height": 34
        },
        "outputId": "f26266dd-a4ce-4733-946e-32508358cfdd"
      },
      "source": [
        "import keras"
      ],
      "execution_count": 3,
      "outputs": [
        {
          "output_type": "stream",
          "text": [
            "Using TensorFlow backend.\n"
          ],
          "name": "stderr"
        }
      ]
    },
    {
      "cell_type": "code",
      "metadata": {
        "id": "1UlLuUz6s9lM",
        "colab_type": "code",
        "colab": {}
      },
      "source": [
        "from keras.models import Sequential\n",
        "from keras.layers import LSTM, Dense, Dropout, Embedding, Activation, TimeDistributed\n",
        "from keras.optimizers import Adam"
      ],
      "execution_count": 0,
      "outputs": []
    },
    {
      "cell_type": "code",
      "metadata": {
        "id": "vfML1r4FxGRD",
        "colab_type": "code",
        "colab": {}
      },
      "source": [
        "df = pd.read_csv(\"events.csv\")"
      ],
      "execution_count": 0,
      "outputs": []
    },
    {
      "cell_type": "code",
      "metadata": {
        "id": "kdr9sjNNxO00",
        "colab_type": "code",
        "colab": {
          "base_uri": "https://localhost:8080/",
          "height": 195
        },
        "outputId": "b4fc0719-6493-419c-c144-132b787e9cef"
      },
      "source": [
        "df.head()"
      ],
      "execution_count": 6,
      "outputs": [
        {
          "output_type": "execute_result",
          "data": {
            "text/html": [
              "<div>\n",
              "<style scoped>\n",
              "    .dataframe tbody tr th:only-of-type {\n",
              "        vertical-align: middle;\n",
              "    }\n",
              "\n",
              "    .dataframe tbody tr th {\n",
              "        vertical-align: top;\n",
              "    }\n",
              "\n",
              "    .dataframe thead th {\n",
              "        text-align: right;\n",
              "    }\n",
              "</style>\n",
              "<table border=\"1\" class=\"dataframe\">\n",
              "  <thead>\n",
              "    <tr style=\"text-align: right;\">\n",
              "      <th></th>\n",
              "      <th>timestamp</th>\n",
              "      <th>visitorid</th>\n",
              "      <th>event</th>\n",
              "      <th>itemid</th>\n",
              "      <th>transactionid</th>\n",
              "    </tr>\n",
              "  </thead>\n",
              "  <tbody>\n",
              "    <tr>\n",
              "      <th>0</th>\n",
              "      <td>1433221332117</td>\n",
              "      <td>257597</td>\n",
              "      <td>view</td>\n",
              "      <td>355908</td>\n",
              "      <td>NaN</td>\n",
              "    </tr>\n",
              "    <tr>\n",
              "      <th>1</th>\n",
              "      <td>1433224214164</td>\n",
              "      <td>992329</td>\n",
              "      <td>view</td>\n",
              "      <td>248676</td>\n",
              "      <td>NaN</td>\n",
              "    </tr>\n",
              "    <tr>\n",
              "      <th>2</th>\n",
              "      <td>1433221999827</td>\n",
              "      <td>111016</td>\n",
              "      <td>view</td>\n",
              "      <td>318965</td>\n",
              "      <td>NaN</td>\n",
              "    </tr>\n",
              "    <tr>\n",
              "      <th>3</th>\n",
              "      <td>1433221955914</td>\n",
              "      <td>483717</td>\n",
              "      <td>view</td>\n",
              "      <td>253185</td>\n",
              "      <td>NaN</td>\n",
              "    </tr>\n",
              "    <tr>\n",
              "      <th>4</th>\n",
              "      <td>1433221337106</td>\n",
              "      <td>951259</td>\n",
              "      <td>view</td>\n",
              "      <td>367447</td>\n",
              "      <td>NaN</td>\n",
              "    </tr>\n",
              "  </tbody>\n",
              "</table>\n",
              "</div>"
            ],
            "text/plain": [
              "       timestamp  visitorid event  itemid  transactionid\n",
              "0  1433221332117     257597  view  355908            NaN\n",
              "1  1433224214164     992329  view  248676            NaN\n",
              "2  1433221999827     111016  view  318965            NaN\n",
              "3  1433221955914     483717  view  253185            NaN\n",
              "4  1433221337106     951259  view  367447            NaN"
            ]
          },
          "metadata": {
            "tags": []
          },
          "execution_count": 6
        }
      ]
    },
    {
      "cell_type": "code",
      "metadata": {
        "id": "UoC-P7sYxQYX",
        "colab_type": "code",
        "colab": {}
      },
      "source": [
        "# reformat the data set\n",
        "visitor_ids = df.visitorid.unique()"
      ],
      "execution_count": 0,
      "outputs": []
    },
    {
      "cell_type": "code",
      "metadata": {
        "id": "MHMvV21cxg-T",
        "colab_type": "code",
        "colab": {
          "base_uri": "https://localhost:8080/",
          "height": 34
        },
        "outputId": "3af4015a-3f1b-408b-a71a-087c3fe79f94"
      },
      "source": [
        "df.shape"
      ],
      "execution_count": 8,
      "outputs": [
        {
          "output_type": "execute_result",
          "data": {
            "text/plain": [
              "(2756101, 5)"
            ]
          },
          "metadata": {
            "tags": []
          },
          "execution_count": 8
        }
      ]
    },
    {
      "cell_type": "code",
      "metadata": {
        "id": "RKdIig2DxoG_",
        "colab_type": "code",
        "colab": {
          "base_uri": "https://localhost:8080/",
          "height": 84
        },
        "outputId": "48eba3df-7351-4dbf-cd75-e3a639de363a"
      },
      "source": [
        "df.event.value_counts()"
      ],
      "execution_count": 19,
      "outputs": [
        {
          "output_type": "execute_result",
          "data": {
            "text/plain": [
              "view           2664312\n",
              "addtocart        69332\n",
              "transaction      22457\n",
              "Name: event, dtype: int64"
            ]
          },
          "metadata": {
            "tags": []
          },
          "execution_count": 19
        }
      ]
    },
    {
      "cell_type": "code",
      "metadata": {
        "id": "wQUbzn4-4Mq9",
        "colab_type": "code",
        "colab": {}
      },
      "source": [
        "action_to_idx = {\"view\": 0, \"addtocart\": 1, \"transaction\": 2}"
      ],
      "execution_count": 0,
      "outputs": []
    },
    {
      "cell_type": "code",
      "metadata": {
        "id": "FEKxbog95qZ_",
        "colab_type": "code",
        "colab": {
          "base_uri": "https://localhost:8080/",
          "height": 34
        },
        "outputId": "fbaffd68-ebd1-45b6-e673-9c8be2a569d8"
      },
      "source": [
        "# build the data set\n",
        "\n",
        "a = df[df.visitorid == visitor_ids[342]].sort_values(\"timestamp\").event.values\n",
        "a = list(map(lambda x: action_to_idx[x],a))\n",
        "a"
      ],
      "execution_count": 68,
      "outputs": [
        {
          "output_type": "execute_result",
          "data": {
            "text/plain": [
              "[0, 0, 0]"
            ]
          },
          "metadata": {
            "tags": []
          },
          "execution_count": 68
        }
      ]
    },
    {
      "cell_type": "code",
      "metadata": {
        "id": "HMaW7q4-6Btl",
        "colab_type": "code",
        "colab": {}
      },
      "source": [
        "visitor_activity = {}\n",
        "\n",
        "for visitor in visitor_ids[:100000]:\n",
        "  # get user's actions in order of time\n",
        "  actions = df[df.visitorid == visitor].sort_values(\"timestamp\").event.values\n",
        "  \n",
        "  if len(actions) > 50:\n",
        "    actions = list(map(lambda x: action_to_idx[x],actions)) [:51] \n",
        "    visitor_activity[visitor] = actions"
      ],
      "execution_count": 0,
      "outputs": []
    },
    {
      "cell_type": "code",
      "metadata": {
        "id": "u1gknWh-71CB",
        "colab_type": "code",
        "colab": {}
      },
      "source": [
        "#create the LSTM network\n",
        "hidden_size = 64\n",
        "num_actions = len(action_to_idx)\n",
        "input_length = 50\n",
        "\n",
        "# model = Sequential()\n",
        "# model.add(Embedding(\n",
        "#     input_dim=num_actions,\n",
        "#     output_dim=hidden_size, #hidden layer dimension\n",
        "#     input_length=input_length,\n",
        "#     trainable=True\n",
        "#   )\n",
        "# )\n",
        "\n",
        "# model.add(LSTM(hidden_size, return_sequences=True))\n",
        "# model.add(Dropout(rate=0.5))\n",
        "# model.add(Activation('softmax'))\n",
        "\n",
        "\n",
        "model = Sequential()\n",
        "model.add(Embedding(num_actions, hidden_size, input_length=input_length))\n",
        "model.add(LSTM(hidden_size, return_sequences=True))\n",
        "model.add(LSTM(hidden_size, return_sequences=False))\n",
        "\n",
        "model.add(Dropout(rate=0.5))\n",
        "# model.add(TimeDistributed(Dense(num_actions)))\n",
        "# model.add(Activation('softmax'))\n",
        "model.add(Dense(num_actions, activation='softmax'))\n"
      ],
      "execution_count": 0,
      "outputs": []
    },
    {
      "cell_type": "code",
      "metadata": {
        "id": "raV1uFssMs6U",
        "colab_type": "code",
        "colab": {}
      },
      "source": [
        "opt = Adam(lr=0.01, beta_1=0.9, beta_2=0.999, decay=0.01)\n",
        "\n",
        "model.compile(optimizer=opt, loss='categorical_crossentropy', metrics=['accuracy'])"
      ],
      "execution_count": 0,
      "outputs": []
    },
    {
      "cell_type": "code",
      "metadata": {
        "id": "k4XZ5wilM9cv",
        "colab_type": "code",
        "colab": {
          "base_uri": "https://localhost:8080/",
          "height": 302
        },
        "outputId": "4bf2d06a-3b56-406b-b9a1-3262b8c1867a"
      },
      "source": [
        "model.summary()"
      ],
      "execution_count": 56,
      "outputs": [
        {
          "output_type": "stream",
          "text": [
            "_________________________________________________________________\n",
            "Layer (type)                 Output Shape              Param #   \n",
            "=================================================================\n",
            "embedding_7 (Embedding)      (None, 50, 64)            192       \n",
            "_________________________________________________________________\n",
            "lstm_11 (LSTM)               (None, 50, 64)            33024     \n",
            "_________________________________________________________________\n",
            "lstm_12 (LSTM)               (None, 64)                33024     \n",
            "_________________________________________________________________\n",
            "dropout_7 (Dropout)          (None, 64)                0         \n",
            "_________________________________________________________________\n",
            "dense_6 (Dense)              (None, 3)                 195       \n",
            "=================================================================\n",
            "Total params: 66,435\n",
            "Trainable params: 66,435\n",
            "Non-trainable params: 0\n",
            "_________________________________________________________________\n"
          ],
          "name": "stdout"
        }
      ]
    },
    {
      "cell_type": "code",
      "metadata": {
        "id": "6uyw081aNmZw",
        "colab_type": "code",
        "colab": {
          "base_uri": "https://localhost:8080/",
          "height": 34
        },
        "outputId": "c62ca70d-d668-4988-e2a1-b93adbc4fbd7"
      },
      "source": [
        "max(list(map(lambda x: len(x),visitor_activity.values())))"
      ],
      "execution_count": 72,
      "outputs": [
        {
          "output_type": "execute_result",
          "data": {
            "text/plain": [
              "2252"
            ]
          },
          "metadata": {
            "tags": []
          },
          "execution_count": 72
        }
      ]
    },
    {
      "cell_type": "code",
      "metadata": {
        "id": "bJy3z1wFadTi",
        "colab_type": "code",
        "colab": {}
      },
      "source": [
        "from keras.utils import to_categorical"
      ],
      "execution_count": 0,
      "outputs": []
    },
    {
      "cell_type": "code",
      "metadata": {
        "id": "6mS7NxJjWc3K",
        "colab_type": "code",
        "colab": {}
      },
      "source": [
        "actions = visitor_activity.values()\n",
        "X_train = np.array(list(map(lambda x: x[:-1], actions))) # one-hot-encode\n",
        "y_train = to_categorical(np.array(list(map(lambda x: x[50], actions))), num_classes=3) # shift sequence on step forward\n"
      ],
      "execution_count": 0,
      "outputs": []
    },
    {
      "cell_type": "code",
      "metadata": {
        "id": "jAJB-6K-XaTs",
        "colab_type": "code",
        "colab": {
          "base_uri": "https://localhost:8080/",
          "height": 34
        },
        "outputId": "35c4c86e-7955-4380-88cb-02d7d9e139d4"
      },
      "source": [
        "X_train.shape"
      ],
      "execution_count": 52,
      "outputs": [
        {
          "output_type": "execute_result",
          "data": {
            "text/plain": [
              "(422, 50)"
            ]
          },
          "metadata": {
            "tags": []
          },
          "execution_count": 52
        }
      ]
    },
    {
      "cell_type": "code",
      "metadata": {
        "id": "659x-AsLPw-x",
        "colab_type": "code",
        "colab": {
          "base_uri": "https://localhost:8080/",
          "height": 1000
        },
        "outputId": "6b0d8d27-c0e7-4e7b-c15c-690956dec889"
      },
      "source": [
        "h = model.fit(X_train, y_train, epochs=50, batch_size=128, validation_split=0.1, verbose=1)"
      ],
      "execution_count": 57,
      "outputs": [
        {
          "output_type": "stream",
          "text": [
            "Train on 379 samples, validate on 43 samples\n",
            "Epoch 1/50\n",
            "379/379 [==============================] - 3s 7ms/step - loss: 0.7788 - acc: 0.6464 - val_loss: 0.3277 - val_acc: 0.9302\n",
            "Epoch 2/50\n",
            "379/379 [==============================] - 0s 1ms/step - loss: 0.3359 - acc: 0.9314 - val_loss: 0.3027 - val_acc: 0.9302\n",
            "Epoch 3/50\n",
            "379/379 [==============================] - 0s 1ms/step - loss: 0.3005 - acc: 0.9314 - val_loss: 0.2936 - val_acc: 0.9302\n",
            "Epoch 4/50\n",
            "379/379 [==============================] - 1s 1ms/step - loss: 0.2803 - acc: 0.9314 - val_loss: 0.3057 - val_acc: 0.9302\n",
            "Epoch 5/50\n",
            "379/379 [==============================] - 0s 1ms/step - loss: 0.2786 - acc: 0.9340 - val_loss: 0.2972 - val_acc: 0.9302\n",
            "Epoch 6/50\n",
            "379/379 [==============================] - 0s 1ms/step - loss: 0.2643 - acc: 0.9261 - val_loss: 0.3020 - val_acc: 0.9302\n",
            "Epoch 7/50\n",
            "379/379 [==============================] - 0s 1ms/step - loss: 0.2292 - acc: 0.9367 - val_loss: 0.3192 - val_acc: 0.9302\n",
            "Epoch 8/50\n",
            "379/379 [==============================] - 0s 1ms/step - loss: 0.2239 - acc: 0.9367 - val_loss: 0.2823 - val_acc: 0.9302\n",
            "Epoch 9/50\n",
            "379/379 [==============================] - 0s 1ms/step - loss: 0.2146 - acc: 0.9367 - val_loss: 0.2828 - val_acc: 0.9302\n",
            "Epoch 10/50\n",
            "379/379 [==============================] - 0s 1ms/step - loss: 0.2201 - acc: 0.9393 - val_loss: 0.2965 - val_acc: 0.9302\n",
            "Epoch 11/50\n",
            "379/379 [==============================] - 0s 1ms/step - loss: 0.2016 - acc: 0.9420 - val_loss: 0.3177 - val_acc: 0.9302\n",
            "Epoch 12/50\n",
            "379/379 [==============================] - 0s 1ms/step - loss: 0.2254 - acc: 0.9420 - val_loss: 0.3040 - val_acc: 0.9302\n",
            "Epoch 13/50\n",
            "379/379 [==============================] - 0s 1ms/step - loss: 0.2154 - acc: 0.9446 - val_loss: 0.2853 - val_acc: 0.9302\n",
            "Epoch 14/50\n",
            "379/379 [==============================] - 0s 1ms/step - loss: 0.2067 - acc: 0.9446 - val_loss: 0.2812 - val_acc: 0.9302\n",
            "Epoch 15/50\n",
            "379/379 [==============================] - 0s 1ms/step - loss: 0.2001 - acc: 0.9446 - val_loss: 0.2854 - val_acc: 0.9302\n",
            "Epoch 16/50\n",
            "379/379 [==============================] - 0s 1ms/step - loss: 0.1965 - acc: 0.9472 - val_loss: 0.2922 - val_acc: 0.9302\n",
            "Epoch 17/50\n",
            "379/379 [==============================] - 0s 1ms/step - loss: 0.2046 - acc: 0.9472 - val_loss: 0.2912 - val_acc: 0.9302\n",
            "Epoch 18/50\n",
            "379/379 [==============================] - 0s 1ms/step - loss: 0.2029 - acc: 0.9446 - val_loss: 0.2811 - val_acc: 0.9302\n",
            "Epoch 19/50\n",
            "379/379 [==============================] - 0s 1ms/step - loss: 0.1729 - acc: 0.9499 - val_loss: 0.2778 - val_acc: 0.9070\n",
            "Epoch 20/50\n",
            "379/379 [==============================] - 0s 1ms/step - loss: 0.1829 - acc: 0.9472 - val_loss: 0.2747 - val_acc: 0.9070\n",
            "Epoch 21/50\n",
            "379/379 [==============================] - 0s 1ms/step - loss: 0.1772 - acc: 0.9420 - val_loss: 0.2726 - val_acc: 0.9070\n",
            "Epoch 22/50\n",
            "379/379 [==============================] - 0s 1ms/step - loss: 0.1858 - acc: 0.9472 - val_loss: 0.2699 - val_acc: 0.9302\n",
            "Epoch 23/50\n",
            "379/379 [==============================] - 0s 1ms/step - loss: 0.1807 - acc: 0.9472 - val_loss: 0.2717 - val_acc: 0.9070\n",
            "Epoch 24/50\n",
            "379/379 [==============================] - 0s 1ms/step - loss: 0.1914 - acc: 0.9446 - val_loss: 0.2627 - val_acc: 0.9302\n",
            "Epoch 25/50\n",
            "379/379 [==============================] - 0s 1ms/step - loss: 0.1839 - acc: 0.9499 - val_loss: 0.2610 - val_acc: 0.9302\n",
            "Epoch 26/50\n",
            "379/379 [==============================] - 0s 1ms/step - loss: 0.1859 - acc: 0.9551 - val_loss: 0.2571 - val_acc: 0.9302\n",
            "Epoch 27/50\n",
            "379/379 [==============================] - 0s 1ms/step - loss: 0.1696 - acc: 0.9525 - val_loss: 0.2576 - val_acc: 0.9302\n",
            "Epoch 28/50\n",
            "379/379 [==============================] - 0s 1ms/step - loss: 0.1764 - acc: 0.9499 - val_loss: 0.2574 - val_acc: 0.9302\n",
            "Epoch 29/50\n",
            "379/379 [==============================] - 0s 1ms/step - loss: 0.1708 - acc: 0.9578 - val_loss: 0.2546 - val_acc: 0.9302\n",
            "Epoch 30/50\n",
            "379/379 [==============================] - 0s 1ms/step - loss: 0.1767 - acc: 0.9446 - val_loss: 0.2519 - val_acc: 0.9302\n",
            "Epoch 31/50\n",
            "379/379 [==============================] - 0s 1ms/step - loss: 0.1795 - acc: 0.9472 - val_loss: 0.2510 - val_acc: 0.9302\n",
            "Epoch 32/50\n",
            "379/379 [==============================] - 0s 1ms/step - loss: 0.1794 - acc: 0.9525 - val_loss: 0.2526 - val_acc: 0.9302\n",
            "Epoch 33/50\n",
            "379/379 [==============================] - 0s 1ms/step - loss: 0.1601 - acc: 0.9499 - val_loss: 0.2497 - val_acc: 0.9302\n",
            "Epoch 34/50\n",
            "379/379 [==============================] - 0s 1ms/step - loss: 0.1627 - acc: 0.9551 - val_loss: 0.2491 - val_acc: 0.9302\n",
            "Epoch 35/50\n",
            "379/379 [==============================] - 0s 1ms/step - loss: 0.1510 - acc: 0.9499 - val_loss: 0.2504 - val_acc: 0.9302\n",
            "Epoch 36/50\n",
            "379/379 [==============================] - 0s 1ms/step - loss: 0.1644 - acc: 0.9578 - val_loss: 0.2471 - val_acc: 0.9302\n",
            "Epoch 37/50\n",
            "379/379 [==============================] - 0s 1ms/step - loss: 0.1556 - acc: 0.9551 - val_loss: 0.2464 - val_acc: 0.9302\n",
            "Epoch 38/50\n",
            "379/379 [==============================] - 0s 1ms/step - loss: 0.1461 - acc: 0.9578 - val_loss: 0.2407 - val_acc: 0.9302\n",
            "Epoch 39/50\n",
            "379/379 [==============================] - 0s 1ms/step - loss: 0.1581 - acc: 0.9631 - val_loss: 0.2397 - val_acc: 0.9302\n",
            "Epoch 40/50\n",
            "379/379 [==============================] - 0s 1ms/step - loss: 0.1426 - acc: 0.9604 - val_loss: 0.2390 - val_acc: 0.9302\n",
            "Epoch 41/50\n",
            "379/379 [==============================] - 0s 1ms/step - loss: 0.1681 - acc: 0.9604 - val_loss: 0.2643 - val_acc: 0.9302\n",
            "Epoch 42/50\n",
            "379/379 [==============================] - 0s 1ms/step - loss: 0.1627 - acc: 0.9578 - val_loss: 0.2375 - val_acc: 0.9302\n",
            "Epoch 43/50\n",
            "379/379 [==============================] - 0s 1ms/step - loss: 0.1489 - acc: 0.9604 - val_loss: 0.2180 - val_acc: 0.9302\n",
            "Epoch 44/50\n",
            "379/379 [==============================] - 0s 1ms/step - loss: 0.1441 - acc: 0.9604 - val_loss: 0.2203 - val_acc: 0.9302\n",
            "Epoch 45/50\n",
            "379/379 [==============================] - 0s 1ms/step - loss: 0.1576 - acc: 0.9525 - val_loss: 0.2298 - val_acc: 0.9302\n",
            "Epoch 46/50\n",
            "379/379 [==============================] - 0s 1ms/step - loss: 0.1383 - acc: 0.9604 - val_loss: 0.2503 - val_acc: 0.9302\n",
            "Epoch 47/50\n",
            "379/379 [==============================] - 0s 1ms/step - loss: 0.1400 - acc: 0.9578 - val_loss: 0.2626 - val_acc: 0.9302\n",
            "Epoch 48/50\n",
            "379/379 [==============================] - 0s 1ms/step - loss: 0.1430 - acc: 0.9631 - val_loss: 0.2390 - val_acc: 0.9302\n",
            "Epoch 49/50\n",
            "379/379 [==============================] - 0s 1ms/step - loss: 0.1389 - acc: 0.9604 - val_loss: 0.2235 - val_acc: 0.9535\n",
            "Epoch 50/50\n",
            "379/379 [==============================] - 0s 1ms/step - loss: 0.1339 - acc: 0.9551 - val_loss: 0.2249 - val_acc: 0.9302\n"
          ],
          "name": "stdout"
        }
      ]
    },
    {
      "cell_type": "code",
      "metadata": {
        "id": "8Xhoqc1uXOZ6",
        "colab_type": "code",
        "colab": {}
      },
      "source": [
        "pred_prob = model.predict(X_train)"
      ],
      "execution_count": 0,
      "outputs": []
    },
    {
      "cell_type": "code",
      "metadata": {
        "id": "NuImBzNoioQn",
        "colab_type": "code",
        "colab": {}
      },
      "source": [
        "y_pred = np.argmax(pred_prob,axis=1)\n",
        "# pred_prob"
      ],
      "execution_count": 0,
      "outputs": []
    },
    {
      "cell_type": "code",
      "metadata": {
        "id": "F70aDmLSkDpU",
        "colab_type": "code",
        "colab": {}
      },
      "source": [
        "y_true = np.argmax(y_train,axis=1)"
      ],
      "execution_count": 0,
      "outputs": []
    },
    {
      "cell_type": "code",
      "metadata": {
        "id": "QR9MtTIhlOkj",
        "colab_type": "code",
        "colab": {}
      },
      "source": [
        "import itertools\n",
        "from sklearn.metrics import confusion_matrix, classification_report,accuracy_score, roc_auc_score, roc_curve\n",
        "def plot_confusion_matrix(cm, classes,\n",
        "                          normalize=False,\n",
        "                          title='Confusion matrix',\n",
        "                          cmap=plt.cm.Blues):\n",
        "    \"\"\"\n",
        "    This function prints and plots the confusion matrix.\n",
        "    Normalization can be applied by setting `normalize=True`.\n",
        "    \"\"\"\n",
        "    if normalize:\n",
        "        cm = cm.astype('float') / cm.sum(axis=1)[:, np.newaxis]\n",
        "        print(\"Normalized confusion matrix\")\n",
        "    else:\n",
        "        print('Confusion matrix, without normalization')\n",
        "\n",
        "    print(cm)\n",
        "\n",
        "    plt.imshow(cm, interpolation='nearest', cmap=cmap)\n",
        "    plt.title(title)\n",
        "    plt.colorbar()\n",
        "    tick_marks = np.arange(len(classes))\n",
        "    plt.xticks(tick_marks, classes, rotation=45)\n",
        "    plt.yticks(tick_marks, classes)\n",
        "\n",
        "    fmt = '.2f' if normalize else 'd'\n",
        "    thresh = cm.max() / 2.\n",
        "    for i, j in itertools.product(range(cm.shape[0]), range(cm.shape[1])):\n",
        "        plt.text(j, i, format(cm[i, j], fmt),\n",
        "                 horizontalalignment=\"center\",\n",
        "                 color=\"white\" if cm[i, j] > thresh else \"black\")\n",
        "\n",
        "    plt.ylabel('True label')\n",
        "    plt.xlabel('Predicted label')\n",
        "    plt.tight_layout()"
      ],
      "execution_count": 0,
      "outputs": []
    },
    {
      "cell_type": "code",
      "metadata": {
        "id": "fzZWDH0ulqfq",
        "colab_type": "code",
        "colab": {
          "base_uri": "https://localhost:8080/",
          "height": 364
        },
        "outputId": "e69881af-15a4-4c69-865a-cc7bf6143cc7"
      },
      "source": [
        "conf=confusion_matrix(y_true,y_pred)\n",
        "plt.figure()\n",
        "plot_confusion_matrix(conf, classes=action_to_idx.keys(), normalize=False,\n",
        "                      title='Normalized confusion matrix')\n",
        "# plt.savefig(\"cm1.jpg\", dpi=900)\n",
        "plt.show()"
      ],
      "execution_count": 76,
      "outputs": [
        {
          "output_type": "stream",
          "text": [
            "Confusion matrix, without normalization\n",
            "[[392   1   0]\n",
            " [  9   9   1]\n",
            " [  4   1   5]]\n"
          ],
          "name": "stdout"
        },
        {
          "output_type": "display_data",
          "data": {
            "image/png": "[encoded data removed]",
            "text/plain": [
              "<Figure size 432x288 with 2 Axes>"
            ]
          },
          "metadata": {
            "tags": []
          }
        }
      ]
    },
    {
      "cell_type": "code",
      "metadata": {
        "id": "hFB0Af9KwgVX",
        "colab_type": "code",
        "colab": {}
      },
      "source": [
        "embeddings = model.get_layer(index = 0)\n",
        "# embeddings = embeddings.get_weights()[0]\n",
        "# embeddings = embeddings / np.linalg.norm(embeddings, axis = 1).reshape((-1, 1))\n",
        "# embeddings = np.nan_to_num(embeddings)"
      ],
      "execution_count": 0,
      "outputs": []
    },
    {
      "cell_type": "code",
      "metadata": {
        "id": "L8Mw2H4Yw4vn",
        "colab_type": "code",
        "colab": {
          "base_uri": "https://localhost:8080/",
          "height": 689
        },
        "outputId": "83fe33eb-9e38-4f21-9cbf-1b6e8acb7e98"
      },
      "source": [
        "embeddings.get_weights()[0]"
      ],
      "execution_count": 84,
      "outputs": [
        {
          "output_type": "execute_result",
          "data": {
            "text/plain": [
              "array([[ 0.04585326,  0.01076845, -0.08171535,  0.10055   , -0.01817397,\n",
              "         0.01684655, -0.00306664,  0.09228728,  0.07403877, -0.09677538,\n",
              "         0.02304918,  0.10190149, -0.06870894, -0.07216837, -0.04817696,\n",
              "         0.0794572 , -0.09949838, -0.05945623, -0.04978979, -0.10459855,\n",
              "         0.06233083,  0.07004292, -0.08426604,  0.10353775,  0.00151103,\n",
              "         0.09921861,  0.07828525,  0.00498787,  0.03362969, -0.07392991,\n",
              "         0.0313994 ,  0.08407332,  0.10653617,  0.00124411, -0.08694055,\n",
              "         0.07496162, -0.00358712,  0.02820783, -0.1039665 , -0.02531488,\n",
              "        -0.08458795,  0.11082289,  0.0451623 ,  0.08646761,  0.04267707,\n",
              "         0.08583654, -0.07395535,  0.07803154, -0.1044822 , -0.11497081,\n",
              "        -0.0820353 ,  0.07192457, -0.07335716, -0.08028925,  0.02952341,\n",
              "         0.08731241, -0.03832633,  0.10378686,  0.01052172, -0.0737609 ,\n",
              "         0.10678974, -0.07516605, -0.05325273, -0.08903056],\n",
              "       [-0.29119533, -0.05731317,  0.21164691, -0.23047082,  0.19468217,\n",
              "         0.18951938,  0.17437905, -0.20774178, -0.17834124,  0.21401751,\n",
              "        -0.20196667, -0.20095515,  0.25766537,  0.15261184, -0.04277584,\n",
              "        -0.11034578,  0.17605408,  0.2828341 ,  0.1633833 ,  0.19664414,\n",
              "        -0.26832843, -0.20855212,  0.19665278, -0.11998606,  0.21466866,\n",
              "        -0.15645145, -0.22024341,  0.28476903, -0.24136744,  0.16116704,\n",
              "         0.13196234, -0.16012733, -0.21598352, -0.2886198 ,  0.19450401,\n",
              "        -0.04683872, -0.21440586, -0.24958172,  0.15058936,  0.21230371,\n",
              "         0.22710782, -0.18983904,  0.09061158, -0.24570496, -0.24392779,\n",
              "        -0.2017896 ,  0.23793787, -0.17298432,  0.19643693,  0.179509  ,\n",
              "         0.17191972, -0.23795086,  0.183978  ,  0.2512441 , -0.22526552,\n",
              "        -0.18400584, -0.12613231, -0.2301806 , -0.18847115,  0.19328335,\n",
              "        -0.07100137,  0.1328825 ,  0.22361383,  0.24535742],\n",
              "       [ 0.02604125,  0.26578224, -0.04986101,  0.08878849,  0.1558035 ,\n",
              "         0.37140203,  0.05299295,  0.08598719,  0.03274114, -0.09821346,\n",
              "        -0.10435018,  0.08121001,  0.06424513, -0.17972256,  0.14045317,\n",
              "        -0.0755913 , -0.14858559, -0.03180252,  0.07652386,  0.0258499 ,\n",
              "        -0.15693587, -0.50009316,  0.28550017,  0.12721498,  0.0259044 ,\n",
              "        -0.04459509,  0.00905569,  0.13470678,  0.01018533, -0.07529899,\n",
              "         0.13453907,  0.0364155 ,  0.03530721, -0.01692255, -0.09343787,\n",
              "         0.21466418, -0.463629  , -0.08881586, -0.02841219, -0.10225878,\n",
              "        -0.14915502, -0.00446615,  0.02382482, -0.04473112, -0.06394828,\n",
              "         0.09821576,  0.05189072,  0.05307771, -0.01278069, -0.06765521,\n",
              "        -0.06941498,  0.0354979 , -0.02307351, -0.04484913,  0.02034509,\n",
              "        -0.02786032, -0.5053141 ,  0.01395555, -0.09804244,  0.04952727,\n",
              "         0.08721621, -0.04670989,  0.03740418, -0.03488525]],\n",
              "      dtype=float32)"
            ]
          },
          "metadata": {
            "tags": []
          },
          "execution_count": 84
        }
      ]
    },
    {
      "cell_type": "code",
      "metadata": {
        "id": "qqC3evCiw74i",
        "colab_type": "code",
        "colab": {}
      },
      "source": [
        ""
      ],
      "execution_count": 0,
      "outputs": []
    }
  ]
}