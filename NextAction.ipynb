{
  "nbformat": 4,
  "nbformat_minor": 0,
  "metadata": {
    "colab": {
      "name": "NextAction.ipynb",
      "provenance": [],
      "collapsed_sections": [],
      "toc_visible": true,
      "include_colab_link": true
    },
    "kernelspec": {
      "name": "python3",
      "display_name": "Python 3"
    }
  },
  "cells": [
    {
      "cell_type": "markdown",
      "metadata": {
        "id": "view-in-github",
        "colab_type": "text"
      },
      "source": [
        "<a href=\"https://colab.research.google.com/github/j3nguyen/user_item_embeddings/blob/master/NextAction.ipynb\" target=\"_parent\"><img src=\"https://colab.research.google.com/assets/colab-badge.svg\" alt=\"Open In Colab\"/></a>"
      ]
    },
    {
      "cell_type": "markdown",
      "metadata": {
        "id": "VmxEVPD9xBVX",
        "colab_type": "text"
      },
      "source": [
        "# Predicting User Journeys\n",
        "\n",
        "\n",
        "Regardless of your business, being able to anticipate your users’ next action is a valuable advantage, whether that be a purchase, a view, or even a cancellation. Typical modelling approaches to predict users’ actions have focused on one specific action, e.g., conversion or churn. In this holistic approach, we model a users’ journey, so that we can not only anticipate a user’s next action but also the one after that.\n",
        "\n",
        "There are many ways we can frame the problem. Here are four possible neural network architectures to solve the problem:\n",
        "\n",
        "1.   Multi-class classification\n",
        "2.   Fixed-length RNN\n",
        "3. Variable-length RNN\n",
        "4. Multi-step prediction RNN\n",
        "\n",
        "Models 1 and 2 use a fixed number of historical actions to predict the next action, whereas Model 3 uses any number of previous actions to predict the next. Model 4 also uses a fixed number of previous actions but instead of predicting the next action, it predicts the next m actions.\n",
        "\n",
        "All models are trained using the this e-commerce [data set](https://www.kaggle.com/retailrocket/ecommerce-dataset).\n",
        "\n"
      ]
    },
    {
      "cell_type": "code",
      "metadata": {
        "id": "i7lmWYxUscXg",
        "colab_type": "code",
        "colab": {}
      },
      "source": [
        "import re\n",
        "import numpy as np\n",
        "import pandas as pd\n",
        "from pprint import pprint\n",
        "\n",
        "from sklearn.model_selection import train_test_split\n",
        "\n",
        "import matplotlib.pyplot as plt\n",
        "import matplotlib\n",
        "import pickle\n",
        "import bz2"
      ],
      "execution_count": 0,
      "outputs": []
    },
    {
      "cell_type": "code",
      "metadata": {
        "id": "1UlLuUz6s9lM",
        "colab_type": "code",
        "colab": {}
      },
      "source": [
        "import keras\n",
        "from keras.models import Sequential, Model\n",
        "from keras.layers import Input, LSTM, Dense, Average, Dropout, Embedding, Activation, TimeDistributed, Concatenate, Flatten, Lambda\n",
        "from keras.optimizers import Adam\n",
        "from keras.utils import to_categorical\n",
        "from keras.utils.vis_utils import plot_model"
      ],
      "execution_count": 0,
      "outputs": []
    },
    {
      "cell_type": "code",
      "metadata": {
        "id": "er2fpZ9Edm-6",
        "colab_type": "code",
        "outputId": "d0e0420e-afe9-4531-9be3-3be74d7759ee",
        "colab": {
          "base_uri": "https://localhost:8080/",
          "height": 121
        }
      },
      "source": [
        "from google.colab import drive\n",
        "drive.mount('/content/drive')"
      ],
      "execution_count": 0,
      "outputs": [
        {
          "output_type": "stream",
          "text": [
            "Go to this URL in a browser: https://accounts.google.com/o/oauth2/auth?client_id=947318989803-6bn6qk8qdgf4n4g3pfee6491hc0brc4i.apps.googleusercontent.com&redirect_uri=urn%3Aietf%3Awg%3Aoauth%3A2.0%3Aoob&scope=email%20https%3A%2F%2Fwww.googleapis.com%2Fauth%2Fdocs.test%20https%3A%2F%2Fwww.googleapis.com%2Fauth%2Fdrive%20https%3A%2F%2Fwww.googleapis.com%2Fauth%2Fdrive.photos.readonly%20https%3A%2F%2Fwww.googleapis.com%2Fauth%2Fpeopleapi.readonly&response_type=code\n",
            "\n",
            "Enter your authorization code:\n",
            "··········\n",
            "Mounted at /content/drive\n"
          ],
          "name": "stdout"
        }
      ]
    },
    {
      "cell_type": "code",
      "metadata": {
        "id": "Jiq-a2BAp8D1",
        "colab_type": "code",
        "colab": {}
      },
      "source": [
        "%run utils.py"
      ],
      "execution_count": 0,
      "outputs": []
    },
    {
      "cell_type": "markdown",
      "metadata": {
        "id": "00FbuJgjw6w4",
        "colab_type": "text"
      },
      "source": [
        "## Data Preparation\n",
        "\n",
        "Each model will require a different data preparation, but we will start by reading in the data."
      ]
    },
    {
      "cell_type": "code",
      "metadata": {
        "id": "vfML1r4FxGRD",
        "colab_type": "code",
        "outputId": "4d1a945e-b6ee-4909-bc82-e5689e5b18cf",
        "colab": {
          "base_uri": "https://localhost:8080/",
          "height": 195
        }
      },
      "source": [
        "df = pd.read_csv(\"events.csv\")\n",
        "\n",
        "#sort the dataframe by time\n",
        "df.sort_values(by=\"timestamp\", inplace=True)\n",
        "df.head()"
      ],
      "execution_count": 0,
      "outputs": [
        {
          "output_type": "execute_result",
          "data": {
            "text/html": [
              "<div>\n",
              "<style scoped>\n",
              "    .dataframe tbody tr th:only-of-type {\n",
              "        vertical-align: middle;\n",
              "    }\n",
              "\n",
              "    .dataframe tbody tr th {\n",
              "        vertical-align: top;\n",
              "    }\n",
              "\n",
              "    .dataframe thead th {\n",
              "        text-align: right;\n",
              "    }\n",
              "</style>\n",
              "<table border=\"1\" class=\"dataframe\">\n",
              "  <thead>\n",
              "    <tr style=\"text-align: right;\">\n",
              "      <th></th>\n",
              "      <th>timestamp</th>\n",
              "      <th>visitorid</th>\n",
              "      <th>event</th>\n",
              "      <th>itemid</th>\n",
              "      <th>transactionid</th>\n",
              "    </tr>\n",
              "  </thead>\n",
              "  <tbody>\n",
              "    <tr>\n",
              "      <th>1462974</th>\n",
              "      <td>1430622004384</td>\n",
              "      <td>693516</td>\n",
              "      <td>addtocart</td>\n",
              "      <td>297662</td>\n",
              "      <td>NaN</td>\n",
              "    </tr>\n",
              "    <tr>\n",
              "      <th>1464806</th>\n",
              "      <td>1430622011289</td>\n",
              "      <td>829044</td>\n",
              "      <td>view</td>\n",
              "      <td>60987</td>\n",
              "      <td>NaN</td>\n",
              "    </tr>\n",
              "    <tr>\n",
              "      <th>1463000</th>\n",
              "      <td>1430622013048</td>\n",
              "      <td>652699</td>\n",
              "      <td>view</td>\n",
              "      <td>252860</td>\n",
              "      <td>NaN</td>\n",
              "    </tr>\n",
              "    <tr>\n",
              "      <th>1465287</th>\n",
              "      <td>1430622024154</td>\n",
              "      <td>1125936</td>\n",
              "      <td>view</td>\n",
              "      <td>33661</td>\n",
              "      <td>NaN</td>\n",
              "    </tr>\n",
              "    <tr>\n",
              "      <th>1462955</th>\n",
              "      <td>1430622026228</td>\n",
              "      <td>693516</td>\n",
              "      <td>view</td>\n",
              "      <td>297662</td>\n",
              "      <td>NaN</td>\n",
              "    </tr>\n",
              "  </tbody>\n",
              "</table>\n",
              "</div>"
            ],
            "text/plain": [
              "             timestamp  visitorid      event  itemid  transactionid\n",
              "1462974  1430622004384     693516  addtocart  297662            NaN\n",
              "1464806  1430622011289     829044       view   60987            NaN\n",
              "1463000  1430622013048     652699       view  252860            NaN\n",
              "1465287  1430622024154    1125936       view   33661            NaN\n",
              "1462955  1430622026228     693516       view  297662            NaN"
            ]
          },
          "metadata": {
            "tags": []
          },
          "execution_count": 3
        }
      ]
    },
    {
      "cell_type": "code",
      "metadata": {
        "id": "UoC-P7sYxQYX",
        "colab_type": "code",
        "outputId": "66530680-6f80-4bfc-c2ba-72f5efb6581a",
        "colab": {
          "base_uri": "https://localhost:8080/",
          "height": 34
        }
      },
      "source": [
        "# get all the visitor_ids\n",
        "visitor_ids = df.visitorid.unique()\n",
        "\n",
        "print(\"There are {} users\".format(len(visitor_ids)))"
      ],
      "execution_count": 0,
      "outputs": [
        {
          "output_type": "stream",
          "text": [
            "There are 1407580 users\n"
          ],
          "name": "stdout"
        }
      ]
    },
    {
      "cell_type": "code",
      "metadata": {
        "id": "RKdIig2DxoG_",
        "colab_type": "code",
        "outputId": "73d31ebe-3e95-4d14-e00d-f2d6fc833057",
        "colab": {
          "base_uri": "https://localhost:8080/",
          "height": 84
        }
      },
      "source": [
        "# inspect action distribution\n",
        "df.event.value_counts()"
      ],
      "execution_count": 0,
      "outputs": [
        {
          "output_type": "execute_result",
          "data": {
            "text/plain": [
              "view           2664312\n",
              "addtocart        69332\n",
              "transaction      22457\n",
              "Name: event, dtype: int64"
            ]
          },
          "metadata": {
            "tags": []
          },
          "execution_count": 5
        }
      ]
    },
    {
      "cell_type": "code",
      "metadata": {
        "id": "wQUbzn4-4Mq9",
        "colab_type": "code",
        "colab": {}
      },
      "source": [
        "# encode actions to numbers\n",
        "action_to_idx = {\"view\": 0, \"addtocart\": 1, \"transaction\": 2}"
      ],
      "execution_count": 0,
      "outputs": []
    },
    {
      "cell_type": "markdown",
      "metadata": {
        "id": "TNHVIC_y5brq",
        "colab_type": "text"
      },
      "source": [
        "#### User Activity\n",
        "\n",
        "For models 1, 2 and 4 we want to rearrange the data so each row is one user and his/her sequence of actions."
      ]
    },
    {
      "cell_type": "code",
      "metadata": {
        "id": "nX_K2y6Q75Y7",
        "colab_type": "code",
        "colab": {}
      },
      "source": [
        "visitor_activity = pickle.load(bz2.BZ2File('visitor_activity.pkl', 'r'))"
      ],
      "execution_count": 0,
      "outputs": []
    },
    {
      "cell_type": "code",
      "metadata": {
        "id": "HMaW7q4-6Btl",
        "colab_type": "code",
        "colab": {}
      },
      "source": [
        "# creating dictionary of visitor sequence of activity\n",
        "visitor_activity = {}\n",
        "\n",
        "for visitor in visitor_ids:\n",
        "  # get user's actions in order of time\n",
        "  actions = df[df.visitorid == visitor].event.values\n",
        "  \n",
        "  if len(actions) > 10:\n",
        "    # get the first 51 actions\n",
        "    actions = list(map(lambda x: action_to_idx[x],actions)) [:11] \n",
        "    visitor_activity[visitor] = actions"
      ],
      "execution_count": 0,
      "outputs": []
    },
    {
      "cell_type": "markdown",
      "metadata": {
        "id": "INNL1BvYn6tj",
        "colab_type": "text"
      },
      "source": [
        "#### User sessions\n",
        "\n",
        "For model 3, each row is a user session, where a new session starts after 30 minutes and each session has at least two actions so that we can use the last action as the target action to predict. This scenario most closely resembles user online activity.\n",
        "\n",
        "The following code creates a dictionary of sessions for each user."
      ]
    },
    {
      "cell_type": "code",
      "metadata": {
        "id": "FgJnhzLubVij",
        "colab_type": "code",
        "colab": {}
      },
      "source": [
        "visitor_sessions = pickle.load(bz2.BZ2File('visitor_sessions.pkl', 'r'))"
      ],
      "execution_count": 0,
      "outputs": []
    },
    {
      "cell_type": "code",
      "metadata": {
        "id": "EibwSCSqG0UE",
        "colab_type": "code",
        "colab": {}
      },
      "source": [
        "#30 mins in miliseconds \n",
        "session_expire = 60*30*1000\n",
        "\n",
        "visitor_sessions = {}\n",
        "\n",
        "for visitor in visitor_ids[:100000]:\n",
        "    # calculate time deltas between actions\n",
        "    time_delta = df[df.visitorid == visitor].timestamp.diff()\n",
        "    actions = df[df.visitorid == visitor].event.values\n",
        "\n",
        "    if len(actions) > 1:\n",
        "      # split actions into sessions, where a session ends after session_expire\n",
        "      all_sessions = np.split(actions,np.where(time_delta >= session_expire)[0])\n",
        "\n",
        "      # sessions with more than one action\n",
        "      filtered_sessions = list(filter(lambda x: len(x) > 1, all_sessions))\n",
        "\n",
        "      if len(filtered_sessions) > 0:\n",
        "        visitor_sessions[visitor] = list(map(lambda x: list(map(lambda y: action_to_idx[y],x)) ,filtered_sessions))\n"
      ],
      "execution_count": 0,
      "outputs": []
    },
    {
      "cell_type": "code",
      "metadata": {
        "id": "jylpF7jqDChl",
        "colab_type": "code",
        "colab": {}
      },
      "source": [
        "# pickle.dump( visitor_sessions, bz2.BZ2File('/content/drive/My Drive/Colab Notebooks/visitor_sessions.pkl', 'w') )"
      ],
      "execution_count": 0,
      "outputs": []
    },
    {
      "cell_type": "code",
      "metadata": {
        "id": "KLYILSdUikRe",
        "colab_type": "code",
        "colab": {}
      },
      "source": [
        "pickle.dump(visitor_activity, bz2.BZ2File('visitor_activity.pkl','w'))"
      ],
      "execution_count": 0,
      "outputs": []
    },
    {
      "cell_type": "markdown",
      "metadata": {
        "id": "nhIsMFV58MXz",
        "colab_type": "text"
      },
      "source": [
        "#### Create the training data and labels\n",
        "\n",
        "Dataset 1: Here, we use the first n actions and predict the n+1 action as the label"
      ]
    },
    {
      "cell_type": "code",
      "metadata": {
        "id": "_-FON4HcC591",
        "colab_type": "code",
        "colab": {}
      },
      "source": [
        "actions = visitor_activity.values()\n",
        "d = np.array(range(len(actions))) # users\n",
        "X = np.array(list(map(lambda x: x[:-1], actions))) #actions for each user\n",
        "y = to_categorical(np.array(list(map(lambda x: x[10], actions))), num_classes=3) # shift sequence one step forward"
      ],
      "execution_count": 0,
      "outputs": []
    },
    {
      "cell_type": "markdown",
      "metadata": {
        "id": "7_DmeRJDar5Z",
        "colab_type": "text"
      },
      "source": [
        "Dataset 2: We create samples of n actions and try to predict the next n actions"
      ]
    },
    {
      "cell_type": "code",
      "metadata": {
        "id": "Fm8_yuMq_D5l",
        "colab_type": "code",
        "outputId": "8a757be2-19a3-4e74-bcd6-3c9a6e9f4361",
        "colab": {
          "base_uri": "https://localhost:8080/",
          "height": 50
        }
      },
      "source": [
        "\n",
        "timesteps = 10\n",
        "lag = 1\n",
        "\n",
        "def generate_timeseries(actions, timesteps, lag):\n",
        "  ts = np.array(list(actions))\n",
        "  X_ts = []\n",
        "  y_ts = []\n",
        "\n",
        "  for i in range(len(actions)):\n",
        "    for j in range(0,len(ts[i])):\n",
        "      x_start_idx = j\n",
        "      x_end_idx = x_start_idx + timesteps\n",
        "\n",
        "      y_start_idx = x_start_idx + lag \n",
        "      y_end_idx = y_start_idx + timesteps\n",
        "\n",
        "      # print(x_start_idx, x_end_idx, y_start_idx, y_end_idx)\n",
        "      #get a sequence of timesteps actions\n",
        "      if y_end_idx <= len(ts[i]):\n",
        "        x_input = ts[i,x_start_idx:x_end_idx]\n",
        "        y_output = to_categorical(ts[i,y_start_idx:y_end_idx], num_classes=3)\n",
        "        X_ts.append(x_input)\n",
        "        y_ts.append(y_output)\n",
        "    \n",
        "  X_ts = np.array(X_ts)\n",
        "  y_ts = np.array(y_ts)\n",
        "\n",
        "  return X_ts, y_ts\n",
        "\n",
        "X_ts, y_ts = generate_timeseries(actions, timesteps, timesteps)\n",
        "print(X_ts.shape)\n",
        "print(y_ts.shape)"
      ],
      "execution_count": 15,
      "outputs": [
        {
          "output_type": "stream",
          "text": [
            "(39200, 10)\n",
            "(39200, 10, 3)\n"
          ],
          "name": "stdout"
        }
      ]
    },
    {
      "cell_type": "markdown",
      "metadata": {
        "id": "ZwncSNVHm3lq",
        "colab_type": "text"
      },
      "source": [
        "Dataset 3: Using the dictoinary of user sessions, we reformat the data to one session per row."
      ]
    },
    {
      "cell_type": "code",
      "metadata": {
        "id": "DDx2LEiFThhO",
        "colab_type": "code",
        "colab": {}
      },
      "source": [
        "sessions = visitor_sessions.values()\n",
        "sessions_flat = [item for sublist in sessions for item in sublist]"
      ],
      "execution_count": 0,
      "outputs": []
    },
    {
      "cell_type": "code",
      "metadata": {
        "id": "Y9aQfZOculjp",
        "colab_type": "code",
        "outputId": "58953a55-4f44-48c2-94ea-88f33e4f03ff",
        "colab": {
          "base_uri": "https://localhost:8080/",
          "height": 50
        }
      },
      "source": [
        "# assigning user_ids to each session\n",
        "d_flat = [[i]*len(visitor_sessions[user_id]) for i, user_id in zip(range(len(sessions)),visitor_sessions.keys())]\n",
        "d_flat = np.array([item for sublist in d_flat for item in sublist])\n",
        "\n",
        "# using the last action as the label\n",
        "X_sessions = np.array(list(map(lambda x: np.array(x[:-1]), sessions_flat)))\n",
        "y_sessions = to_categorical(np.array(list(map(lambda x: x[-1], sessions_flat))),num_classes=3)\n",
        "num_users_sessions = len(visitor_sessions)\n",
        "print(X_sessions.shape)\n",
        "print(y_sessions.shape)"
      ],
      "execution_count": 20,
      "outputs": [
        {
          "output_type": "stream",
          "text": [
            "(40000,)\n",
            "(40000, 3)\n"
          ],
          "name": "stdout"
        }
      ]
    },
    {
      "cell_type": "markdown",
      "metadata": {
        "id": "xaGFnC4Pp4_I",
        "colab_type": "text"
      },
      "source": [
        "Create training and test sets"
      ]
    },
    {
      "cell_type": "code",
      "metadata": {
        "id": "xygzVS7PEJ-x",
        "colab_type": "code",
        "colab": {}
      },
      "source": [
        "X_train, X_test, y_train, y_test = train_test_split(X,y, test_size = 0.2, random_state=342,stratify=y)"
      ],
      "execution_count": 0,
      "outputs": []
    },
    {
      "cell_type": "code",
      "metadata": {
        "id": "ygPq1_Ysdw6z",
        "colab_type": "code",
        "colab": {}
      },
      "source": [
        "X_ts_train, X_ts_test, y_ts_train, y_ts_test = train_test_split(X_ts,y_ts, test_size = 0.2, random_state=342)"
      ],
      "execution_count": 0,
      "outputs": []
    },
    {
      "cell_type": "code",
      "metadata": {
        "id": "5_Nd74rixDTj",
        "colab_type": "code",
        "colab": {}
      },
      "source": [
        "X_sessions_train, X_sessions_test,y_sessions_train, y_sessions_test = train_test_split(X_sessions,y_sessions, test_size = 0.2, random_state=342,stratify=y_sessions)"
      ],
      "execution_count": 0,
      "outputs": []
    },
    {
      "cell_type": "code",
      "metadata": {
        "id": "6hbOBu_yyv2B",
        "colab_type": "code",
        "colab": {}
      },
      "source": [
        "X_sessions_train, X_sessions_val,y_sessions_train, y_sessions_val = train_test_split(X_sessions_train,y_sessions_train, test_size = 0.2, random_state=342,stratify=y_sessions_train)"
      ],
      "execution_count": 0,
      "outputs": []
    },
    {
      "cell_type": "markdown",
      "metadata": {
        "id": "fM0mJEpeyVlS",
        "colab_type": "text"
      },
      "source": [
        "## Build the models"
      ]
    },
    {
      "cell_type": "markdown",
      "metadata": {
        "id": "Y_2G0tse1I3D",
        "colab_type": "text"
      },
      "source": [
        "### Using the Keras functional API"
      ]
    },
    {
      "cell_type": "markdown",
      "metadata": {
        "id": "lvjz4Z951nPY",
        "colab_type": "text"
      },
      "source": [
        "We treat each user action like a word. In this data set, there are three types of actions:\n",
        "\n",
        "\n",
        "* view\n",
        "* add to cart\n",
        "* transaction\n",
        "\n",
        "Therefore, the size of the vocabulary is 3. A user's sequence of actions, or her journey, is liken to a sentence/paragraph.\n",
        "\n",
        "We want to embed these actions into vectors to help predict the next action. \n",
        "\n",
        "#### Model 1: Multi-class classification\n",
        "The first model will embed the actions and user's journey to help predict the next action. This is similar to a multi-class classification problem.\n",
        "\n"
      ]
    },
    {
      "cell_type": "code",
      "metadata": {
        "id": "TxJ12UDXt7Gr",
        "colab_type": "code",
        "colab": {
          "base_uri": "https://localhost:8080/",
          "height": 212
        },
        "outputId": "fd692dcf-c43a-4bd7-95b8-ffdc4feeaf9e"
      },
      "source": [
        "hidden_size = 128 #dimension of action vectors\n",
        "num_actions = len(action_to_idx) #dictionary size\n",
        "input_length = 10 # number of actions in input sequence\n",
        "num_users = len(visitor_activity)"
      ],
      "execution_count": 9,
      "outputs": [
        {
          "output_type": "error",
          "ename": "NameError",
          "evalue": "ignored",
          "traceback": [
            "\u001b[0;31m---------------------------------------------------------------------------\u001b[0m",
            "\u001b[0;31mNameError\u001b[0m                                 Traceback (most recent call last)",
            "\u001b[0;32m<ipython-input-9-32b7ef48ff2b>\u001b[0m in \u001b[0;36m<module>\u001b[0;34m()\u001b[0m\n\u001b[1;32m      1\u001b[0m \u001b[0mhidden_size\u001b[0m \u001b[0;34m=\u001b[0m \u001b[0;36m128\u001b[0m \u001b[0;31m#dimension of action vectors\u001b[0m\u001b[0;34m\u001b[0m\u001b[0;34m\u001b[0m\u001b[0m\n\u001b[0;32m----> 2\u001b[0;31m \u001b[0mnum_actions\u001b[0m \u001b[0;34m=\u001b[0m \u001b[0mlen\u001b[0m\u001b[0;34m(\u001b[0m\u001b[0maction_to_idx\u001b[0m\u001b[0;34m)\u001b[0m \u001b[0;31m#dictionary size\u001b[0m\u001b[0;34m\u001b[0m\u001b[0;34m\u001b[0m\u001b[0m\n\u001b[0m\u001b[1;32m      3\u001b[0m \u001b[0minput_length\u001b[0m \u001b[0;34m=\u001b[0m \u001b[0;36m10\u001b[0m \u001b[0;31m# number of actions in input sequence\u001b[0m\u001b[0;34m\u001b[0m\u001b[0;34m\u001b[0m\u001b[0m\n\u001b[1;32m      4\u001b[0m \u001b[0mnum_users\u001b[0m \u001b[0;34m=\u001b[0m \u001b[0mlen\u001b[0m\u001b[0;34m(\u001b[0m\u001b[0mvisitor_activity\u001b[0m\u001b[0;34m)\u001b[0m\u001b[0;34m\u001b[0m\u001b[0;34m\u001b[0m\u001b[0m\n",
            "\u001b[0;31mNameError\u001b[0m: name 'action_to_idx' is not defined"
          ]
        }
      ]
    },
    {
      "cell_type": "code",
      "metadata": {
        "id": "lEUKZOnDe0rm",
        "colab_type": "code",
        "outputId": "2c406fd6-427c-4eeb-c9ac-f38ef0dc374c",
        "colab": {
          "base_uri": "https://localhost:8080/",
          "height": 538
        }
      },
      "source": [
        "#Create the NN using the functional API\n",
        "\n",
        "def nn_model(input_length, num_units, num_actions, num_users=None):\n",
        "\n",
        "  # Input sequence of actions\n",
        "  A = Input(shape=(input_length,), name=\"actions\") #length of sequence, size of vocab\n",
        "\n",
        "  #create embedding for actions\n",
        "  x = Embedding(input_dim=num_actions, output_dim=num_units, input_length=input_length, name='action_embedding')(A) # shape 50,64\n",
        "  \n",
        "  if num_users is not None:\n",
        "    U = Input(shape=(1,), name=\"users\")\n",
        "    u = Embedding(input_dim=num_users, output_dim=num_units, input_length=1, name='user_embedding')(U) # shape 1,64\n",
        "    \n",
        "    # concatenate embeddings\n",
        "    x = Concatenate(axis=1)([u,x])\n",
        "\n",
        "  # create the hidden layers\n",
        "  x = Dense(num_units, activation='relu')(x)\n",
        "\n",
        "  if num_users is None:\n",
        "    split = Lambda(my_split(input_length-1))(x)\n",
        "  else:\n",
        "    split = Lambda(my_split(input_length))(x)\n",
        "\n",
        "  averaged = Average()(split)\n",
        "  squeezed = Lambda(squeeze(axis=1))(averaged)\n",
        "\n",
        "  predictions = Dense(num_actions, activation='softmax')(squeezed)\n",
        "\n",
        "  if num_users is None:\n",
        "    m = Model(inputs=A, outputs=predictions, name='Plain NN')\n",
        "  else:\n",
        "    m = Model(inputs=[U,A], outputs=predictions, name='Plain NN')\n",
        "\n",
        "  return m\n",
        "\n",
        "model = nn_model(input_length=10, num_units=hidden_size, num_actions=num_actions)\n",
        "model.summary()\n",
        "# plot_model(model, to_file='model.png', show_shapes=True, show_layer_names=True)"
      ],
      "execution_count": 82,
      "outputs": [
        {
          "output_type": "stream",
          "text": [
            "Model: \"Plain NN\"\n",
            "__________________________________________________________________________________________________\n",
            "Layer (type)                    Output Shape         Param #     Connected to                     \n",
            "==================================================================================================\n",
            "actions (InputLayer)            (None, 10)           0                                            \n",
            "__________________________________________________________________________________________________\n",
            "action_embedding (Embedding)    (None, 10, 128)      384         actions[0][0]                    \n",
            "__________________________________________________________________________________________________\n",
            "dense_10 (Dense)                (None, 10, 128)      16512       action_embedding[0][0]           \n",
            "__________________________________________________________________________________________________\n",
            "lambda_7 (Lambda)               [(None, 1, 128), (No 0           dense_10[0][0]                   \n",
            "__________________________________________________________________________________________________\n",
            "average_4 (Average)             (None, 1, 128)       0           lambda_7[0][0]                   \n",
            "                                                                 lambda_7[0][1]                   \n",
            "                                                                 lambda_7[0][2]                   \n",
            "                                                                 lambda_7[0][3]                   \n",
            "                                                                 lambda_7[0][4]                   \n",
            "                                                                 lambda_7[0][5]                   \n",
            "                                                                 lambda_7[0][6]                   \n",
            "                                                                 lambda_7[0][7]                   \n",
            "                                                                 lambda_7[0][8]                   \n",
            "                                                                 lambda_7[0][9]                   \n",
            "__________________________________________________________________________________________________\n",
            "lambda_8 (Lambda)               (None, 128)          0           average_4[0][0]                  \n",
            "__________________________________________________________________________________________________\n",
            "dense_11 (Dense)                (None, 3)            387         lambda_8[0][0]                   \n",
            "==================================================================================================\n",
            "Total params: 17,283\n",
            "Trainable params: 17,283\n",
            "Non-trainable params: 0\n",
            "__________________________________________________________________________________________________\n"
          ],
          "name": "stdout"
        }
      ]
    },
    {
      "cell_type": "code",
      "metadata": {
        "id": "raV1uFssMs6U",
        "colab_type": "code",
        "colab": {}
      },
      "source": [
        "opt = Adam(lr=0.001, beta_1=0.9, beta_2=0.999, decay=0.01)\n",
        "\n",
        "model.compile(optimizer=opt, loss='categorical_crossentropy', metrics=['accuracy'], weighted_metrics=['accuracy'])\n",
        "h = model.fit(X_train, y_train, epochs=50, batch_size=128, validation_split=0.1, verbose=0,  class_weight={0:0.1, 1: 0.3, 2:0.6})"
      ],
      "execution_count": 0,
      "outputs": []
    },
    {
      "cell_type": "code",
      "metadata": {
        "id": "ZIMhSgk1IRo_",
        "colab_type": "code",
        "outputId": "73f84ca5-f6cb-4bfa-ce6a-6ba1b36b1334",
        "colab": {
          "base_uri": "https://localhost:8080/",
          "height": 545
        }
      },
      "source": [
        "plot_learning_graphs(h.history)"
      ],
      "execution_count": 98,
      "outputs": [
        {
          "output_type": "display_data",
          "data": {
            "image/png": "[encoded data removed]",
            "text/plain": [
              "<Figure size 432x288 with 1 Axes>"
            ]
          },
          "metadata": {
            "tags": []
          }
        },
        {
          "output_type": "display_data",
          "data": {
            "image/png": "[encoded data removed]",
            "text/plain": [
              "<Figure size 432x288 with 1 Axes>"
            ]
          },
          "metadata": {
            "tags": []
          }
        }
      ]
    },
    {
      "cell_type": "markdown",
      "metadata": {
        "id": "IhE2v5il4J0E",
        "colab_type": "text"
      },
      "source": [
        "#### Model 2: Fixed-length RNN\n",
        "Next we build an RNN which will take into account the order of a user's actions to predict the next action."
      ]
    },
    {
      "cell_type": "code",
      "metadata": {
        "id": "Z0bXCYMFkj6t",
        "colab_type": "code",
        "outputId": "03296167-7564-47a2-d54c-d516db18ab10",
        "colab": {
          "base_uri": "https://localhost:8080/",
          "height": 691
        }
      },
      "source": [
        "#Create the NN network using the functional API\n",
        "\n",
        "def rnn_model(input_length, num_units, num_actions):\n",
        "  # sequence of actions\n",
        "  A = Input(shape=(input_length,), name=\"actions\") #length of sequence\n",
        "\n",
        "  #create embedding for actions\n",
        "  a = Embedding(input_dim=num_actions, output_dim=5, name='action_embedding')(A) # shape 50,64\n",
        "\n",
        "  #add LSTM Layer\n",
        "  L = LSTM(num_units,return_sequences=False)(a)\n",
        "\n",
        "  #add regular NN layer\n",
        "  predictions = Dense(num_actions, activation='softmax')(L)\n",
        "\n",
        "  return Model(inputs=A, outputs=predictions, name='RNN_model')\n",
        "\n",
        "model2 = rnn_model(10, 64, 3)\n",
        "model2.summary()\n",
        "plot_model(model2, show_shapes=True, show_layer_names=True)"
      ],
      "execution_count": 6,
      "outputs": [
        {
          "output_type": "stream",
          "text": [
            "Model: \"RNN_model\"\n",
            "_________________________________________________________________\n",
            "Layer (type)                 Output Shape              Param #   \n",
            "=================================================================\n",
            "actions (InputLayer)         (None, 10)                0         \n",
            "_________________________________________________________________\n",
            "action_embedding (Embedding) (None, 10, 5)             15        \n",
            "_________________________________________________________________\n",
            "lstm_3 (LSTM)                (None, 64)                17920     \n",
            "_________________________________________________________________\n",
            "dense_3 (Dense)              (None, 3)                 195       \n",
            "=================================================================\n",
            "Total params: 18,130\n",
            "Trainable params: 18,130\n",
            "Non-trainable params: 0\n",
            "_________________________________________________________________\n"
          ],
          "name": "stdout"
        },
        {
          "output_type": "execute_result",
          "data": {
            "image/png": "[encoded data removed]",
            "text/plain": [
              "<IPython.core.display.Image object>"
            ]
          },
          "metadata": {
            "tags": []
          },
          "execution_count": 6
        }
      ]
    },
    {
      "cell_type": "code",
      "metadata": {
        "id": "ZL1EUsNkcsTb",
        "colab_type": "code",
        "colab": {}
      },
      "source": [
        "# create the optimizer\n",
        "opt2 = Adam(lr=0.001, beta_1=0.9, beta_2=0.999)\n",
        "\n",
        "model2.compile(optimizer=opt2, loss='categorical_crossentropy', metrics=['accuracy'], weighted_metrics=['accuracy'])"
      ],
      "execution_count": 0,
      "outputs": []
    },
    {
      "cell_type": "code",
      "metadata": {
        "id": "zjOxEaxisHfm",
        "colab_type": "code",
        "outputId": "89aa62b1-50f5-4b8e-cea9-389df98080ab",
        "colab": {
          "base_uri": "https://localhost:8080/",
          "height": 1000
        }
      },
      "source": [
        "h2 = model2.fit(X_train, y_train, epochs=50, batch_size=128, class_weight={0:0.1, 1: 0.3, 2:0.6}, validation_split=0.1, verbose=1)"
      ],
      "execution_count": 104,
      "outputs": [
        {
          "output_type": "stream",
          "text": [
            "Train on 14098 samples, validate on 1567 samples\n",
            "Epoch 1/50\n",
            "14098/14098 [==============================] - 8s 568us/step - loss: 0.0725 - acc: 0.9058 - weighted_acc: 0.0942 - val_loss: 0.0592 - val_acc: 0.9024 - val_weighted_acc: 0.0960\n",
            "Epoch 2/50\n",
            "14098/14098 [==============================] - 5s 342us/step - loss: 0.0606 - acc: 0.9009 - weighted_acc: 0.0999 - val_loss: 0.0578 - val_acc: 0.8902 - val_weighted_acc: 0.0971\n",
            "Epoch 3/50\n",
            "14098/14098 [==============================] - 5s 322us/step - loss: 0.0581 - acc: 0.8988 - weighted_acc: 0.1007 - val_loss: 0.0556 - val_acc: 0.8890 - val_weighted_acc: 0.0970\n",
            "Epoch 4/50\n",
            "14098/14098 [==============================] - 4s 316us/step - loss: 0.0578 - acc: 0.8976 - weighted_acc: 0.1006 - val_loss: 0.0553 - val_acc: 0.8934 - val_weighted_acc: 0.0974\n",
            "Epoch 5/50\n",
            "14098/14098 [==============================] - 4s 317us/step - loss: 0.0574 - acc: 0.9000 - weighted_acc: 0.1007 - val_loss: 0.0551 - val_acc: 0.8915 - val_weighted_acc: 0.0971\n",
            "Epoch 6/50\n",
            "14098/14098 [==============================] - 4s 310us/step - loss: 0.0573 - acc: 0.9001 - weighted_acc: 0.1007 - val_loss: 0.0545 - val_acc: 0.9011 - val_weighted_acc: 0.0977\n",
            "Epoch 7/50\n",
            "14098/14098 [==============================] - 4s 311us/step - loss: 0.0565 - acc: 0.9025 - weighted_acc: 0.1008 - val_loss: 0.0545 - val_acc: 0.9030 - val_weighted_acc: 0.0976\n",
            "Epoch 8/50\n",
            "14098/14098 [==============================] - 4s 307us/step - loss: 0.0563 - acc: 0.9064 - weighted_acc: 0.1011 - val_loss: 0.0543 - val_acc: 0.9030 - val_weighted_acc: 0.0976\n",
            "Epoch 9/50\n",
            "14098/14098 [==============================] - 5s 329us/step - loss: 0.0560 - acc: 0.9067 - weighted_acc: 0.1011 - val_loss: 0.0543 - val_acc: 0.8985 - val_weighted_acc: 0.0978\n",
            "Epoch 10/50\n",
            "14098/14098 [==============================] - 5s 338us/step - loss: 0.0560 - acc: 0.9070 - weighted_acc: 0.1009 - val_loss: 0.0542 - val_acc: 0.8998 - val_weighted_acc: 0.0976\n",
            "Epoch 11/50\n",
            "14098/14098 [==============================] - 4s 310us/step - loss: 0.0559 - acc: 0.9076 - weighted_acc: 0.1009 - val_loss: 0.0544 - val_acc: 0.8992 - val_weighted_acc: 0.0965\n",
            "Epoch 12/50\n",
            "14098/14098 [==============================] - 4s 319us/step - loss: 0.0556 - acc: 0.9114 - weighted_acc: 0.1013 - val_loss: 0.0539 - val_acc: 0.9043 - val_weighted_acc: 0.0965\n",
            "Epoch 13/50\n",
            "14098/14098 [==============================] - 4s 319us/step - loss: 0.0554 - acc: 0.9117 - weighted_acc: 0.1012 - val_loss: 0.0544 - val_acc: 0.8953 - val_weighted_acc: 0.0959\n",
            "Epoch 14/50\n",
            "14098/14098 [==============================] - 4s 313us/step - loss: 0.0554 - acc: 0.9119 - weighted_acc: 0.1013 - val_loss: 0.0541 - val_acc: 0.8998 - val_weighted_acc: 0.0959\n",
            "Epoch 15/50\n",
            "14098/14098 [==============================] - 4s 309us/step - loss: 0.0550 - acc: 0.9108 - weighted_acc: 0.1016 - val_loss: 0.0540 - val_acc: 0.9132 - val_weighted_acc: 0.0971\n",
            "Epoch 16/50\n",
            "14098/14098 [==============================] - 4s 310us/step - loss: 0.0552 - acc: 0.9116 - weighted_acc: 0.1013 - val_loss: 0.0554 - val_acc: 0.9068 - val_weighted_acc: 0.0964\n",
            "Epoch 17/50\n",
            "14098/14098 [==============================] - 4s 313us/step - loss: 0.0549 - acc: 0.9122 - weighted_acc: 0.1015 - val_loss: 0.0546 - val_acc: 0.9100 - val_weighted_acc: 0.0966\n",
            "Epoch 18/50\n",
            "14098/14098 [==============================] - 5s 321us/step - loss: 0.0546 - acc: 0.9123 - weighted_acc: 0.1016 - val_loss: 0.0551 - val_acc: 0.9068 - val_weighted_acc: 0.0964\n",
            "Epoch 19/50\n",
            "14098/14098 [==============================] - 4s 313us/step - loss: 0.0546 - acc: 0.9154 - weighted_acc: 0.1016 - val_loss: 0.0550 - val_acc: 0.9024 - val_weighted_acc: 0.0959\n",
            "Epoch 20/50\n",
            "14098/14098 [==============================] - 5s 328us/step - loss: 0.0542 - acc: 0.9118 - weighted_acc: 0.1018 - val_loss: 0.0547 - val_acc: 0.9087 - val_weighted_acc: 0.0966\n",
            "Epoch 21/50\n",
            "14098/14098 [==============================] - 5s 321us/step - loss: 0.0541 - acc: 0.9142 - weighted_acc: 0.1018 - val_loss: 0.0549 - val_acc: 0.9017 - val_weighted_acc: 0.0963\n",
            "Epoch 22/50\n",
            "14098/14098 [==============================] - 5s 339us/step - loss: 0.0538 - acc: 0.9130 - weighted_acc: 0.1017 - val_loss: 0.0554 - val_acc: 0.8947 - val_weighted_acc: 0.0955\n",
            "Epoch 23/50\n",
            "14098/14098 [==============================] - 5s 339us/step - loss: 0.0537 - acc: 0.9089 - weighted_acc: 0.1017 - val_loss: 0.0547 - val_acc: 0.9036 - val_weighted_acc: 0.0968\n",
            "Epoch 24/50\n",
            "14098/14098 [==============================] - 4s 313us/step - loss: 0.0535 - acc: 0.9137 - weighted_acc: 0.1020 - val_loss: 0.0551 - val_acc: 0.9017 - val_weighted_acc: 0.0959\n",
            "Epoch 25/50\n",
            "14098/14098 [==============================] - 4s 318us/step - loss: 0.0532 - acc: 0.9143 - weighted_acc: 0.1021 - val_loss: 0.0558 - val_acc: 0.9049 - val_weighted_acc: 0.0963\n",
            "Epoch 26/50\n",
            "14098/14098 [==============================] - 4s 313us/step - loss: 0.0531 - acc: 0.9133 - weighted_acc: 0.1021 - val_loss: 0.0559 - val_acc: 0.9094 - val_weighted_acc: 0.0966\n",
            "Epoch 27/50\n",
            "14098/14098 [==============================] - 4s 310us/step - loss: 0.0529 - acc: 0.9139 - weighted_acc: 0.1024 - val_loss: 0.0548 - val_acc: 0.9119 - val_weighted_acc: 0.0969\n",
            "Epoch 28/50\n",
            "14098/14098 [==============================] - 4s 311us/step - loss: 0.0526 - acc: 0.9108 - weighted_acc: 0.1023 - val_loss: 0.0556 - val_acc: 0.9024 - val_weighted_acc: 0.0959\n",
            "Epoch 29/50\n",
            "14098/14098 [==============================] - 4s 318us/step - loss: 0.0524 - acc: 0.9113 - weighted_acc: 0.1022 - val_loss: 0.0560 - val_acc: 0.9011 - val_weighted_acc: 0.0960\n",
            "Epoch 30/50\n",
            "14098/14098 [==============================] - 4s 310us/step - loss: 0.0522 - acc: 0.9145 - weighted_acc: 0.1023 - val_loss: 0.0553 - val_acc: 0.9011 - val_weighted_acc: 0.0959\n",
            "Epoch 31/50\n",
            "14098/14098 [==============================] - 5s 333us/step - loss: 0.0517 - acc: 0.9154 - weighted_acc: 0.1026 - val_loss: 0.0559 - val_acc: 0.8998 - val_weighted_acc: 0.0958\n",
            "Epoch 32/50\n",
            "14098/14098 [==============================] - 5s 351us/step - loss: 0.0519 - acc: 0.9126 - weighted_acc: 0.1026 - val_loss: 0.0554 - val_acc: 0.9049 - val_weighted_acc: 0.0960\n",
            "Epoch 33/50\n",
            "14098/14098 [==============================] - 4s 317us/step - loss: 0.0514 - acc: 0.9152 - weighted_acc: 0.1028 - val_loss: 0.0563 - val_acc: 0.9017 - val_weighted_acc: 0.0956\n",
            "Epoch 34/50\n",
            "14098/14098 [==============================] - 4s 308us/step - loss: 0.0515 - acc: 0.9125 - weighted_acc: 0.1028 - val_loss: 0.0570 - val_acc: 0.9024 - val_weighted_acc: 0.0957\n",
            "Epoch 35/50\n",
            "14098/14098 [==============================] - 5s 324us/step - loss: 0.0512 - acc: 0.9176 - weighted_acc: 0.1030 - val_loss: 0.0566 - val_acc: 0.9011 - val_weighted_acc: 0.0961\n",
            "Epoch 36/50\n",
            "14098/14098 [==============================] - 4s 308us/step - loss: 0.0508 - acc: 0.9154 - weighted_acc: 0.1029 - val_loss: 0.0562 - val_acc: 0.8979 - val_weighted_acc: 0.0956\n",
            "Epoch 37/50\n",
            "14098/14098 [==============================] - 5s 332us/step - loss: 0.0505 - acc: 0.9147 - weighted_acc: 0.1031 - val_loss: 0.0572 - val_acc: 0.8985 - val_weighted_acc: 0.0960\n",
            "Epoch 38/50\n",
            "14098/14098 [==============================] - 5s 353us/step - loss: 0.0506 - acc: 0.9131 - weighted_acc: 0.1030 - val_loss: 0.0559 - val_acc: 0.8941 - val_weighted_acc: 0.0956\n",
            "Epoch 39/50\n",
            "14098/14098 [==============================] - 5s 339us/step - loss: 0.0503 - acc: 0.9159 - weighted_acc: 0.1034 - val_loss: 0.0566 - val_acc: 0.9062 - val_weighted_acc: 0.0964\n",
            "Epoch 40/50\n",
            "14098/14098 [==============================] - 4s 313us/step - loss: 0.0500 - acc: 0.9137 - weighted_acc: 0.1031 - val_loss: 0.0568 - val_acc: 0.9068 - val_weighted_acc: 0.0964\n",
            "Epoch 41/50\n",
            "14098/14098 [==============================] - 4s 310us/step - loss: 0.0498 - acc: 0.9179 - weighted_acc: 0.1033 - val_loss: 0.0569 - val_acc: 0.9017 - val_weighted_acc: 0.0960\n",
            "Epoch 42/50\n",
            "14098/14098 [==============================] - 5s 320us/step - loss: 0.0496 - acc: 0.9170 - weighted_acc: 0.1034 - val_loss: 0.0574 - val_acc: 0.9030 - val_weighted_acc: 0.0960\n",
            "Epoch 43/50\n",
            "14098/14098 [==============================] - 4s 308us/step - loss: 0.0493 - acc: 0.9157 - weighted_acc: 0.1035 - val_loss: 0.0572 - val_acc: 0.9024 - val_weighted_acc: 0.0959\n",
            "Epoch 44/50\n",
            "14098/14098 [==============================] - 5s 325us/step - loss: 0.0491 - acc: 0.9182 - weighted_acc: 0.1037 - val_loss: 0.0580 - val_acc: 0.8998 - val_weighted_acc: 0.0957\n",
            "Epoch 45/50\n",
            "14098/14098 [==============================] - 4s 319us/step - loss: 0.0488 - acc: 0.9216 - weighted_acc: 0.1041 - val_loss: 0.0583 - val_acc: 0.9062 - val_weighted_acc: 0.0959\n",
            "Epoch 46/50\n",
            "14098/14098 [==============================] - 4s 318us/step - loss: 0.0493 - acc: 0.9187 - weighted_acc: 0.1039 - val_loss: 0.0578 - val_acc: 0.9017 - val_weighted_acc: 0.0959\n",
            "Epoch 47/50\n",
            "14098/14098 [==============================] - 5s 319us/step - loss: 0.0486 - acc: 0.9181 - weighted_acc: 0.1040 - val_loss: 0.0590 - val_acc: 0.9049 - val_weighted_acc: 0.0962\n",
            "Epoch 48/50\n",
            "14098/14098 [==============================] - 5s 331us/step - loss: 0.0484 - acc: 0.9197 - weighted_acc: 0.1040 - val_loss: 0.0595 - val_acc: 0.9036 - val_weighted_acc: 0.0958\n",
            "Epoch 49/50\n",
            "14098/14098 [==============================] - 5s 333us/step - loss: 0.0484 - acc: 0.9164 - weighted_acc: 0.1038 - val_loss: 0.0593 - val_acc: 0.9024 - val_weighted_acc: 0.0959\n",
            "Epoch 50/50\n",
            "14098/14098 [==============================] - 4s 309us/step - loss: 0.0480 - acc: 0.9198 - weighted_acc: 0.1041 - val_loss: 0.0584 - val_acc: 0.9036 - val_weighted_acc: 0.0966\n"
          ],
          "name": "stdout"
        }
      ]
    },
    {
      "cell_type": "code",
      "metadata": {
        "id": "gSIMyJ3bK3Hy",
        "colab_type": "code",
        "outputId": "41a75260-e597-49c3-d204-f035d74b6303",
        "colab": {
          "base_uri": "https://localhost:8080/",
          "height": 545
        }
      },
      "source": [
        "plot_learning_graphs(h2.history)"
      ],
      "execution_count": 105,
      "outputs": [
        {
          "output_type": "display_data",
          "data": {
            "image/png": "[encoded data removed]",
            "text/plain": [
              "<Figure size 432x288 with 1 Axes>"
            ]
          },
          "metadata": {
            "tags": []
          }
        },
        {
          "output_type": "display_data",
          "data": {
            "image/png": "[encoded data removed]",
            "text/plain": [
              "<Figure size 432x288 with 1 Axes>"
            ]
          },
          "metadata": {
            "tags": []
          }
        }
      ]
    },
    {
      "cell_type": "markdown",
      "metadata": {
        "id": "VkZ-SD-_1HS8",
        "colab_type": "text"
      },
      "source": [
        "#### Model 3: Variable length RNN\n",
        "\n",
        "Here, we use a user session, which can have a variable number of actions, to predict the next action. Popular techniques to create variable length RNNs include padding missing values or bucketing data instances into similar-sized batches. Here, we use the latter where each batch is a size of 1."
      ]
    },
    {
      "cell_type": "code",
      "metadata": {
        "id": "v62R9hAPzbhT",
        "colab_type": "code",
        "outputId": "0451b4c7-293c-4148-c307-d9aa60cc1609",
        "colab": {
          "base_uri": "https://localhost:8080/",
          "height": 691
        }
      },
      "source": [
        "\n",
        "def var_rnn_model(num_units, num_actions):\n",
        "  # sequence of actions\n",
        "  A = Input(shape=(None,), name=\"actions\") #input is None as we do not know input length in advance\n",
        "\n",
        "  #create embedding for actions\n",
        "  a = Embedding(input_dim=num_actions, output_dim=num_units, name='action_embedding')(A) # do not specify input length\n",
        "  \n",
        "  # Create LSTM layer\n",
        "  # return sequences=False as we only want the last output of the RNN\n",
        "  L = LSTM(num_units,return_sequences=False)(a)\n",
        "\n",
        "  predictions = Dense(num_actions, activation='softmax')(L)\n",
        "\n",
        "  return Model(inputs=A, outputs=predictions, name='Variable_length_RNN')\n",
        "\n",
        "model3 = var_rnn_model(hidden_size, num_actions)\n",
        "model3.summary()\n",
        "plot_model(model3, show_shapes=True, show_layer_names=True)"
      ],
      "execution_count": 61,
      "outputs": [
        {
          "output_type": "stream",
          "text": [
            "Model: \"Variable_length_RNN\"\n",
            "_________________________________________________________________\n",
            "Layer (type)                 Output Shape              Param #   \n",
            "=================================================================\n",
            "actions (InputLayer)         (None, None)              0         \n",
            "_________________________________________________________________\n",
            "action_embedding (Embedding) (None, None, 64)          192       \n",
            "_________________________________________________________________\n",
            "lstm_2 (LSTM)                (None, 64)                33024     \n",
            "_________________________________________________________________\n",
            "dense_8 (Dense)              (None, 3)                 195       \n",
            "=================================================================\n",
            "Total params: 33,411\n",
            "Trainable params: 33,411\n",
            "Non-trainable params: 0\n",
            "_________________________________________________________________\n"
          ],
          "name": "stdout"
        },
        {
          "output_type": "execute_result",
          "data": {
            "image/png": "[encoded data removed]",
            "text/plain": [
              "<IPython.core.display.Image object>"
            ]
          },
          "metadata": {
            "tags": []
          },
          "execution_count": 61
        }
      ]
    },
    {
      "cell_type": "code",
      "metadata": {
        "id": "t_PU9xjE1MJ1",
        "colab_type": "code",
        "outputId": "fd4e64a3-3339-42ec-b2a5-adcb129c3964",
        "colab": {
          "base_uri": "https://localhost:8080/",
          "height": 877
        }
      },
      "source": [
        "# create the optimizer\n",
        "opt3 = Adam(lr=0.1, beta_1=0.9, beta_2=0.999, decay=0.01)\n",
        "\n",
        "model3.compile(optimizer=opt3, loss='categorical_crossentropy', metrics=['accuracy'], weighted_metrics=['accuracy'])\n",
        "\n",
        "h3 = model3.fit_generator(MyBatchGenerator(X_sessions_train,y_sessions_train),\n",
        "                          validation_data=MyBatchGenerator(X_sessions_val,y_sessions_val), \n",
        "                          class_weight={0:0.1, 1: 0.3, 2:0.6},\n",
        "                          epochs=25, \n",
        "                          verbose=1)"
      ],
      "execution_count": 63,
      "outputs": [
        {
          "output_type": "stream",
          "text": [
            "Epoch 1/25\n",
            "25600/25600 [==============================] - 144s 6ms/step - loss: 0.4624 - acc: 0.9323 - weighted_acc: 0.0932 - val_loss: 1.0905 - val_acc: 0.9323 - val_weighted_acc: 0.9323\n",
            "Epoch 2/25\n",
            "25600/25600 [==============================] - 144s 6ms/step - loss: 0.4624 - acc: 0.9323 - weighted_acc: 0.0932 - val_loss: 1.0905 - val_acc: 0.9323 - val_weighted_acc: 0.9323\n",
            "Epoch 3/25\n",
            "25600/25600 [==============================] - 150s 6ms/step - loss: 0.4624 - acc: 0.9323 - weighted_acc: 0.0932 - val_loss: 1.0905 - val_acc: 0.9323 - val_weighted_acc: 0.9323\n",
            "Epoch 4/25\n",
            "25600/25600 [==============================] - 143s 6ms/step - loss: 0.4624 - acc: 0.9323 - weighted_acc: 0.0932 - val_loss: 1.0905 - val_acc: 0.9323 - val_weighted_acc: 0.9323\n",
            "Epoch 5/25\n",
            "25600/25600 [==============================] - 138s 5ms/step - loss: 0.4624 - acc: 0.9323 - weighted_acc: 0.0932 - val_loss: 1.0905 - val_acc: 0.9323 - val_weighted_acc: 0.9323\n",
            "Epoch 6/25\n",
            "25600/25600 [==============================] - 135s 5ms/step - loss: 0.4624 - acc: 0.9323 - weighted_acc: 0.0932 - val_loss: 1.0905 - val_acc: 0.9323 - val_weighted_acc: 0.9323\n",
            "Epoch 7/25\n",
            "25600/25600 [==============================] - 138s 5ms/step - loss: 0.4624 - acc: 0.9323 - weighted_acc: 0.0932 - val_loss: 1.0905 - val_acc: 0.9323 - val_weighted_acc: 0.9323\n",
            "Epoch 8/25\n",
            "25600/25600 [==============================] - 134s 5ms/step - loss: 0.4624 - acc: 0.9323 - weighted_acc: 0.0932 - val_loss: 1.0905 - val_acc: 0.9323 - val_weighted_acc: 0.9323\n",
            "Epoch 9/25\n",
            "25600/25600 [==============================] - 137s 5ms/step - loss: 0.4624 - acc: 0.9323 - weighted_acc: 0.0932 - val_loss: 1.0905 - val_acc: 0.9323 - val_weighted_acc: 0.9323\n",
            "Epoch 10/25\n",
            "25600/25600 [==============================] - 139s 5ms/step - loss: 0.4624 - acc: 0.9323 - weighted_acc: 0.0932 - val_loss: 1.0905 - val_acc: 0.9323 - val_weighted_acc: 0.9323\n",
            "Epoch 11/25\n",
            "25600/25600 [==============================] - 136s 5ms/step - loss: 0.4624 - acc: 0.9323 - weighted_acc: 0.0932 - val_loss: 1.0905 - val_acc: 0.9323 - val_weighted_acc: 0.9323\n",
            "Epoch 12/25\n",
            "25600/25600 [==============================] - 137s 5ms/step - loss: 0.4624 - acc: 0.9323 - weighted_acc: 0.0932 - val_loss: 1.0905 - val_acc: 0.9323 - val_weighted_acc: 0.9323\n",
            "Epoch 13/25\n",
            "25600/25600 [==============================] - 138s 5ms/step - loss: 0.4624 - acc: 0.9323 - weighted_acc: 0.0932 - val_loss: 1.0905 - val_acc: 0.9323 - val_weighted_acc: 0.9323\n",
            "Epoch 14/25\n",
            "25600/25600 [==============================] - 139s 5ms/step - loss: 0.4624 - acc: 0.9323 - weighted_acc: 0.0932 - val_loss: 1.0905 - val_acc: 0.9323 - val_weighted_acc: 0.9323\n",
            "Epoch 15/25\n",
            "25600/25600 [==============================] - 136s 5ms/step - loss: 0.4624 - acc: 0.9323 - weighted_acc: 0.0932 - val_loss: 1.0905 - val_acc: 0.9323 - val_weighted_acc: 0.9323\n",
            "Epoch 16/25\n",
            "25600/25600 [==============================] - 142s 6ms/step - loss: 0.4624 - acc: 0.9323 - weighted_acc: 0.0932 - val_loss: 1.0905 - val_acc: 0.9323 - val_weighted_acc: 0.9323\n",
            "Epoch 17/25\n",
            "25600/25600 [==============================] - 140s 5ms/step - loss: 0.4624 - acc: 0.9323 - weighted_acc: 0.0932 - val_loss: 1.0905 - val_acc: 0.9323 - val_weighted_acc: 0.9323\n",
            "Epoch 18/25\n",
            "25600/25600 [==============================] - 139s 5ms/step - loss: 0.4624 - acc: 0.9323 - weighted_acc: 0.0932 - val_loss: 1.0905 - val_acc: 0.9323 - val_weighted_acc: 0.9323\n",
            "Epoch 19/25\n",
            "25600/25600 [==============================] - 139s 5ms/step - loss: 0.4624 - acc: 0.9323 - weighted_acc: 0.0932 - val_loss: 1.0905 - val_acc: 0.9323 - val_weighted_acc: 0.9323\n",
            "Epoch 20/25\n",
            "25600/25600 [==============================] - 137s 5ms/step - loss: 0.4624 - acc: 0.9323 - weighted_acc: 0.0932 - val_loss: 1.0905 - val_acc: 0.9323 - val_weighted_acc: 0.9323\n",
            "Epoch 21/25\n",
            "25600/25600 [==============================] - 138s 5ms/step - loss: 0.4624 - acc: 0.9323 - weighted_acc: 0.0932 - val_loss: 1.0905 - val_acc: 0.9323 - val_weighted_acc: 0.9323\n",
            "Epoch 22/25\n",
            "25600/25600 [==============================] - 137s 5ms/step - loss: 0.4624 - acc: 0.9323 - weighted_acc: 0.0932 - val_loss: 1.0905 - val_acc: 0.9323 - val_weighted_acc: 0.9323\n",
            "Epoch 23/25\n",
            "25600/25600 [==============================] - 140s 5ms/step - loss: 0.4624 - acc: 0.9323 - weighted_acc: 0.0932 - val_loss: 1.0905 - val_acc: 0.9323 - val_weighted_acc: 0.9323\n",
            "Epoch 24/25\n",
            "25600/25600 [==============================] - 132s 5ms/step - loss: 0.4624 - acc: 0.9323 - weighted_acc: 0.0932 - val_loss: 1.0905 - val_acc: 0.9323 - val_weighted_acc: 0.9323\n",
            "Epoch 25/25\n",
            "25600/25600 [==============================] - 136s 5ms/step - loss: 0.4624 - acc: 0.9323 - weighted_acc: 0.0932 - val_loss: 1.0905 - val_acc: 0.9323 - val_weighted_acc: 0.9323\n"
          ],
          "name": "stdout"
        }
      ]
    },
    {
      "cell_type": "code",
      "metadata": {
        "id": "FZDAiKEsC2mZ",
        "colab_type": "code",
        "outputId": "e6fc1b2a-62c8-45c3-964d-f230658582dd",
        "colab": {
          "base_uri": "https://localhost:8080/",
          "height": 545
        }
      },
      "source": [
        "plot_learning_graphs(h3.history)"
      ],
      "execution_count": 64,
      "outputs": [
        {
          "output_type": "display_data",
          "data": {
            "image/png": "[encoded data removed]",
            "text/plain": [
              "<Figure size 432x288 with 1 Axes>"
            ]
          },
          "metadata": {
            "tags": []
          }
        },
        {
          "output_type": "display_data",
          "data": {
            "image/png": "[encoded data removed]",
            "text/plain": [
              "<Figure size 432x288 with 1 Axes>"
            ]
          },
          "metadata": {
            "tags": []
          }
        }
      ]
    },
    {
      "cell_type": "markdown",
      "metadata": {
        "id": "-6rDid9qVrOv",
        "colab_type": "text"
      },
      "source": [
        "#### Model 4: Multi-step predictions\n",
        "\n",
        "This model uses the first n actions to predict the next n actions."
      ]
    },
    {
      "cell_type": "code",
      "metadata": {
        "id": "6TyJm_N5sfzC",
        "colab_type": "code",
        "outputId": "21080484-5d88-4e6a-b2d2-66a44e7556db",
        "colab": {
          "base_uri": "https://localhost:8080/",
          "height": 835
        }
      },
      "source": [
        "def multistep_rnn_model(input_length, forecast_length, num_units, num_actions):\n",
        "  # sequence of actions\n",
        "  A = Input(shape=(input_length,), name=\"actions\") #length of sequence\n",
        "\n",
        "  #create embedding for actions \n",
        "  a = Embedding(input_dim=num_actions, output_dim=num_units, input_length=input_length, name='action_embedding')(A) \n",
        "\n",
        "  # return_sequences = True to get the output at each time step\n",
        "  L = LSTM(num_units,return_sequences=True)(a)\n",
        "\n",
        "  # Apply a NN for each timestep output\n",
        "  # predictions = TimeDistributed(Dense(num_actions, activation='softmax'))(L)\n",
        "  \n",
        "  predictions = Dense(num_actions)(L)\n",
        "  predictions = Activation('softmax')(predictions)\n",
        "\n",
        "\n",
        "  return Model(inputs=A, outputs=predictions)\n",
        "\n",
        "model4 = multistep_rnn_model(timesteps, timesteps, hidden_size, num_actions)  \n",
        "model4.summary()\n",
        "\n",
        "plot_model(model4, show_shapes=True, show_layer_names=True)\n",
        "\n"
      ],
      "execution_count": 67,
      "outputs": [
        {
          "output_type": "stream",
          "text": [
            "Model: \"model_1\"\n",
            "_________________________________________________________________\n",
            "Layer (type)                 Output Shape              Param #   \n",
            "=================================================================\n",
            "actions (InputLayer)         (None, 10)                0         \n",
            "_________________________________________________________________\n",
            "action_embedding (Embedding) (None, 10, 64)            192       \n",
            "_________________________________________________________________\n",
            "lstm_3 (LSTM)                (None, 10, 64)            33024     \n",
            "_________________________________________________________________\n",
            "dense_9 (Dense)              (None, 10, 3)             195       \n",
            "_________________________________________________________________\n",
            "activation_1 (Activation)    (None, 10, 3)             0         \n",
            "=================================================================\n",
            "Total params: 33,411\n",
            "Trainable params: 33,411\n",
            "Non-trainable params: 0\n",
            "_________________________________________________________________\n"
          ],
          "name": "stdout"
        },
        {
          "output_type": "execute_result",
          "data": {
            "image/png": "[encoded data removed]",
            "text/plain": [
              "<IPython.core.display.Image object>"
            ]
          },
          "metadata": {
            "tags": []
          },
          "execution_count": 67
        }
      ]
    },
    {
      "cell_type": "code",
      "metadata": {
        "id": "lw0ipLRfshEd",
        "colab_type": "code",
        "outputId": "c0971710-9cdc-4ba0-debd-440d96fdaeb5",
        "colab": {
          "base_uri": "https://localhost:8080/",
          "height": 1000
        }
      },
      "source": [
        "opt = Adam(lr=0.1, beta_1=0.9, beta_2=0.999, decay=0.01)\n",
        "\n",
        "model4.compile(optimizer=opt, loss='categorical_crossentropy', metrics=['accuracy'])\n",
        "h4 = model4.fit(X_ts_train, y_ts_train, epochs=50, batch_size=128, validation_split=0.1,  verbose=1)"
      ],
      "execution_count": 77,
      "outputs": [
        {
          "output_type": "stream",
          "text": [
            "Train on 28224 samples, validate on 3136 samples\n",
            "Epoch 1/50\n",
            "28224/28224 [==============================] - 7s 243us/step - loss: 0.3431 - acc: 0.9111 - val_loss: 0.3085 - val_acc: 0.9188\n",
            "Epoch 2/50\n",
            "28224/28224 [==============================] - 4s 153us/step - loss: 0.3142 - acc: 0.9166 - val_loss: 0.3094 - val_acc: 0.9188\n",
            "Epoch 3/50\n",
            "28224/28224 [==============================] - 5s 164us/step - loss: 0.3147 - acc: 0.9166 - val_loss: 0.3095 - val_acc: 0.9188\n",
            "Epoch 4/50\n",
            "28224/28224 [==============================] - 4s 155us/step - loss: 0.3143 - acc: 0.9166 - val_loss: 0.3110 - val_acc: 0.9188\n",
            "Epoch 5/50\n",
            "28224/28224 [==============================] - 4s 153us/step - loss: 0.3139 - acc: 0.9166 - val_loss: 0.3077 - val_acc: 0.9188\n",
            "Epoch 6/50\n",
            "28224/28224 [==============================] - 5s 162us/step - loss: 0.3135 - acc: 0.9166 - val_loss: 0.3152 - val_acc: 0.9188\n",
            "Epoch 7/50\n",
            "28224/28224 [==============================] - 5s 166us/step - loss: 0.3133 - acc: 0.9166 - val_loss: 0.3077 - val_acc: 0.9188\n",
            "Epoch 8/50\n",
            "28224/28224 [==============================] - 4s 154us/step - loss: 0.3133 - acc: 0.9166 - val_loss: 0.3095 - val_acc: 0.9188\n",
            "Epoch 9/50\n",
            "28224/28224 [==============================] - 5s 172us/step - loss: 0.3132 - acc: 0.9166 - val_loss: 0.3077 - val_acc: 0.9188\n",
            "Epoch 10/50\n",
            "28224/28224 [==============================] - 5s 172us/step - loss: 0.3131 - acc: 0.9166 - val_loss: 0.3079 - val_acc: 0.9188\n",
            "Epoch 11/50\n",
            "28224/28224 [==============================] - 5s 170us/step - loss: 0.3133 - acc: 0.9166 - val_loss: 0.3075 - val_acc: 0.9188\n",
            "Epoch 12/50\n",
            "28224/28224 [==============================] - 5s 165us/step - loss: 0.3134 - acc: 0.9166 - val_loss: 0.3090 - val_acc: 0.9188\n",
            "Epoch 13/50\n",
            "28224/28224 [==============================] - 5s 164us/step - loss: 0.3132 - acc: 0.9166 - val_loss: 0.3082 - val_acc: 0.9188\n",
            "Epoch 14/50\n",
            "28224/28224 [==============================] - 4s 157us/step - loss: 0.3131 - acc: 0.9166 - val_loss: 0.3076 - val_acc: 0.9188\n",
            "Epoch 15/50\n",
            "28224/28224 [==============================] - 5s 172us/step - loss: 0.3130 - acc: 0.9166 - val_loss: 0.3077 - val_acc: 0.9188\n",
            "Epoch 16/50\n",
            "28224/28224 [==============================] - 4s 150us/step - loss: 0.3129 - acc: 0.9166 - val_loss: 0.3075 - val_acc: 0.9188\n",
            "Epoch 17/50\n",
            "28224/28224 [==============================] - 5s 165us/step - loss: 0.3132 - acc: 0.9166 - val_loss: 0.3100 - val_acc: 0.9188\n",
            "Epoch 18/50\n",
            "28224/28224 [==============================] - 5s 164us/step - loss: 0.3130 - acc: 0.9166 - val_loss: 0.3075 - val_acc: 0.9188\n",
            "Epoch 19/50\n",
            "28224/28224 [==============================] - 4s 157us/step - loss: 0.3132 - acc: 0.9166 - val_loss: 0.3077 - val_acc: 0.9188\n",
            "Epoch 20/50\n",
            "28224/28224 [==============================] - 5s 166us/step - loss: 0.3129 - acc: 0.9166 - val_loss: 0.3076 - val_acc: 0.9188\n",
            "Epoch 21/50\n",
            "28224/28224 [==============================] - 4s 152us/step - loss: 0.3129 - acc: 0.9166 - val_loss: 0.3075 - val_acc: 0.9188\n",
            "Epoch 22/50\n",
            "28224/28224 [==============================] - 4s 151us/step - loss: 0.3128 - acc: 0.9166 - val_loss: 0.3076 - val_acc: 0.9188\n",
            "Epoch 23/50\n",
            "28224/28224 [==============================] - 5s 173us/step - loss: 0.3127 - acc: 0.9166 - val_loss: 0.3081 - val_acc: 0.9188\n",
            "Epoch 24/50\n",
            "28224/28224 [==============================] - 5s 178us/step - loss: 0.3128 - acc: 0.9166 - val_loss: 0.3077 - val_acc: 0.9188\n",
            "Epoch 25/50\n",
            "28224/28224 [==============================] - 5s 161us/step - loss: 0.3128 - acc: 0.9166 - val_loss: 0.3076 - val_acc: 0.9188\n",
            "Epoch 26/50\n",
            "28224/28224 [==============================] - 4s 152us/step - loss: 0.3127 - acc: 0.9166 - val_loss: 0.3081 - val_acc: 0.9188\n",
            "Epoch 27/50\n",
            "28224/28224 [==============================] - 4s 155us/step - loss: 0.3130 - acc: 0.9166 - val_loss: 0.3078 - val_acc: 0.9188\n",
            "Epoch 28/50\n",
            "28224/28224 [==============================] - 4s 152us/step - loss: 0.3128 - acc: 0.9166 - val_loss: 0.3081 - val_acc: 0.9188\n",
            "Epoch 29/50\n",
            "28224/28224 [==============================] - 5s 159us/step - loss: 0.3127 - acc: 0.9166 - val_loss: 0.3077 - val_acc: 0.9188\n",
            "Epoch 30/50\n",
            "28224/28224 [==============================] - 4s 153us/step - loss: 0.3128 - acc: 0.9166 - val_loss: 0.3078 - val_acc: 0.9188\n",
            "Epoch 31/50\n",
            "28224/28224 [==============================] - 4s 153us/step - loss: 0.3128 - acc: 0.9166 - val_loss: 0.3076 - val_acc: 0.9188\n",
            "Epoch 32/50\n",
            "28224/28224 [==============================] - 4s 151us/step - loss: 0.3127 - acc: 0.9166 - val_loss: 0.3075 - val_acc: 0.9188\n",
            "Epoch 33/50\n",
            "28224/28224 [==============================] - 4s 158us/step - loss: 0.3130 - acc: 0.9166 - val_loss: 0.3097 - val_acc: 0.9188\n",
            "Epoch 34/50\n",
            "28224/28224 [==============================] - 4s 152us/step - loss: 0.3128 - acc: 0.9166 - val_loss: 0.3077 - val_acc: 0.9188\n",
            "Epoch 35/50\n",
            "28224/28224 [==============================] - 4s 159us/step - loss: 0.3127 - acc: 0.9166 - val_loss: 0.3078 - val_acc: 0.9188\n",
            "Epoch 36/50\n",
            "28224/28224 [==============================] - 5s 176us/step - loss: 0.3127 - acc: 0.9166 - val_loss: 0.3075 - val_acc: 0.9188\n",
            "Epoch 37/50\n",
            "28224/28224 [==============================] - 5s 165us/step - loss: 0.3127 - acc: 0.9166 - val_loss: 0.3076 - val_acc: 0.9188\n",
            "Epoch 38/50\n",
            "28224/28224 [==============================] - 4s 153us/step - loss: 0.3130 - acc: 0.9166 - val_loss: 0.3075 - val_acc: 0.9188\n",
            "Epoch 39/50\n",
            "28224/28224 [==============================] - 5s 162us/step - loss: 0.3127 - acc: 0.9166 - val_loss: 0.3076 - val_acc: 0.9188\n",
            "Epoch 40/50\n",
            "28224/28224 [==============================] - 4s 154us/step - loss: 0.3127 - acc: 0.9166 - val_loss: 0.3075 - val_acc: 0.9188\n",
            "Epoch 41/50\n",
            "28224/28224 [==============================] - 4s 152us/step - loss: 0.3127 - acc: 0.9166 - val_loss: 0.3080 - val_acc: 0.9188\n",
            "Epoch 42/50\n",
            "28224/28224 [==============================] - 4s 152us/step - loss: 0.3126 - acc: 0.9166 - val_loss: 0.3081 - val_acc: 0.9188\n",
            "Epoch 43/50\n",
            "28224/28224 [==============================] - 4s 154us/step - loss: 0.3128 - acc: 0.9166 - val_loss: 0.3079 - val_acc: 0.9188\n",
            "Epoch 44/50\n",
            "28224/28224 [==============================] - 4s 156us/step - loss: 0.3127 - acc: 0.9166 - val_loss: 0.3082 - val_acc: 0.9188\n",
            "Epoch 45/50\n",
            "28224/28224 [==============================] - 4s 155us/step - loss: 0.3128 - acc: 0.9166 - val_loss: 0.3079 - val_acc: 0.9188\n",
            "Epoch 46/50\n",
            "28224/28224 [==============================] - 4s 152us/step - loss: 0.3127 - acc: 0.9166 - val_loss: 0.3074 - val_acc: 0.9188\n",
            "Epoch 47/50\n",
            "28224/28224 [==============================] - 4s 155us/step - loss: 0.3127 - acc: 0.9166 - val_loss: 0.3076 - val_acc: 0.9188\n",
            "Epoch 48/50\n",
            "28224/28224 [==============================] - 5s 161us/step - loss: 0.3128 - acc: 0.9166 - val_loss: 0.3075 - val_acc: 0.9188\n",
            "Epoch 49/50\n",
            "28224/28224 [==============================] - 4s 153us/step - loss: 0.3126 - acc: 0.9166 - val_loss: 0.3075 - val_acc: 0.9188\n",
            "Epoch 50/50\n",
            "28224/28224 [==============================] - 4s 153us/step - loss: 0.3127 - acc: 0.9166 - val_loss: 0.3078 - val_acc: 0.9188\n"
          ],
          "name": "stdout"
        }
      ]
    },
    {
      "cell_type": "code",
      "metadata": {
        "id": "we2vwj3pstqV",
        "colab_type": "code",
        "outputId": "140ac412-e461-41a6-f7c5-2b26dcfa4e74",
        "colab": {
          "base_uri": "https://localhost:8080/",
          "height": 545
        }
      },
      "source": [
        "plot_learning_graphs(h4.history)"
      ],
      "execution_count": 78,
      "outputs": [
        {
          "output_type": "display_data",
          "data": {
            "image/png": "[encoded data removed]",
            "text/plain": [
              "<Figure size 432x288 with 1 Axes>"
            ]
          },
          "metadata": {
            "tags": []
          }
        },
        {
          "output_type": "display_data",
          "data": {
            "image/png": "[encoded data removed]",
            "text/plain": [
              "<Figure size 432x288 with 1 Axes>"
            ]
          },
          "metadata": {
            "tags": []
          }
        }
      ]
    },
    {
      "cell_type": "markdown",
      "metadata": {
        "id": "G-duNQlM_Eo8",
        "colab_type": "text"
      },
      "source": [
        "## Evaluate models\n",
        "\n",
        "Let's see how our models perform"
      ]
    },
    {
      "cell_type": "code",
      "metadata": {
        "id": "43DYpL1m_qpG",
        "colab_type": "code",
        "colab": {}
      },
      "source": [
        "y_true = np.argmax(y_test,axis=1)"
      ],
      "execution_count": 0,
      "outputs": []
    },
    {
      "cell_type": "code",
      "metadata": {
        "id": "A10bEiTT_SCS",
        "colab_type": "code",
        "colab": {}
      },
      "source": [
        "## Model 1 predictions\n",
        "pred_prob = model.predict(X_test)\n",
        "y_pred = np.argmax(pred_prob,axis=1)"
      ],
      "execution_count": 0,
      "outputs": []
    },
    {
      "cell_type": "code",
      "metadata": {
        "id": "98uzLEVO_xRD",
        "colab_type": "code",
        "colab": {}
      },
      "source": [
        "## Model 2 predictions\n",
        "pred_prob2 = model2.predict(X_test)\n",
        "y_pred2 = np.argmax(pred_prob2,axis=1)"
      ],
      "execution_count": 0,
      "outputs": []
    },
    {
      "cell_type": "code",
      "metadata": {
        "id": "vD9ZVcjQ-9VN",
        "colab_type": "code",
        "colab": {}
      },
      "source": [
        "## Model 3 predictions\n",
        "y_true_sessions = np.argmax(y_sessions_test,axis=1)\n",
        "\n",
        "pred_prob3 = model3.predict_generator(MyBatchGenerator(X_sessions_test,y_sessions_test))\n",
        "y_pred3 = np.argmax(pred_prob3,axis=1)"
      ],
      "execution_count": 0,
      "outputs": []
    },
    {
      "cell_type": "code",
      "metadata": {
        "id": "R24GsePIZBdp",
        "colab_type": "code",
        "colab": {}
      },
      "source": [
        "## Model 4 predictions\n",
        "y_ts_test_labels = np.argmax(y_ts_test,axis=2)\n",
        "\n",
        "pred_prob4 = model4.predict(X_ts_test)\n",
        "y_pred4 = np.argmax(pred_prob4,axis=2)\n"
      ],
      "execution_count": 0,
      "outputs": []
    },
    {
      "cell_type": "code",
      "metadata": {
        "id": "fzZWDH0ulqfq",
        "colab_type": "code",
        "outputId": "ebc2e890-53bb-46c2-98a1-2a0f7267a500",
        "colab": {
          "base_uri": "https://localhost:8080/",
          "height": 364
        }
      },
      "source": [
        "conf=confusion_matrix(y_true,y_pred)\n",
        "plt.figure()\n",
        "plot_confusion_matrix(conf, classes=action_to_idx.keys(), normalize=False,\n",
        "                      title='Normalized confusion matrix')\n",
        "# plt.savefig(\"cm1.jpg\", dpi=900)\n",
        "plt.show()"
      ],
      "execution_count": 100,
      "outputs": [
        {
          "output_type": "stream",
          "text": [
            "Confusion matrix, without normalization\n",
            "[[3453  126   45]\n",
            " [ 140   59    7]\n",
            " [  52    9   26]]\n"
          ],
          "name": "stdout"
        },
        {
          "output_type": "display_data",
          "data": {
            "image/png": "[encoded data removed]",
            "text/plain": [
              "<Figure size 432x288 with 2 Axes>"
            ]
          },
          "metadata": {
            "tags": []
          }
        }
      ]
    },
    {
      "cell_type": "code",
      "metadata": {
        "id": "E-2l7S0jdHTz",
        "colab_type": "code",
        "outputId": "03fe84fb-b354-49c9-de54-f72335472207",
        "colab": {
          "base_uri": "https://localhost:8080/",
          "height": 364
        }
      },
      "source": [
        "conf2=confusion_matrix(y_true,y_pred2)\n",
        "plt.figure()\n",
        "plot_confusion_matrix(conf2, classes=action_to_idx.keys(), normalize=False,\n",
        "                      title='Normalized confusion matrix')\n",
        "# plt.savefig(\"cm1.jpg\", dpi=900)\n",
        "plt.show()"
      ],
      "execution_count": 107,
      "outputs": [
        {
          "output_type": "stream",
          "text": [
            "Confusion matrix, without normalization\n",
            "[[3476   71   77]\n",
            " [ 138   46   22]\n",
            " [  28    8   51]]\n"
          ],
          "name": "stdout"
        },
        {
          "output_type": "display_data",
          "data": {
            "image/png": "[encoded data removed]",
            "text/plain": [
              "<Figure size 432x288 with 2 Axes>"
            ]
          },
          "metadata": {
            "tags": []
          }
        }
      ]
    },
    {
      "cell_type": "code",
      "metadata": {
        "id": "ZeHzoA1e_wdu",
        "colab_type": "code",
        "outputId": "4e77c174-5c16-4099-bf98-2e87ec81568b",
        "colab": {
          "base_uri": "https://localhost:8080/",
          "height": 364
        }
      },
      "source": [
        "conf3=confusion_matrix(y_true_sessions,y_pred3)\n",
        "plt.figure()\n",
        "plot_confusion_matrix(conf3, classes=action_to_idx.keys(), normalize=False,\n",
        "                      title='Normalized confusion matrix')\n",
        "# plt.savefig(\"cm1.jpg\", dpi=900)\n",
        "plt.show()"
      ],
      "execution_count": 66,
      "outputs": [
        {
          "output_type": "stream",
          "text": [
            "Confusion matrix, without normalization\n",
            "[[7459    0    0]\n",
            " [ 318    0    0]\n",
            " [ 223    0    0]]\n"
          ],
          "name": "stdout"
        },
        {
          "output_type": "display_data",
          "data": {
            "image/png": "[encoded data removed]",
            "text/plain": [
              "<Figure size 432x288 with 2 Axes>"
            ]
          },
          "metadata": {
            "tags": []
          }
        }
      ]
    },
    {
      "cell_type": "code",
      "metadata": {
        "id": "pbqNYvrOaxol",
        "colab_type": "code",
        "outputId": "ffcadcad-ba7f-4959-a67b-93949b8d4cab",
        "colab": {
          "base_uri": "https://localhost:8080/",
          "height": 364
        }
      },
      "source": [
        "#new shape\n",
        "num_instances = y_pred4.shape[0]*y_pred4.shape[1]\n",
        "\n",
        "conf4=confusion_matrix(y_ts_test_labels.reshape((num_instances,)),y_pred4.reshape((num_instances,)))\n",
        "plt.figure()\n",
        "plot_confusion_matrix(conf4, classes=action_to_idx.keys(), normalize=False,\n",
        "                      title='Normalized confusion matrix')\n",
        "# plt.savefig(\"cm1.jpg\", dpi=900)\n",
        "plt.show()"
      ],
      "execution_count": 80,
      "outputs": [
        {
          "output_type": "stream",
          "text": [
            "Confusion matrix, without normalization\n",
            "[[71754     0     0]\n",
            " [ 5258     0     0]\n",
            " [ 1388     0     0]]\n"
          ],
          "name": "stdout"
        },
        {
          "output_type": "display_data",
          "data": {
            "image/png": "[encoded data removed]",
            "text/plain": [
              "<Figure size 432x288 with 2 Axes>"
            ]
          },
          "metadata": {
            "tags": []
          }
        }
      ]
    },
    {
      "cell_type": "code",
      "metadata": {
        "id": "8NC3QgEseyI7",
        "colab_type": "code",
        "outputId": "ed5459bf-3385-46f4-aaef-3c549532bd4a",
        "colab": {
          "base_uri": "https://localhost:8080/",
          "height": 185
        }
      },
      "source": [
        "print(classification_report(y_true,y_pred,target_names=action_to_idx.keys()))\n"
      ],
      "execution_count": 101,
      "outputs": [
        {
          "output_type": "stream",
          "text": [
            "              precision    recall  f1-score   support\n",
            "\n",
            "        view       0.95      0.95      0.95      3624\n",
            "   addtocart       0.30      0.29      0.30       206\n",
            " transaction       0.33      0.30      0.32        87\n",
            "\n",
            "    accuracy                           0.90      3917\n",
            "   macro avg       0.53      0.51      0.52      3917\n",
            "weighted avg       0.90      0.90      0.90      3917\n",
            "\n"
          ],
          "name": "stdout"
        }
      ]
    },
    {
      "cell_type": "code",
      "metadata": {
        "id": "uv-_-tfHYxpC",
        "colab_type": "code",
        "outputId": "4864a795-8a23-4f01-ca22-7c0aeb05f61e",
        "colab": {
          "base_uri": "https://localhost:8080/",
          "height": 185
        }
      },
      "source": [
        "print(classification_report(y_true,y_pred2,target_names=action_to_idx.keys()))"
      ],
      "execution_count": 108,
      "outputs": [
        {
          "output_type": "stream",
          "text": [
            "              precision    recall  f1-score   support\n",
            "\n",
            "        view       0.95      0.96      0.96      3624\n",
            "   addtocart       0.37      0.22      0.28       206\n",
            " transaction       0.34      0.59      0.43        87\n",
            "\n",
            "    accuracy                           0.91      3917\n",
            "   macro avg       0.55      0.59      0.56      3917\n",
            "weighted avg       0.91      0.91      0.91      3917\n",
            "\n"
          ],
          "name": "stdout"
        }
      ]
    },
    {
      "cell_type": "code",
      "metadata": {
        "id": "Wz9gsFxoK-jv",
        "colab_type": "code",
        "outputId": "0c97917c-a11d-40e0-c005-533ef1f222e5",
        "colab": {
          "base_uri": "https://localhost:8080/",
          "height": 185
        }
      },
      "source": [
        "print(classification_report(y_true_sessions,y_pred3,target_names=action_to_idx.keys()))"
      ],
      "execution_count": 0,
      "outputs": [
        {
          "output_type": "stream",
          "text": [
            "              precision    recall  f1-score   support\n",
            "\n",
            "        view       0.96      0.97      0.96      7459\n",
            "   addtocart       0.39      0.06      0.11       318\n",
            " transaction       0.39      0.80      0.53       223\n",
            "\n",
            "    accuracy                           0.93      8000\n",
            "   macro avg       0.58      0.61      0.53      8000\n",
            "weighted avg       0.92      0.93      0.92      8000\n",
            "\n"
          ],
          "name": "stdout"
        }
      ]
    },
    {
      "cell_type": "code",
      "metadata": {
        "id": "_pnLRvfwbvCI",
        "colab_type": "code",
        "outputId": "fdc37f0d-dfc8-47be-a124-54f8f67db98c",
        "colab": {
          "base_uri": "https://localhost:8080/",
          "height": 238
        }
      },
      "source": [
        "print(classification_report(y_ts_test_labels.reshape((num_instances,)),y_pred4.reshape((num_instances,)),target_names=action_to_idx.keys()))"
      ],
      "execution_count": 0,
      "outputs": [
        {
          "output_type": "stream",
          "text": [
            "              precision    recall  f1-score   support\n",
            "\n",
            "        view       0.92      1.00      0.96     71754\n",
            "   addtocart       0.53      0.03      0.06      5258\n",
            " transaction       0.00      0.00      0.00      1388\n",
            "\n",
            "    accuracy                           0.92     78400\n",
            "   macro avg       0.48      0.34      0.34     78400\n",
            "weighted avg       0.88      0.92      0.88     78400\n",
            "\n"
          ],
          "name": "stdout"
        },
        {
          "output_type": "stream",
          "text": [
            "/usr/local/lib/python3.6/dist-packages/sklearn/metrics/classification.py:1437: UndefinedMetricWarning: Precision and F-score are ill-defined and being set to 0.0 in labels with no predicted samples.\n",
            "  'precision', 'predicted', average, warn_for)\n"
          ],
          "name": "stderr"
        }
      ]
    },
    {
      "cell_type": "markdown",
      "metadata": {
        "id": "I57-WhC2DtTy",
        "colab_type": "text"
      },
      "source": [
        "For model 4, we also want to evaluate the predictions for each future time step."
      ]
    },
    {
      "cell_type": "code",
      "metadata": {
        "id": "zRzt6iCmscE7",
        "colab_type": "code",
        "outputId": "c71b1445-6c20-4876-c835-31e9ba06ac64",
        "colab": {
          "base_uri": "https://localhost:8080/",
          "height": 1000
        }
      },
      "source": [
        "def evaluate_predictions(true,predicted):\n",
        "  scores = [None]*true.shape[1]\n",
        "\n",
        "  for i in range(true.shape[1]):\n",
        "    scores[i] = accuracy_score(true[:,i],predicted[:,i])\n",
        "    print(\"LAG %d\" % i)\n",
        "    print(classification_report(true[:,i],predicted[:,i]))\n",
        "\n",
        "  return scores\n",
        "\n",
        "evaluate_predictions(y_ts_test_labels,y_pred4)"
      ],
      "execution_count": 0,
      "outputs": [
        {
          "output_type": "stream",
          "text": [
            "LAG 0\n",
            "              precision    recall  f1-score   support\n",
            "\n",
            "           0       0.92      1.00      0.96      7180\n",
            "           1       0.00      0.00      0.00       531\n",
            "           2       0.00      0.00      0.00       129\n",
            "\n",
            "    accuracy                           0.92      7840\n",
            "   macro avg       0.31      0.33      0.32      7840\n",
            "weighted avg       0.84      0.92      0.88      7840\n",
            "\n",
            "LAG 1\n",
            "              precision    recall  f1-score   support\n",
            "\n",
            "           0       0.91      1.00      0.96      7171\n",
            "           1       0.00      0.00      0.00       527\n",
            "           2       0.00      0.00      0.00       142\n",
            "\n",
            "    accuracy                           0.91      7840\n",
            "   macro avg       0.30      0.33      0.32      7840\n",
            "weighted avg       0.84      0.91      0.87      7840\n",
            "\n",
            "LAG 2\n",
            "              precision    recall  f1-score   support\n",
            "\n",
            "           0       0.92      1.00      0.96      7202\n",
            "           1       0.00      0.00      0.00       492\n",
            "           2       0.00      0.00      0.00       146\n",
            "\n",
            "    accuracy                           0.92      7840\n",
            "   macro avg       0.31      0.33      0.32      7840\n",
            "weighted avg       0.84      0.92      0.88      7840\n",
            "\n",
            "LAG 3\n",
            "              precision    recall  f1-score   support\n",
            "\n",
            "           0       0.92      0.99      0.96      7198\n",
            "           1       0.45      0.07      0.12       513\n",
            "           2       0.00      0.00      0.00       129\n",
            "\n",
            "    accuracy                           0.92      7840\n",
            "   macro avg       0.46      0.36      0.36      7840\n",
            "weighted avg       0.88      0.92      0.89      7840\n",
            "\n",
            "LAG 4\n",
            "              precision    recall  f1-score   support\n",
            "\n",
            "           0       0.92      1.00      0.96      7188\n",
            "           1       0.47      0.05      0.10       528\n",
            "           2       0.00      0.00      0.00       124\n",
            "\n",
            "    accuracy                           0.92      7840\n",
            "   macro avg       0.46      0.35      0.35      7840\n",
            "weighted avg       0.88      0.92      0.88      7840\n",
            "\n",
            "LAG 5\n",
            "              precision    recall  f1-score   support\n",
            "\n",
            "           0       0.92      1.00      0.95      7156\n",
            "           1       0.53      0.05      0.09       555\n",
            "           2       0.00      0.00      0.00       129\n",
            "\n",
            "    accuracy                           0.91      7840\n",
            "   macro avg       0.48      0.35      0.35      7840\n",
            "weighted avg       0.87      0.91      0.88      7840\n",
            "\n",
            "LAG 6\n",
            "              precision    recall  f1-score   support\n",
            "\n",
            "           0       0.92      1.00      0.96      7180\n",
            "           1       0.59      0.04      0.08       514\n",
            "           2       0.00      0.00      0.00       146\n",
            "\n",
            "    accuracy                           0.92      7840\n",
            "   macro avg       0.50      0.35      0.35      7840\n",
            "weighted avg       0.88      0.92      0.88      7840\n",
            "\n",
            "LAG 7\n",
            "              precision    recall  f1-score   support\n",
            "\n",
            "           0       0.91      1.00      0.95      7144\n",
            "           1       0.61      0.04      0.08       548\n",
            "           2       0.00      0.00      0.00       148\n",
            "\n",
            "    accuracy                           0.91      7840\n",
            "   macro avg       0.51      0.35      0.34      7840\n",
            "weighted avg       0.88      0.91      0.87      7840\n",
            "\n",
            "LAG 8\n",
            "              precision    recall  f1-score   support\n",
            "\n",
            "           0       0.92      1.00      0.96      7183\n",
            "           1       0.65      0.04      0.07       520\n",
            "           2       0.00      0.00      0.00       137\n",
            "\n",
            "    accuracy                           0.92      7840\n",
            "   macro avg       0.52      0.35      0.34      7840\n",
            "weighted avg       0.88      0.92      0.88      7840\n",
            "\n",
            "LAG 9\n",
            "              precision    recall  f1-score   support\n",
            "\n",
            "           0       0.91      1.00      0.95      7152\n",
            "           1       0.66      0.04      0.07       530\n",
            "           2       0.00      0.00      0.00       158\n",
            "\n",
            "    accuracy                           0.91      7840\n",
            "   macro avg       0.52      0.34      0.34      7840\n",
            "weighted avg       0.88      0.91      0.88      7840\n",
            "\n"
          ],
          "name": "stdout"
        },
        {
          "output_type": "stream",
          "text": [
            "/usr/local/lib/python3.6/dist-packages/sklearn/metrics/classification.py:1437: UndefinedMetricWarning: Precision and F-score are ill-defined and being set to 0.0 in labels with no predicted samples.\n",
            "  'precision', 'predicted', average, warn_for)\n"
          ],
          "name": "stderr"
        },
        {
          "output_type": "execute_result",
          "data": {
            "text/plain": [
              "[0.9158163265306123,\n",
              " 0.9146683673469388,\n",
              " 0.9184948979591837,\n",
              " 0.9173469387755102,\n",
              " 0.9165816326530613,\n",
              " 0.9135204081632653,\n",
              " 0.9170918367346939,\n",
              " 0.9125,\n",
              " 0.9176020408163266,\n",
              " 0.9135204081632653]"
            ]
          },
          "metadata": {
            "tags": []
          },
          "execution_count": 159
        }
      ]
    },
    {
      "cell_type": "markdown",
      "metadata": {
        "id": "Cb2-ZJjpAszj",
        "colab_type": "text"
      },
      "source": [
        "## user2Vec: embedding users\n",
        "\n",
        "For fun, we can also embed users as well using a similar architecture as model 1. Note that this model would not work for new users as we wouldn't have any history for them. This is known as the cold-start or out of vocabulary problem."
      ]
    },
    {
      "cell_type": "code",
      "metadata": {
        "id": "spfqaek8gHmR",
        "colab_type": "code",
        "colab": {
          "base_uri": "https://localhost:8080/",
          "height": 423
        },
        "outputId": "1dd269fa-b2a5-46e2-f6e4-2f1f5119612b"
      },
      "source": [
        "user2vec_model = nn_model(input_length=input_length, num_units=hidden_size, num_actions=num_actions, num_users=num_users)\n",
        "# user2vec_model.summary()\n",
        "opt5 = Adam(lr=0.01, beta_1=0.9, beta_2=0.999, decay=0.01)\n",
        "\n",
        "user2vec_model.compile(optimizer=opt5, loss='categorical_crossentropy', metrics=['accuracy'])\n",
        "h5 = user2vec_model.fit([d,X], y, epochs=50, batch_size=128, validation_split=0.1, verbose=0,  class_weight={0:0.1, 1: 0.3, 2:0.6})"
      ],
      "execution_count": 23,
      "outputs": [
        {
          "output_type": "stream",
          "text": [
            "WARNING:tensorflow:From /usr/local/lib/python3.6/dist-packages/keras/optimizers.py:793: The name tf.train.Optimizer is deprecated. Please use tf.compat.v1.train.Optimizer instead.\n",
            "\n",
            "WARNING:tensorflow:From /usr/local/lib/python3.6/dist-packages/keras/backend/tensorflow_backend.py:3576: The name tf.log is deprecated. Please use tf.math.log instead.\n",
            "\n",
            "WARNING:tensorflow:From /usr/local/lib/python3.6/dist-packages/tensorflow_core/python/ops/math_grad.py:1424: where (from tensorflow.python.ops.array_ops) is deprecated and will be removed in a future version.\n",
            "Instructions for updating:\n",
            "Use tf.where in 2.0, which has the same broadcast rule as np.where\n",
            "WARNING:tensorflow:From /usr/local/lib/python3.6/dist-packages/keras/backend/tensorflow_backend.py:1033: The name tf.assign_add is deprecated. Please use tf.compat.v1.assign_add instead.\n",
            "\n",
            "WARNING:tensorflow:From /usr/local/lib/python3.6/dist-packages/keras/backend/tensorflow_backend.py:1020: The name tf.assign is deprecated. Please use tf.compat.v1.assign instead.\n",
            "\n",
            "WARNING:tensorflow:From /usr/local/lib/python3.6/dist-packages/keras/backend/tensorflow_backend.py:3005: The name tf.Session is deprecated. Please use tf.compat.v1.Session instead.\n",
            "\n",
            "WARNING:tensorflow:From /usr/local/lib/python3.6/dist-packages/keras/backend/tensorflow_backend.py:190: The name tf.get_default_session is deprecated. Please use tf.compat.v1.get_default_session instead.\n",
            "\n",
            "WARNING:tensorflow:From /usr/local/lib/python3.6/dist-packages/keras/backend/tensorflow_backend.py:197: The name tf.ConfigProto is deprecated. Please use tf.compat.v1.ConfigProto instead.\n",
            "\n",
            "WARNING:tensorflow:From /usr/local/lib/python3.6/dist-packages/keras/backend/tensorflow_backend.py:207: The name tf.global_variables is deprecated. Please use tf.compat.v1.global_variables instead.\n",
            "\n",
            "WARNING:tensorflow:From /usr/local/lib/python3.6/dist-packages/keras/backend/tensorflow_backend.py:216: The name tf.is_variable_initialized is deprecated. Please use tf.compat.v1.is_variable_initialized instead.\n",
            "\n",
            "WARNING:tensorflow:From /usr/local/lib/python3.6/dist-packages/keras/backend/tensorflow_backend.py:223: The name tf.variables_initializer is deprecated. Please use tf.compat.v1.variables_initializer instead.\n",
            "\n"
          ],
          "name": "stdout"
        }
      ]
    },
    {
      "cell_type": "markdown",
      "metadata": {
        "id": "80jXAwoqE5rM",
        "colab_type": "text"
      },
      "source": [
        "After training the model, we can get the embeddings from the network and visualize it."
      ]
    },
    {
      "cell_type": "code",
      "metadata": {
        "id": "hFB0Af9KwgVX",
        "colab_type": "code",
        "colab": {}
      },
      "source": [
        "## embeddings for doc2vec model\n",
        "embeddings = user2vec_model.get_layer(name='user_embedding')\n",
        "embeddings = embeddings.get_weights()[0]\n",
        "embeddings = embeddings / np.linalg.norm(embeddings, axis = 1).reshape((-1, 1))\n",
        "embeddings = np.nan_to_num(embeddings)"
      ],
      "execution_count": 0,
      "outputs": []
    },
    {
      "cell_type": "markdown",
      "metadata": {
        "id": "s7Fm6-NqAisI",
        "colab_type": "text"
      },
      "source": [
        "### Use tSNE to visualize the embeddings\n",
        "\n",
        "To visualize each user's vector, we reduce it to two dimensions using tSNE and colour code them with the 51st action"
      ]
    },
    {
      "cell_type": "code",
      "metadata": {
        "id": "qqC3evCiw74i",
        "colab_type": "code",
        "colab": {}
      },
      "source": [
        "from sklearn.manifold import TSNE\n"
      ],
      "execution_count": 0,
      "outputs": []
    },
    {
      "cell_type": "code",
      "metadata": {
        "id": "HH_1c1t9PgXJ",
        "colab_type": "code",
        "colab": {}
      },
      "source": [
        "y_labels = np.argmax(y,axis=1)"
      ],
      "execution_count": 0,
      "outputs": []
    },
    {
      "cell_type": "code",
      "metadata": {
        "id": "XC-JYSxc-66i",
        "colab_type": "code",
        "colab": {}
      },
      "source": [
        "## Embeddings for doc2vec model\n",
        "tsne = TSNE(n_components=2, init='pca', random_state=0)\n",
        "embeddings_reduced = tsne.fit_transform(embeddings)"
      ],
      "execution_count": 0,
      "outputs": []
    },
    {
      "cell_type": "code",
      "metadata": {
        "id": "oc4m9i5A_FjG",
        "colab_type": "code",
        "outputId": "c73cbe90-3135-468f-b039-7fa15342a9dc",
        "colab": {
          "base_uri": "https://localhost:8080/",
          "height": 265
        }
      },
      "source": [
        "plt.figure()\n",
        "colors = ['navy', 'darkorange', 'red']\n",
        "lw = 2\n",
        "target_names = action_to_idx.keys()\n",
        "\n",
        "#original points\n",
        "for color, i, target_name in zip(colors, [0, 1,2], target_names):\n",
        "    plt.scatter(embeddings_reduced[y_labels == i, 0], embeddings_reduced[y_labels == i, 1], color=color, alpha=.8, lw=lw,\n",
        "                label=target_name)\n",
        "plt.legend(loc='best', shadow=False, scatterpoints=1)\n",
        "plt.savefig(\"embedding.png\")"
      ],
      "execution_count": 29,
      "outputs": [
        {
          "output_type": "display_data",
          "data": {
            "image/png": "[encoded data removed]",
            "text/plain": [
              "<Figure size 432x288 with 1 Axes>"
            ]
          },
          "metadata": {
            "tags": []
          }
        }
      ]
    },
    {
      "cell_type": "markdown",
      "metadata": {
        "id": "BKFacmfYE_cA",
        "colab_type": "text"
      },
      "source": [
        "We can see above that the NN did a good job of embedding users. The large cluster on the left are users who predominantly view items and a smaller cluster on the right with users who do add the viewed items to their shopping cart and/or checkout."
      ]
    },
    {
      "cell_type": "code",
      "metadata": {
        "id": "uG-cPh9KPZRV",
        "colab_type": "code",
        "colab": {}
      },
      "source": [
        "pickle.dump( visitor_sessions, bz2.BZ2File('visitor_sessions.pkl', 'w') )\n",
        "pickle.dump( embeddings3, bz2.BZ2File('embeddings3.pkl', 'w') )"
      ],
      "execution_count": 0,
      "outputs": []
    },
    {
      "cell_type": "markdown",
      "metadata": {
        "id": "JDNes5deFmqZ",
        "colab_type": "text"
      },
      "source": [
        "## Conclusion\n",
        "\n",
        "There are many different ways we can build a model to predict user journeys. Here we showed four different ways that only uses previous user actions. Other ideas we can try could be to include additional features into the model, e.g., the characteristics of the items being viewed."
      ]
    },
    {
      "cell_type": "markdown",
      "metadata": {
        "id": "T7xIIq31CHd1",
        "colab_type": "text"
      },
      "source": [
        "To Dos\n",
        "\n",
        "\n",
        "*   [ ] visualize sequence of user actions\n",
        "*   [x] create proper train and test sets\n",
        "*   [ ] incorporate item features into model\n",
        "* [x] check LSTM is embedding users correctly\n",
        "     * [x] create data set by user sessions\n",
        "* [x] are new users embedded correctly?\n",
        "    * only 'in vocabulary' users are embedded, to predict new users's actions, you'd have to find their neighbours\n",
        "* [X] predict next steps\n",
        "* [ ] add results to slides\n",
        "* [ ] tidy up and comment code\n",
        "* [ ] add resources to slides\n",
        "\n",
        "learn the embeddings, use the embeddings to predict in a separate model\n",
        "\n",
        "or learn the embeddings in the same model\n",
        "\n",
        "\n",
        "\n",
        "\n",
        "\n",
        "\n"
      ]
    },
    {
      "cell_type": "code",
      "metadata": {
        "id": "hxg5cR06G8_1",
        "colab_type": "code",
        "colab": {}
      },
      "source": [
        ""
      ],
      "execution_count": 0,
      "outputs": []
    }
  ]
}