{
  "nbformat": 4,
  "nbformat_minor": 0,
  "metadata": {
    "colab": {
      "name": "NextAction.ipynb",
      "version": "0.3.2",
      "provenance": [],
      "include_colab_link": true
    },
    "kernelspec": {
      "name": "python3",
      "display_name": "Python 3"
    }
  },
  "cells": [
    {
      "cell_type": "markdown",
      "metadata": {
        "id": "view-in-github",
        "colab_type": "text"
      },
      "source": [
        "<a href=\"https://colab.research.google.com/github/j3nguyen/user_item_embeddings/blob/master/NextAction.ipynb\" target=\"_parent\"><img src=\"https://colab.research.google.com/assets/colab-badge.svg\" alt=\"Open In Colab\"/></a>"
      ]
    },
    {
      "cell_type": "code",
      "metadata": {
        "id": "i7lmWYxUscXg",
        "colab_type": "code",
        "colab": {}
      },
      "source": [
        "import re\n",
        "import numpy as np\n",
        "import pandas as pd\n",
        "from pprint import pprint\n",
        "\n",
        "# Gensim\n",
        "# import gensim\n",
        "# import gensim.corpora as corpora\n",
        "# from gensim.utils import simple_preprocess\n",
        "# from gensim.models import CoherenceModel\n",
        "\n",
        "# spacy for lemmatization\n",
        "# import spacy\n",
        "\n",
        "# NLTK for stopwords and stemming\n",
        "# from nltk.stem.porter import * \n",
        "# from nltk.stem.snowball import SnowballStemmer\n",
        "# from nltk.corpus import stopwords\n",
        "# stop_words = stopwords.words('english')\n",
        "\n",
        "# Plotting tools\n",
        "# import pyLDAvis\n",
        "# import pyLDAvis.gensim  # don't skip this\n",
        "import matplotlib.pyplot as plt\n",
        "import matplotlib"
      ],
      "execution_count": 0,
      "outputs": []
    },
    {
      "cell_type": "code",
      "metadata": {
        "id": "EJyyvljXsfw-",
        "colab_type": "code",
        "colab": {
          "base_uri": "https://localhost:8080/",
          "height": 67
        },
        "outputId": "446980b1-84b4-45a5-fb85-acd0dcf6e9f0"
      },
      "source": [
        "import nltk\n",
        "nltk.download('stopwords')"
      ],
      "execution_count": 58,
      "outputs": [
        {
          "output_type": "stream",
          "text": [
            "[nltk_data] Downloading package stopwords to /root/nltk_data...\n",
            "[nltk_data]   Unzipping corpora/stopwords.zip.\n"
          ],
          "name": "stdout"
        },
        {
          "output_type": "execute_result",
          "data": {
            "text/plain": [
              "True"
            ]
          },
          "metadata": {
            "tags": []
          },
          "execution_count": 58
        }
      ]
    },
    {
      "cell_type": "code",
      "metadata": {
        "id": "Ru9frj6Xs7yr",
        "colab_type": "code",
        "colab": {}
      },
      "source": [
        "import keras"
      ],
      "execution_count": 0,
      "outputs": []
    },
    {
      "cell_type": "code",
      "metadata": {
        "id": "1UlLuUz6s9lM",
        "colab_type": "code",
        "colab": {}
      },
      "source": [
        "from keras.models import Sequential, Model\n",
        "from keras.layers import Input, LSTM, Dense, Average, Dropout, Embedding, Activation, TimeDistributed, Concatenate, Flatten, Lambda\n",
        "from keras.optimizers import Adam"
      ],
      "execution_count": 0,
      "outputs": []
    },
    {
      "cell_type": "code",
      "metadata": {
        "id": "vfML1r4FxGRD",
        "colab_type": "code",
        "colab": {}
      },
      "source": [
        "df = pd.read_csv(\"events.csv\")"
      ],
      "execution_count": 0,
      "outputs": []
    },
    {
      "cell_type": "code",
      "metadata": {
        "id": "kdr9sjNNxO00",
        "colab_type": "code",
        "colab": {
          "base_uri": "https://localhost:8080/",
          "height": 195
        },
        "outputId": "574b48ac-6612-4ab8-e37a-76b4b54c16c1"
      },
      "source": [
        "df.head()"
      ],
      "execution_count": 70,
      "outputs": [
        {
          "output_type": "execute_result",
          "data": {
            "text/html": [
              "<div>\n",
              "<style scoped>\n",
              "    .dataframe tbody tr th:only-of-type {\n",
              "        vertical-align: middle;\n",
              "    }\n",
              "\n",
              "    .dataframe tbody tr th {\n",
              "        vertical-align: top;\n",
              "    }\n",
              "\n",
              "    .dataframe thead th {\n",
              "        text-align: right;\n",
              "    }\n",
              "</style>\n",
              "<table border=\"1\" class=\"dataframe\">\n",
              "  <thead>\n",
              "    <tr style=\"text-align: right;\">\n",
              "      <th></th>\n",
              "      <th>timestamp</th>\n",
              "      <th>visitorid</th>\n",
              "      <th>event</th>\n",
              "      <th>itemid</th>\n",
              "      <th>transactionid</th>\n",
              "    </tr>\n",
              "  </thead>\n",
              "  <tbody>\n",
              "    <tr>\n",
              "      <th>0</th>\n",
              "      <td>1433221332117</td>\n",
              "      <td>257597</td>\n",
              "      <td>view</td>\n",
              "      <td>355908</td>\n",
              "      <td>NaN</td>\n",
              "    </tr>\n",
              "    <tr>\n",
              "      <th>1</th>\n",
              "      <td>1433224214164</td>\n",
              "      <td>992329</td>\n",
              "      <td>view</td>\n",
              "      <td>248676</td>\n",
              "      <td>NaN</td>\n",
              "    </tr>\n",
              "    <tr>\n",
              "      <th>2</th>\n",
              "      <td>1433221999827</td>\n",
              "      <td>111016</td>\n",
              "      <td>view</td>\n",
              "      <td>318965</td>\n",
              "      <td>NaN</td>\n",
              "    </tr>\n",
              "    <tr>\n",
              "      <th>3</th>\n",
              "      <td>1433221955914</td>\n",
              "      <td>483717</td>\n",
              "      <td>view</td>\n",
              "      <td>253185</td>\n",
              "      <td>NaN</td>\n",
              "    </tr>\n",
              "    <tr>\n",
              "      <th>4</th>\n",
              "      <td>1433221337106</td>\n",
              "      <td>951259</td>\n",
              "      <td>view</td>\n",
              "      <td>367447</td>\n",
              "      <td>NaN</td>\n",
              "    </tr>\n",
              "  </tbody>\n",
              "</table>\n",
              "</div>"
            ],
            "text/plain": [
              "       timestamp  visitorid event  itemid  transactionid\n",
              "0  1433221332117     257597  view  355908            NaN\n",
              "1  1433224214164     992329  view  248676            NaN\n",
              "2  1433221999827     111016  view  318965            NaN\n",
              "3  1433221955914     483717  view  253185            NaN\n",
              "4  1433221337106     951259  view  367447            NaN"
            ]
          },
          "metadata": {
            "tags": []
          },
          "execution_count": 70
        }
      ]
    },
    {
      "cell_type": "code",
      "metadata": {
        "id": "UoC-P7sYxQYX",
        "colab_type": "code",
        "colab": {}
      },
      "source": [
        "# reformat the data set\n",
        "visitor_ids = df.visitorid.unique()"
      ],
      "execution_count": 0,
      "outputs": []
    },
    {
      "cell_type": "code",
      "metadata": {
        "id": "MHMvV21cxg-T",
        "colab_type": "code",
        "colab": {
          "base_uri": "https://localhost:8080/",
          "height": 34
        },
        "outputId": "ffa32c10-8d12-4101-fd03-e45f866ee268"
      },
      "source": [
        "df.shape"
      ],
      "execution_count": 72,
      "outputs": [
        {
          "output_type": "execute_result",
          "data": {
            "text/plain": [
              "(2756101, 5)"
            ]
          },
          "metadata": {
            "tags": []
          },
          "execution_count": 72
        }
      ]
    },
    {
      "cell_type": "code",
      "metadata": {
        "id": "RKdIig2DxoG_",
        "colab_type": "code",
        "colab": {
          "base_uri": "https://localhost:8080/",
          "height": 84
        },
        "outputId": "a36ad26b-1167-4583-bd35-29f4cf55960d"
      },
      "source": [
        "df.event.value_counts()"
      ],
      "execution_count": 73,
      "outputs": [
        {
          "output_type": "execute_result",
          "data": {
            "text/plain": [
              "view           2664312\n",
              "addtocart        69332\n",
              "transaction      22457\n",
              "Name: event, dtype: int64"
            ]
          },
          "metadata": {
            "tags": []
          },
          "execution_count": 73
        }
      ]
    },
    {
      "cell_type": "code",
      "metadata": {
        "id": "wQUbzn4-4Mq9",
        "colab_type": "code",
        "colab": {}
      },
      "source": [
        "action_to_idx = {\"view\": 0, \"addtocart\": 1, \"transaction\": 2}"
      ],
      "execution_count": 0,
      "outputs": []
    },
    {
      "cell_type": "code",
      "metadata": {
        "id": "FEKxbog95qZ_",
        "colab_type": "code",
        "colab": {
          "base_uri": "https://localhost:8080/",
          "height": 34
        },
        "outputId": "5b908be3-e438-4bbe-d454-8f18dca6a3ea"
      },
      "source": [
        "# build the data set\n",
        "\n",
        "a = df[df.visitorid == visitor_ids[342]].sort_values(\"timestamp\").event.values\n",
        "a = list(map(lambda x: action_to_idx[x],a))\n",
        "a"
      ],
      "execution_count": 10,
      "outputs": [
        {
          "output_type": "execute_result",
          "data": {
            "text/plain": [
              "[0, 0, 0]"
            ]
          },
          "metadata": {
            "tags": []
          },
          "execution_count": 10
        }
      ]
    },
    {
      "cell_type": "code",
      "metadata": {
        "id": "HMaW7q4-6Btl",
        "colab_type": "code",
        "colab": {}
      },
      "source": [
        "visitor_activity = {}\n",
        "\n",
        "for visitor in visitor_ids[:1000]:\n",
        "  # get user's actions in order of time\n",
        "  actions = df[df.visitorid == visitor].sort_values(\"timestamp\").event.values\n",
        "  \n",
        "  if len(actions) > 50:\n",
        "    actions = list(map(lambda x: action_to_idx[x],actions)) [:51] \n",
        "    visitor_activity[visitor] = actions"
      ],
      "execution_count": 0,
      "outputs": []
    },
    {
      "cell_type": "code",
      "metadata": {
        "id": "2az0tCkqfSTi",
        "colab_type": "code",
        "colab": {}
      },
      "source": [
        "hidden_size = 64\n",
        "num_actions = len(action_to_idx)\n",
        "input_length = 50\n",
        "num_users = len(visitor_activity)"
      ],
      "execution_count": 0,
      "outputs": []
    },
    {
      "cell_type": "code",
      "metadata": {
        "id": "u1gknWh-71CB",
        "colab_type": "code",
        "colab": {}
      },
      "source": [
        "#create the LSTM network\n",
        "\n",
        "# model = Sequential()\n",
        "# model.add(Embedding(\n",
        "#     input_dim=num_actions,\n",
        "#     output_dim=hidden_size, #hidden layer dimension\n",
        "#     input_length=input_length,\n",
        "#     trainable=True\n",
        "#   )\n",
        "# )\n",
        "\n",
        "# model.add(LSTM(hidden_size, return_sequences=True))\n",
        "# model.add(Dropout(rate=0.5))\n",
        "# model.add(Activation('softmax'))\n",
        "\n",
        "\n",
        "model = Sequential()\n",
        "model.add(Embedding(num_actions, hidden_size, input_length=input_length))\n",
        "model.add(LSTM(hidden_size, return_sequences=True))\n",
        "model.add(LSTM(hidden_size, return_sequences=False))\n",
        "\n",
        "model.add(Dropout(rate=0.5))\n",
        "# model.add(TimeDistributed(Dense(num_actions)))\n",
        "# model.add(Activation('softmax'))\n",
        "model.add(Dense(num_actions, activation='softmax'))\n"
      ],
      "execution_count": 0,
      "outputs": []
    },
    {
      "cell_type": "code",
      "metadata": {
        "id": "lEUKZOnDe0rm",
        "colab_type": "code",
        "colab": {}
      },
      "source": [
        "#Create the LSTM  network using the functional API\n",
        "\n",
        "\n",
        "# sequence of actions\n",
        "A = Input(shape=(input_length,), name=\"actions\") #length of sequence, size of vocab\n",
        "\n",
        "# document ID\n",
        "U = Input(shape=(1,), name=\"users\")\n",
        "\n",
        "#create embedding for actions and for users\n",
        "a = Embedding(input_dim=num_actions, output_dim=hidden_size, input_length=input_length)(A) # shape 50,64\n",
        "u = Embedding(input_dim=num_users, output_dim=hidden_size, input_length=1)(U) # shape 1,64\n",
        "\n",
        "# combine embeddings\n",
        "x = Concatenate(axis=1)([u,a])\n",
        "\n",
        "# shared LSTM\n",
        "# x = Dense(hidden_size,activation='relu')(x)\n",
        "# # predictions = Flatten()(x\n",
        "\n",
        "split = Lambda(my_split(input_length))(x)\n",
        "averaged = Average()(split)\n",
        "squeezed = Lambda(squeeze(axis=1))(averaged)\n",
        "\n",
        "predictions = Dense(num_actions, activation='softmax')(squeezed)\n",
        "\n",
        "model = Model(inputs=[A, U], outputs=predictions)"
      ],
      "execution_count": 0,
      "outputs": []
    },
    {
      "cell_type": "code",
      "metadata": {
        "id": "raV1uFssMs6U",
        "colab_type": "code",
        "colab": {}
      },
      "source": [
        "opt = Adam(lr=0.01, beta_1=0.9, beta_2=0.999, decay=0.01)\n",
        "\n",
        "model.compile(optimizer=opt, loss='categorical_crossentropy', metrics=['accuracy'])"
      ],
      "execution_count": 0,
      "outputs": []
    },
    {
      "cell_type": "code",
      "metadata": {
        "id": "k4XZ5wilM9cv",
        "colab_type": "code",
        "colab": {
          "base_uri": "https://localhost:8080/",
          "height": 1000
        },
        "outputId": "dab46360-5243-4c40-bf18-f878989d4106"
      },
      "source": [
        "model.summary()"
      ],
      "execution_count": 124,
      "outputs": [
        {
          "output_type": "stream",
          "text": [
            "__________________________________________________________________________________________________\n",
            "Layer (type)                    Output Shape         Param #     Connected to                     \n",
            "==================================================================================================\n",
            "users (InputLayer)              (None, 1)            0                                            \n",
            "__________________________________________________________________________________________________\n",
            "actions (InputLayer)            (None, 50)           0                                            \n",
            "__________________________________________________________________________________________________\n",
            "embedding_36 (Embedding)        (None, 1, 64)        2432        users[0][0]                      \n",
            "__________________________________________________________________________________________________\n",
            "embedding_35 (Embedding)        (None, 50, 64)       192         actions[0][0]                    \n",
            "__________________________________________________________________________________________________\n",
            "concatenate_17 (Concatenate)    (None, 51, 64)       0           embedding_36[0][0]               \n",
            "                                                                 embedding_35[0][0]               \n",
            "__________________________________________________________________________________________________\n",
            "lambda_4 (Lambda)               [(None, 1, 64), (Non 0           concatenate_17[0][0]             \n",
            "__________________________________________________________________________________________________\n",
            "average_2 (Average)             (None, 1, 64)        0           lambda_4[0][0]                   \n",
            "                                                                 lambda_4[0][1]                   \n",
            "                                                                 lambda_4[0][2]                   \n",
            "                                                                 lambda_4[0][3]                   \n",
            "                                                                 lambda_4[0][4]                   \n",
            "                                                                 lambda_4[0][5]                   \n",
            "                                                                 lambda_4[0][6]                   \n",
            "                                                                 lambda_4[0][7]                   \n",
            "                                                                 lambda_4[0][8]                   \n",
            "                                                                 lambda_4[0][9]                   \n",
            "                                                                 lambda_4[0][10]                  \n",
            "                                                                 lambda_4[0][11]                  \n",
            "                                                                 lambda_4[0][12]                  \n",
            "                                                                 lambda_4[0][13]                  \n",
            "                                                                 lambda_4[0][14]                  \n",
            "                                                                 lambda_4[0][15]                  \n",
            "                                                                 lambda_4[0][16]                  \n",
            "                                                                 lambda_4[0][17]                  \n",
            "                                                                 lambda_4[0][18]                  \n",
            "                                                                 lambda_4[0][19]                  \n",
            "                                                                 lambda_4[0][20]                  \n",
            "                                                                 lambda_4[0][21]                  \n",
            "                                                                 lambda_4[0][22]                  \n",
            "                                                                 lambda_4[0][23]                  \n",
            "                                                                 lambda_4[0][24]                  \n",
            "                                                                 lambda_4[0][25]                  \n",
            "                                                                 lambda_4[0][26]                  \n",
            "                                                                 lambda_4[0][27]                  \n",
            "                                                                 lambda_4[0][28]                  \n",
            "                                                                 lambda_4[0][29]                  \n",
            "                                                                 lambda_4[0][30]                  \n",
            "                                                                 lambda_4[0][31]                  \n",
            "                                                                 lambda_4[0][32]                  \n",
            "                                                                 lambda_4[0][33]                  \n",
            "                                                                 lambda_4[0][34]                  \n",
            "                                                                 lambda_4[0][35]                  \n",
            "                                                                 lambda_4[0][36]                  \n",
            "                                                                 lambda_4[0][37]                  \n",
            "                                                                 lambda_4[0][38]                  \n",
            "                                                                 lambda_4[0][39]                  \n",
            "                                                                 lambda_4[0][40]                  \n",
            "                                                                 lambda_4[0][41]                  \n",
            "                                                                 lambda_4[0][42]                  \n",
            "                                                                 lambda_4[0][43]                  \n",
            "                                                                 lambda_4[0][44]                  \n",
            "                                                                 lambda_4[0][45]                  \n",
            "                                                                 lambda_4[0][46]                  \n",
            "                                                                 lambda_4[0][47]                  \n",
            "                                                                 lambda_4[0][48]                  \n",
            "                                                                 lambda_4[0][49]                  \n",
            "                                                                 lambda_4[0][50]                  \n",
            "__________________________________________________________________________________________________\n",
            "lambda_5 (Lambda)               (None, 64)           0           average_2[0][0]                  \n",
            "__________________________________________________________________________________________________\n",
            "dense_20 (Dense)                (None, 3)            195         lambda_5[0][0]                   \n",
            "==================================================================================================\n",
            "Total params: 2,819\n",
            "Trainable params: 2,819\n",
            "Non-trainable params: 0\n",
            "__________________________________________________________________________________________________\n"
          ],
          "name": "stdout"
        }
      ]
    },
    {
      "cell_type": "code",
      "metadata": {
        "id": "6uyw081aNmZw",
        "colab_type": "code",
        "colab": {
          "base_uri": "https://localhost:8080/",
          "height": 34
        },
        "outputId": "ab2b1953-8a29-4854-b364-efbe48cfefc1"
      },
      "source": [
        "max(list(map(lambda x: len(x),visitor_activity.values())))"
      ],
      "execution_count": 17,
      "outputs": [
        {
          "output_type": "execute_result",
          "data": {
            "text/plain": [
              "51"
            ]
          },
          "metadata": {
            "tags": []
          },
          "execution_count": 17
        }
      ]
    },
    {
      "cell_type": "code",
      "metadata": {
        "id": "bJy3z1wFadTi",
        "colab_type": "code",
        "colab": {}
      },
      "source": [
        "from keras.utils import to_categorical"
      ],
      "execution_count": 0,
      "outputs": []
    },
    {
      "cell_type": "code",
      "metadata": {
        "colab_type": "code",
        "id": "RaGIAx7ll0jU",
        "colab": {}
      },
      "source": [
        "actions = visitor_activity.values()\n",
        "d_train = np.array(range(len(actions)))\n",
        "X_train = np.array(list(map(lambda x: x[:-1], actions))) \n",
        "y_train = to_categorical(np.array(list(map(lambda x: x[50], actions))), num_classes=3) # shift sequence on step forward\n"
      ],
      "execution_count": 0,
      "outputs": []
    },
    {
      "cell_type": "code",
      "metadata": {
        "id": "b78uOWSdkGYp",
        "colab_type": "code",
        "colab": {
          "base_uri": "https://localhost:8080/",
          "height": 34
        },
        "outputId": "048d7c26-8c6b-406c-ac7d-a48ad5c20b2c"
      },
      "source": [
        "y_train.shape"
      ],
      "execution_count": 103,
      "outputs": [
        {
          "output_type": "execute_result",
          "data": {
            "text/plain": [
              "(38, 3)"
            ]
          },
          "metadata": {
            "tags": []
          },
          "execution_count": 103
        }
      ]
    },
    {
      "cell_type": "code",
      "metadata": {
        "colab_type": "code",
        "id": "r0beNKrAlzxP",
        "colab": {}
      },
      "source": [
        "def my_split(window_size):\n",
        "    def _lambda(tensor):\n",
        "        import tensorflow as tf\n",
        "        return tf.split(tensor, window_size + 1, axis=1)\n",
        "    return _lambda\n",
        "\n",
        "\n",
        "def squeeze(axis=-1):\n",
        "    def _lambda(tensor):\n",
        "        import tensorflow as tf\n",
        "        return tf.squeeze(tensor, axis=axis)\n",
        "    return _lambda\n",
        "\n",
        "\n",
        "def stack(window_size):\n",
        "    def _lambda(tensor):\n",
        "        import tensorflow as tf\n",
        "        return tf.stack([tensor] * window_size, axis=1)\n",
        "    return _lambda"
      ],
      "execution_count": 0,
      "outputs": []
    },
    {
      "cell_type": "code",
      "metadata": {
        "id": "jAJB-6K-XaTs",
        "colab_type": "code",
        "colab": {
          "base_uri": "https://localhost:8080/",
          "height": 34
        },
        "outputId": "fdcf8857-8b05-457d-83c2-04d6fac14522"
      },
      "source": [
        ""
      ],
      "execution_count": 53,
      "outputs": [
        {
          "output_type": "execute_result",
          "data": {
            "text/plain": [
              "(899, 50)"
            ]
          },
          "metadata": {
            "tags": []
          },
          "execution_count": 53
        }
      ]
    },
    {
      "cell_type": "code",
      "metadata": {
        "id": "659x-AsLPw-x",
        "colab_type": "code",
        "colab": {
          "base_uri": "https://localhost:8080/",
          "height": 1000
        },
        "outputId": "9fc91bfe-f55a-4b4a-988a-e0e6808edce4"
      },
      "source": [
        "h = model.fit([X_train,d_train], y_train, epochs=50, batch_size=128, validation_split=0.1, verbose=1)"
      ],
      "execution_count": 121,
      "outputs": [
        {
          "output_type": "stream",
          "text": [
            "W0809 20:00:59.338821 140713835227008 deprecation.py:323] From /usr/local/lib/python3.6/dist-packages/tensorflow/python/ops/math_grad.py:1250: add_dispatch_support.<locals>.wrapper (from tensorflow.python.ops.array_ops) is deprecated and will be removed in a future version.\n",
            "Instructions for updating:\n",
            "Use tf.where in 2.0, which has the same broadcast rule as np.where\n",
            "W0809 20:00:59.719427 140713835227008 deprecation_wrapper.py:119] From /usr/local/lib/python3.6/dist-packages/keras/backend/tensorflow_backend.py:986: The name tf.assign_add is deprecated. Please use tf.compat.v1.assign_add instead.\n",
            "\n"
          ],
          "name": "stderr"
        },
        {
          "output_type": "stream",
          "text": [
            "Train on 34 samples, validate on 4 samples\n",
            "Epoch 1/50\n",
            "34/34 [==============================] - 1s 38ms/step - loss: 1.0792 - acc: 0.0294 - val_loss: 1.0060 - val_acc: 1.0000\n",
            "Epoch 2/50\n",
            "34/34 [==============================] - 0s 251us/step - loss: 1.0166 - acc: 0.9118 - val_loss: 0.9287 - val_acc: 1.0000\n",
            "Epoch 3/50\n",
            "34/34 [==============================] - 0s 260us/step - loss: 0.9484 - acc: 0.9118 - val_loss: 0.8490 - val_acc: 1.0000\n",
            "Epoch 4/50\n",
            "34/34 [==============================] - 0s 150us/step - loss: 0.8787 - acc: 0.9118 - val_loss: 0.7670 - val_acc: 1.0000\n",
            "Epoch 5/50\n",
            "34/34 [==============================] - 0s 156us/step - loss: 0.8078 - acc: 0.9118 - val_loss: 0.6829 - val_acc: 1.0000\n",
            "Epoch 6/50\n",
            "34/34 [==============================] - 0s 133us/step - loss: 0.7362 - acc: 0.9118 - val_loss: 0.5980 - val_acc: 1.0000\n",
            "Epoch 7/50\n",
            "34/34 [==============================] - 0s 145us/step - loss: 0.6652 - acc: 0.9118 - val_loss: 0.5142 - val_acc: 1.0000\n",
            "Epoch 8/50\n",
            "34/34 [==============================] - 0s 168us/step - loss: 0.5970 - acc: 0.9118 - val_loss: 0.4338 - val_acc: 1.0000\n",
            "Epoch 9/50\n",
            "34/34 [==============================] - 0s 156us/step - loss: 0.5339 - acc: 0.9118 - val_loss: 0.3592 - val_acc: 1.0000\n",
            "Epoch 10/50\n",
            "34/34 [==============================] - 0s 172us/step - loss: 0.4780 - acc: 0.9118 - val_loss: 0.2923 - val_acc: 1.0000\n",
            "Epoch 11/50\n",
            "34/34 [==============================] - 0s 191us/step - loss: 0.4309 - acc: 0.9118 - val_loss: 0.2345 - val_acc: 1.0000\n",
            "Epoch 12/50\n",
            "34/34 [==============================] - 0s 143us/step - loss: 0.3936 - acc: 0.9118 - val_loss: 0.1862 - val_acc: 1.0000\n",
            "Epoch 13/50\n",
            "34/34 [==============================] - 0s 143us/step - loss: 0.3660 - acc: 0.9118 - val_loss: 0.1473 - val_acc: 1.0000\n",
            "Epoch 14/50\n",
            "34/34 [==============================] - 0s 164us/step - loss: 0.3473 - acc: 0.9118 - val_loss: 0.1167 - val_acc: 1.0000\n",
            "Epoch 15/50\n",
            "34/34 [==============================] - 0s 152us/step - loss: 0.3359 - acc: 0.9118 - val_loss: 0.0933 - val_acc: 1.0000\n",
            "Epoch 16/50\n",
            "34/34 [==============================] - 0s 151us/step - loss: 0.3302 - acc: 0.9118 - val_loss: 0.0757 - val_acc: 1.0000\n",
            "Epoch 17/50\n",
            "34/34 [==============================] - 0s 158us/step - loss: 0.3284 - acc: 0.9118 - val_loss: 0.0626 - val_acc: 1.0000\n",
            "Epoch 18/50\n",
            "34/34 [==============================] - 0s 160us/step - loss: 0.3290 - acc: 0.9118 - val_loss: 0.0531 - val_acc: 1.0000\n",
            "Epoch 19/50\n",
            "34/34 [==============================] - 0s 141us/step - loss: 0.3306 - acc: 0.9118 - val_loss: 0.0463 - val_acc: 1.0000\n",
            "Epoch 20/50\n",
            "34/34 [==============================] - 0s 189us/step - loss: 0.3324 - acc: 0.9118 - val_loss: 0.0415 - val_acc: 1.0000\n",
            "Epoch 21/50\n",
            "34/34 [==============================] - 0s 151us/step - loss: 0.3337 - acc: 0.9118 - val_loss: 0.0382 - val_acc: 1.0000\n",
            "Epoch 22/50\n",
            "34/34 [==============================] - 0s 158us/step - loss: 0.3342 - acc: 0.9118 - val_loss: 0.0362 - val_acc: 1.0000\n",
            "Epoch 23/50\n",
            "34/34 [==============================] - 0s 140us/step - loss: 0.3335 - acc: 0.9118 - val_loss: 0.0352 - val_acc: 1.0000\n",
            "Epoch 24/50\n",
            "34/34 [==============================] - 0s 185us/step - loss: 0.3318 - acc: 0.9118 - val_loss: 0.0350 - val_acc: 1.0000\n",
            "Epoch 25/50\n",
            "34/34 [==============================] - 0s 164us/step - loss: 0.3289 - acc: 0.9118 - val_loss: 0.0355 - val_acc: 1.0000\n",
            "Epoch 26/50\n",
            "34/34 [==============================] - 0s 134us/step - loss: 0.3252 - acc: 0.9118 - val_loss: 0.0367 - val_acc: 1.0000\n",
            "Epoch 27/50\n",
            "34/34 [==============================] - 0s 129us/step - loss: 0.3207 - acc: 0.9118 - val_loss: 0.0386 - val_acc: 1.0000\n",
            "Epoch 28/50\n",
            "34/34 [==============================] - 0s 133us/step - loss: 0.3156 - acc: 0.9118 - val_loss: 0.0410 - val_acc: 1.0000\n",
            "Epoch 29/50\n",
            "34/34 [==============================] - 0s 144us/step - loss: 0.3101 - acc: 0.9118 - val_loss: 0.0441 - val_acc: 1.0000\n",
            "Epoch 30/50\n",
            "34/34 [==============================] - 0s 151us/step - loss: 0.3044 - acc: 0.9118 - val_loss: 0.0477 - val_acc: 1.0000\n",
            "Epoch 31/50\n",
            "34/34 [==============================] - 0s 127us/step - loss: 0.2987 - acc: 0.9118 - val_loss: 0.0519 - val_acc: 1.0000\n",
            "Epoch 32/50\n",
            "34/34 [==============================] - 0s 140us/step - loss: 0.2931 - acc: 0.9118 - val_loss: 0.0566 - val_acc: 1.0000\n",
            "Epoch 33/50\n",
            "34/34 [==============================] - 0s 149us/step - loss: 0.2878 - acc: 0.9118 - val_loss: 0.0617 - val_acc: 1.0000\n",
            "Epoch 34/50\n",
            "34/34 [==============================] - 0s 132us/step - loss: 0.2830 - acc: 0.9118 - val_loss: 0.0674 - val_acc: 1.0000\n",
            "Epoch 35/50\n",
            "34/34 [==============================] - 0s 151us/step - loss: 0.2786 - acc: 0.9118 - val_loss: 0.0733 - val_acc: 1.0000\n",
            "Epoch 36/50\n",
            "34/34 [==============================] - 0s 171us/step - loss: 0.2747 - acc: 0.9118 - val_loss: 0.0795 - val_acc: 1.0000\n",
            "Epoch 37/50\n",
            "34/34 [==============================] - 0s 196us/step - loss: 0.2714 - acc: 0.9118 - val_loss: 0.0858 - val_acc: 1.0000\n",
            "Epoch 38/50\n",
            "34/34 [==============================] - 0s 169us/step - loss: 0.2685 - acc: 0.9118 - val_loss: 0.0920 - val_acc: 1.0000\n",
            "Epoch 39/50\n",
            "34/34 [==============================] - 0s 253us/step - loss: 0.2661 - acc: 0.9118 - val_loss: 0.0981 - val_acc: 1.0000\n",
            "Epoch 40/50\n",
            "34/34 [==============================] - 0s 172us/step - loss: 0.2641 - acc: 0.9118 - val_loss: 0.1038 - val_acc: 1.0000\n",
            "Epoch 41/50\n",
            "34/34 [==============================] - 0s 109us/step - loss: 0.2623 - acc: 0.9118 - val_loss: 0.1091 - val_acc: 1.0000\n",
            "Epoch 42/50\n",
            "34/34 [==============================] - 0s 196us/step - loss: 0.2607 - acc: 0.9118 - val_loss: 0.1137 - val_acc: 1.0000\n",
            "Epoch 43/50\n",
            "34/34 [==============================] - 0s 201us/step - loss: 0.2593 - acc: 0.9118 - val_loss: 0.1177 - val_acc: 1.0000\n",
            "Epoch 44/50\n",
            "34/34 [==============================] - 0s 150us/step - loss: 0.2578 - acc: 0.9118 - val_loss: 0.1210 - val_acc: 1.0000\n",
            "Epoch 45/50\n",
            "34/34 [==============================] - 0s 113us/step - loss: 0.2562 - acc: 0.9118 - val_loss: 0.1235 - val_acc: 1.0000\n",
            "Epoch 46/50\n",
            "34/34 [==============================] - 0s 183us/step - loss: 0.2546 - acc: 0.9118 - val_loss: 0.1253 - val_acc: 1.0000\n",
            "Epoch 47/50\n",
            "34/34 [==============================] - 0s 136us/step - loss: 0.2528 - acc: 0.9118 - val_loss: 0.1264 - val_acc: 1.0000\n",
            "Epoch 48/50\n",
            "34/34 [==============================] - 0s 132us/step - loss: 0.2509 - acc: 0.9118 - val_loss: 0.1269 - val_acc: 1.0000\n",
            "Epoch 49/50\n",
            "34/34 [==============================] - 0s 129us/step - loss: 0.2489 - acc: 0.9118 - val_loss: 0.1268 - val_acc: 1.0000\n",
            "Epoch 50/50\n",
            "34/34 [==============================] - 0s 177us/step - loss: 0.2468 - acc: 0.9118 - val_loss: 0.1263 - val_acc: 1.0000\n"
          ],
          "name": "stdout"
        }
      ]
    },
    {
      "cell_type": "code",
      "metadata": {
        "id": "8Xhoqc1uXOZ6",
        "colab_type": "code",
        "colab": {}
      },
      "source": [
        "pred_prob = model.predict(X_train)"
      ],
      "execution_count": 0,
      "outputs": []
    },
    {
      "cell_type": "code",
      "metadata": {
        "id": "NuImBzNoioQn",
        "colab_type": "code",
        "colab": {}
      },
      "source": [
        "y_pred = np.argmax(pred_prob,axis=1)\n",
        "# pred_prob"
      ],
      "execution_count": 0,
      "outputs": []
    },
    {
      "cell_type": "code",
      "metadata": {
        "id": "F70aDmLSkDpU",
        "colab_type": "code",
        "colab": {}
      },
      "source": [
        "y_true = np.argmax(y_train,axis=1)"
      ],
      "execution_count": 0,
      "outputs": []
    },
    {
      "cell_type": "code",
      "metadata": {
        "id": "QR9MtTIhlOkj",
        "colab_type": "code",
        "colab": {}
      },
      "source": [
        "import itertools\n",
        "from sklearn.metrics import confusion_matrix, classification_report,accuracy_score, roc_auc_score, roc_curve\n",
        "def plot_confusion_matrix(cm, classes,\n",
        "                          normalize=False,\n",
        "                          title='Confusion matrix',\n",
        "                          cmap=plt.cm.Blues):\n",
        "    \"\"\"\n",
        "    This function prints and plots the confusion matrix.\n",
        "    Normalization can be applied by setting `normalize=True`.\n",
        "    \"\"\"\n",
        "    if normalize:\n",
        "        cm = cm.astype('float') / cm.sum(axis=1)[:, np.newaxis]\n",
        "        print(\"Normalized confusion matrix\")\n",
        "    else:\n",
        "        print('Confusion matrix, without normalization')\n",
        "\n",
        "    print(cm)\n",
        "\n",
        "    plt.imshow(cm, interpolation='nearest', cmap=cmap)\n",
        "    plt.title(title)\n",
        "    plt.colorbar()\n",
        "    tick_marks = np.arange(len(classes))\n",
        "    plt.xticks(tick_marks, classes, rotation=45)\n",
        "    plt.yticks(tick_marks, classes)\n",
        "\n",
        "    fmt = '.2f' if normalize else 'd'\n",
        "    thresh = cm.max() / 2.\n",
        "    for i, j in itertools.product(range(cm.shape[0]), range(cm.shape[1])):\n",
        "        plt.text(j, i, format(cm[i, j], fmt),\n",
        "                 horizontalalignment=\"center\",\n",
        "                 color=\"white\" if cm[i, j] > thresh else \"black\")\n",
        "\n",
        "    plt.ylabel('True label')\n",
        "    plt.xlabel('Predicted label')\n",
        "    plt.tight_layout()"
      ],
      "execution_count": 0,
      "outputs": []
    },
    {
      "cell_type": "code",
      "metadata": {
        "id": "fzZWDH0ulqfq",
        "colab_type": "code",
        "colab": {
          "base_uri": "https://localhost:8080/",
          "height": 364
        },
        "outputId": "1a6c0105-f4c1-429e-d7d6-5e3eed0e39d9"
      },
      "source": [
        "conf=confusion_matrix(y_true,y_pred)\n",
        "plt.figure()\n",
        "plot_confusion_matrix(conf, classes=action_to_idx.keys(), normalize=False,\n",
        "                      title='Normalized confusion matrix')\n",
        "# plt.savefig(\"cm1.jpg\", dpi=900)\n",
        "plt.show()"
      ],
      "execution_count": 26,
      "outputs": [
        {
          "output_type": "stream",
          "text": [
            "Confusion matrix, without normalization\n",
            "[[815   3   0]\n",
            " [ 30  27   0]\n",
            " [ 19   0   5]]\n"
          ],
          "name": "stdout"
        },
        {
          "output_type": "display_data",
          "data": {
            "image/png": "[encoded data removed]",
            "text/plain": [
              "<Figure size 432x288 with 2 Axes>"
            ]
          },
          "metadata": {
            "tags": []
          }
        }
      ]
    },
    {
      "cell_type": "code",
      "metadata": {
        "id": "hFB0Af9KwgVX",
        "colab_type": "code",
        "colab": {}
      },
      "source": [
        "embeddings = model.get_layer(index = 0)\n",
        "# embeddings = embeddings.get_weights()[0]\n",
        "# embeddings = embeddings / np.linalg.norm(embeddings, axis = 1).reshape((-1, 1))\n",
        "# embeddings = np.nan_to_num(embeddings)"
      ],
      "execution_count": 0,
      "outputs": []
    },
    {
      "cell_type": "code",
      "metadata": {
        "id": "L8Mw2H4Yw4vn",
        "colab_type": "code",
        "colab": {
          "base_uri": "https://localhost:8080/",
          "height": 689
        },
        "outputId": "47eae192-1020-4053-c842-c237e2426e9a"
      },
      "source": [
        "embeddings.get_weights()[0]"
      ],
      "execution_count": 28,
      "outputs": [
        {
          "output_type": "execute_result",
          "data": {
            "text/plain": [
              "array([[ 0.08706358,  0.09271353,  0.08502078,  0.09019545, -0.08043931,\n",
              "        -0.09067073, -0.01227337,  0.01120501, -0.11055698,  0.13738512,\n",
              "         0.08713342, -0.04729249,  0.0355525 , -0.0277873 ,  0.07280742,\n",
              "        -0.07964912, -0.05531936,  0.05751584, -0.0772675 , -0.11352045,\n",
              "         0.10077238,  0.12277301,  0.1571238 ,  0.11177433, -0.14619397,\n",
              "         0.00510582, -0.11321653,  0.09460485, -0.08353873,  0.12845778,\n",
              "         0.08458994, -0.13261339, -0.09591156, -0.06414989, -0.07438275,\n",
              "         0.05879742, -0.15737331,  0.05979951,  0.08880579,  0.08406407,\n",
              "        -0.04344111,  0.02285824, -0.12328462,  0.03212866,  0.05556991,\n",
              "        -0.11058971, -0.14004196, -0.08245189,  0.05606992,  0.04877523,\n",
              "        -0.1343911 , -0.052642  , -0.09082484,  0.05925634, -0.05577582,\n",
              "        -0.01988778, -0.09439526, -0.07643218, -0.12931322, -0.1041666 ,\n",
              "        -0.10514895,  0.08759594, -0.08213259,  0.12270011],\n",
              "       [-0.06843866, -0.04315355, -0.18731564,  0.01164095,  0.07067909,\n",
              "        -0.00880987,  0.06909742, -0.33661452,  0.05892159, -0.14278956,\n",
              "         0.12483485,  0.38290843, -0.26474532, -0.1567478 ,  0.03922811,\n",
              "         0.1435182 ,  0.3794188 , -0.35133564, -0.02014823,  0.15760304,\n",
              "         0.02853918,  0.02568771, -0.21408275,  0.10029038,  0.18566428,\n",
              "         0.42188296,  0.08588075, -0.23504819,  0.15778789, -0.15420869,\n",
              "        -0.23972043,  0.10210633,  0.09507204,  0.1343032 ,  0.16033907,\n",
              "        -0.15583718,  0.2630091 , -0.00194176, -0.3237929 ,  0.15510264,\n",
              "         0.33034226, -0.30351365, -0.08749991,  0.14879787, -0.30998546,\n",
              "         0.08904405,  0.09533586,  0.10542915, -0.20224822,  0.20360449,\n",
              "         0.05653125, -0.3242472 ,  0.06209663, -0.27123994, -0.12073029,\n",
              "        -0.4073791 ,  0.07376501, -0.11472382,  0.06502764,  0.09632745,\n",
              "         0.05270666, -0.32057455,  0.00718609, -0.17180571],\n",
              "       [-0.26231408, -0.43109164, -0.24997087, -0.53017056,  0.37286854,\n",
              "         0.5505241 ,  0.34653765, -0.25078413,  0.04281489, -0.25658652,\n",
              "        -0.5507487 ,  0.39533943, -0.39399505, -0.07391591, -0.6001416 ,\n",
              "         0.52294606,  0.1965974 , -0.43657306,  0.53871465,  0.39426857,\n",
              "        -0.39300904, -0.4249116 , -0.04317591,  0.034051  ,  0.21149081,\n",
              "         0.31092596,  0.12857139, -0.4297746 ,  0.6035946 , -0.05152562,\n",
              "        -0.4126419 ,  0.13892654,  0.17653692,  0.18352683,  0.36499146,\n",
              "        -0.4831922 ,  0.14318515, -0.24183771, -0.09451333, -0.5855877 ,\n",
              "         0.4253019 , -0.29730016,  0.47573504, -0.5407103 , -0.35089806,\n",
              "         0.36380076,  0.3677104 ,  0.5858783 , -0.10362971,  0.01006293,\n",
              "         0.44781515,  0.79386103,  0.39498705, -0.29755116,  0.391921  ,\n",
              "        -0.17583553,  0.39900962,  0.64948237,  0.111219  ,  0.3839858 ,\n",
              "         0.30919248, -0.24221262, -0.09505526, -0.04530392]],\n",
              "      dtype=float32)"
            ]
          },
          "metadata": {
            "tags": []
          },
          "execution_count": 28
        }
      ]
    },
    {
      "cell_type": "code",
      "metadata": {
        "id": "qqC3evCiw74i",
        "colab_type": "code",
        "colab": {}
      },
      "source": [
        ""
      ],
      "execution_count": 0,
      "outputs": []
    },
    {
      "cell_type": "code",
      "metadata": {
        "id": "USNlUWrxwBT9",
        "colab_type": "code",
        "colab": {}
      },
      "source": [
        "from google.colab import drive\n",
        "drive.mount('/content/drive')"
      ],
      "execution_count": 0,
      "outputs": []
    }
  ]
}