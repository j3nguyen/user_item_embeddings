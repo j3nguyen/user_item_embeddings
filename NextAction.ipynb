{
  "nbformat": 4,
  "nbformat_minor": 0,
  "metadata": {
    "colab": {
      "name": "NextAction.ipynb",
      "provenance": [],
      "collapsed_sections": [
        "o6Zv3n-O1B2H",
        "lvjz4Z951nPY"
      ],
      "toc_visible": true,
      "include_colab_link": true
    },
    "kernelspec": {
      "name": "python3",
      "display_name": "Python 3"
    }
  },
  "cells": [
    {
      "cell_type": "markdown",
      "metadata": {
        "id": "view-in-github",
        "colab_type": "text"
      },
      "source": [
        "<a href=\"https://colab.research.google.com/github/j3nguyen/user_item_embeddings/blob/master/NextAction.ipynb\" target=\"_parent\"><img src=\"https://colab.research.google.com/assets/colab-badge.svg\" alt=\"Open In Colab\"/></a>"
      ]
    },
    {
      "cell_type": "markdown",
      "metadata": {
        "id": "VmxEVPD9xBVX",
        "colab_type": "text"
      },
      "source": [
        "# Predicting User Journeys"
      ]
    },
    {
      "cell_type": "code",
      "metadata": {
        "id": "i7lmWYxUscXg",
        "colab_type": "code",
        "colab": {}
      },
      "source": [
        "import re\n",
        "import numpy as np\n",
        "import pandas as pd\n",
        "from pprint import pprint\n",
        "\n",
        "# Gensim\n",
        "# import gensim\n",
        "# import gensim.corpora as corpora\n",
        "# from gensim.utils import simple_preprocess\n",
        "# from gensim.models import CoherenceModel\n",
        "\n",
        "# spacy for lemmatization\n",
        "# import spacy\n",
        "\n",
        "# NLTK for stopwords and stemming\n",
        "# from nltk.stem.porter import * \n",
        "# from nltk.stem.snowball import SnowballStemmer\n",
        "# from nltk.corpus import stopwords\n",
        "# stop_words = stopwords.words('english')\n",
        "\n",
        "# Plotting tools\n",
        "# import pyLDAvis\n",
        "# import pyLDAvis.gensim  # don't skip this\n",
        "import matplotlib.pyplot as plt\n",
        "import matplotlib"
      ],
      "execution_count": 0,
      "outputs": []
    },
    {
      "cell_type": "code",
      "metadata": {
        "id": "EJyyvljXsfw-",
        "colab_type": "code",
        "colab": {}
      },
      "source": [
        "# import nltk\n",
        "# nltk.download('stopwords')"
      ],
      "execution_count": 0,
      "outputs": []
    },
    {
      "cell_type": "code",
      "metadata": {
        "id": "1UlLuUz6s9lM",
        "colab_type": "code",
        "colab": {
          "base_uri": "https://localhost:8080/",
          "height": 79
        },
        "outputId": "b63fa801-9c32-4125-9eb2-6d00d4345087"
      },
      "source": [
        "import keras\n",
        "from keras.models import Sequential, Model\n",
        "from keras.layers import Input, LSTM, Dense, Average, Dropout, Embedding, Activation, TimeDistributed, Concatenate, Flatten, Lambda\n",
        "from keras.optimizers import Adam\n",
        "from keras.utils import to_categorical"
      ],
      "execution_count": 5,
      "outputs": [
        {
          "output_type": "stream",
          "text": [
            "Using TensorFlow backend.\n"
          ],
          "name": "stderr"
        },
        {
          "output_type": "display_data",
          "data": {
            "text/html": [
              "<p style=\"color: red;\">\n",
              "The default version of TensorFlow in Colab will soon switch to TensorFlow 2.x.<br>\n",
              "We recommend you <a href=\"https://www.tensorflow.org/guide/migrate\" target=\"_blank\">upgrade</a> now \n",
              "or ensure your notebook will continue to use TensorFlow 1.x via the <code>%tensorflow_version 1.x</code> magic:\n",
              "<a href=\"https://colab.research.google.com/notebooks/tensorflow_version.ipynb\" target=\"_blank\">more info</a>.</p>\n"
            ],
            "text/plain": [
              "<IPython.core.display.HTML object>"
            ]
          },
          "metadata": {
            "tags": []
          }
        }
      ]
    },
    {
      "cell_type": "code",
      "metadata": {
        "id": "er2fpZ9Edm-6",
        "colab_type": "code",
        "colab": {}
      },
      "source": [
        "from google.colab import drive\n",
        "drive.mount('/content/drive')"
      ],
      "execution_count": 0,
      "outputs": []
    },
    {
      "cell_type": "markdown",
      "metadata": {
        "id": "00FbuJgjw6w4",
        "colab_type": "text"
      },
      "source": [
        "## Read in the data\n",
        "\n",
        "Rearrange the data so each row is one user and his sequence of actions"
      ]
    },
    {
      "cell_type": "code",
      "metadata": {
        "id": "vfML1r4FxGRD",
        "colab_type": "code",
        "colab": {
          "base_uri": "https://localhost:8080/",
          "height": 195
        },
        "outputId": "faa85e6c-40d8-46f4-dcc0-476f8627e717"
      },
      "source": [
        "df = pd.read_csv(\"events.csv\")\n",
        "\n",
        "#sort the dataframe by time\n",
        "df.sort_values(by=\"timestamp\", inplace=True)\n",
        "df.head()"
      ],
      "execution_count": 6,
      "outputs": [
        {
          "output_type": "execute_result",
          "data": {
            "text/html": [
              "<div>\n",
              "<style scoped>\n",
              "    .dataframe tbody tr th:only-of-type {\n",
              "        vertical-align: middle;\n",
              "    }\n",
              "\n",
              "    .dataframe tbody tr th {\n",
              "        vertical-align: top;\n",
              "    }\n",
              "\n",
              "    .dataframe thead th {\n",
              "        text-align: right;\n",
              "    }\n",
              "</style>\n",
              "<table border=\"1\" class=\"dataframe\">\n",
              "  <thead>\n",
              "    <tr style=\"text-align: right;\">\n",
              "      <th></th>\n",
              "      <th>timestamp</th>\n",
              "      <th>visitorid</th>\n",
              "      <th>event</th>\n",
              "      <th>itemid</th>\n",
              "      <th>transactionid</th>\n",
              "    </tr>\n",
              "  </thead>\n",
              "  <tbody>\n",
              "    <tr>\n",
              "      <th>1462974</th>\n",
              "      <td>1430622004384</td>\n",
              "      <td>693516</td>\n",
              "      <td>addtocart</td>\n",
              "      <td>297662</td>\n",
              "      <td>NaN</td>\n",
              "    </tr>\n",
              "    <tr>\n",
              "      <th>1464806</th>\n",
              "      <td>1430622011289</td>\n",
              "      <td>829044</td>\n",
              "      <td>view</td>\n",
              "      <td>60987</td>\n",
              "      <td>NaN</td>\n",
              "    </tr>\n",
              "    <tr>\n",
              "      <th>1463000</th>\n",
              "      <td>1430622013048</td>\n",
              "      <td>652699</td>\n",
              "      <td>view</td>\n",
              "      <td>252860</td>\n",
              "      <td>NaN</td>\n",
              "    </tr>\n",
              "    <tr>\n",
              "      <th>1465287</th>\n",
              "      <td>1430622024154</td>\n",
              "      <td>1125936</td>\n",
              "      <td>view</td>\n",
              "      <td>33661</td>\n",
              "      <td>NaN</td>\n",
              "    </tr>\n",
              "    <tr>\n",
              "      <th>1462955</th>\n",
              "      <td>1430622026228</td>\n",
              "      <td>693516</td>\n",
              "      <td>view</td>\n",
              "      <td>297662</td>\n",
              "      <td>NaN</td>\n",
              "    </tr>\n",
              "  </tbody>\n",
              "</table>\n",
              "</div>"
            ],
            "text/plain": [
              "             timestamp  visitorid      event  itemid  transactionid\n",
              "1462974  1430622004384     693516  addtocart  297662            NaN\n",
              "1464806  1430622011289     829044       view   60987            NaN\n",
              "1463000  1430622013048     652699       view  252860            NaN\n",
              "1465287  1430622024154    1125936       view   33661            NaN\n",
              "1462955  1430622026228     693516       view  297662            NaN"
            ]
          },
          "metadata": {
            "tags": []
          },
          "execution_count": 6
        }
      ]
    },
    {
      "cell_type": "code",
      "metadata": {
        "id": "UoC-P7sYxQYX",
        "colab_type": "code",
        "colab": {
          "base_uri": "https://localhost:8080/",
          "height": 34
        },
        "outputId": "123ca658-b805-4027-e11f-8ce230b5a858"
      },
      "source": [
        "# get all the visitor_ids\n",
        "visitor_ids = df.visitorid.unique()\n",
        "\n",
        "print(\"There are {} users\".format(len(visitor_ids)))"
      ],
      "execution_count": 7,
      "outputs": [
        {
          "output_type": "stream",
          "text": [
            "There are 1407580 users\n"
          ],
          "name": "stdout"
        }
      ]
    },
    {
      "cell_type": "code",
      "metadata": {
        "id": "RKdIig2DxoG_",
        "colab_type": "code",
        "outputId": "f24c3fbe-a824-4df2-9ff1-215851565524",
        "colab": {
          "base_uri": "https://localhost:8080/",
          "height": 84
        }
      },
      "source": [
        "# inspect action distribution\n",
        "df.event.value_counts()"
      ],
      "execution_count": 8,
      "outputs": [
        {
          "output_type": "execute_result",
          "data": {
            "text/plain": [
              "view           2664312\n",
              "addtocart        69332\n",
              "transaction      22457\n",
              "Name: event, dtype: int64"
            ]
          },
          "metadata": {
            "tags": []
          },
          "execution_count": 8
        }
      ]
    },
    {
      "cell_type": "code",
      "metadata": {
        "id": "wQUbzn4-4Mq9",
        "colab_type": "code",
        "colab": {}
      },
      "source": [
        "# encode actions to numbers\n",
        "action_to_idx = {\"view\": 0, \"addtocart\": 1, \"transaction\": 2}"
      ],
      "execution_count": 0,
      "outputs": []
    },
    {
      "cell_type": "code",
      "metadata": {
        "id": "HMaW7q4-6Btl",
        "colab_type": "code",
        "colab": {}
      },
      "source": [
        "# creating dictionary of visitor sequence of activity\n",
        "visitor_activity = {}\n",
        "\n",
        "for visitor in visitor_ids[:500]:\n",
        "  # get user's actions in order of time\n",
        "  actions = df[df.visitorid == visitor].event.values\n",
        "  \n",
        "  if len(actions) > 50:\n",
        "    # get the first 51 actions\n",
        "    actions = list(map(lambda x: action_to_idx[x],actions)) [:51] \n",
        "    visitor_activity[visitor] = actions"
      ],
      "execution_count": 0,
      "outputs": []
    },
    {
      "cell_type": "code",
      "metadata": {
        "id": "2az0tCkqfSTi",
        "colab_type": "code",
        "colab": {}
      },
      "source": [
        "hidden_size = 64 #dimension of action vectors\n",
        "num_actions = len(action_to_idx) #dictionary size\n",
        "input_length = 50 # number of actions in sequence\n",
        "num_users = len(visitor_sessions)"
      ],
      "execution_count": 0,
      "outputs": []
    },
    {
      "cell_type": "markdown",
      "metadata": {
        "id": "INNL1BvYn6tj",
        "colab_type": "text"
      },
      "source": [
        "#### Create user sessions\n",
        "\n",
        "Here we're splitting user's actions into "
      ]
    },
    {
      "cell_type": "code",
      "metadata": {
        "id": "EibwSCSqG0UE",
        "colab_type": "code",
        "colab": {}
      },
      "source": [
        "#30 mins in miliseconds \n",
        "session_expire = 60*30*1000\n",
        "\n",
        "visitor_sessions = {}\n",
        "\n",
        "for visitor in visitor_ids[:100000]:\n",
        "    # calculate time deltas between actions\n",
        "    time_delta = df[df.visitorid == visitor].timestamp.diff()\n",
        "    actions = df[df.visitorid == visitor].event.values\n",
        "\n",
        "    if len(actions) > 1:\n",
        "      # split actions into sessions, where a session ends after session_expire\n",
        "      all_sessions = np.split(actions,np.where(time_delta >= session_expire)[0])\n",
        "\n",
        "      # sessions with more than one action\n",
        "      filtered_sessions = list(filter(lambda x: len(x) > 1, all_sessions))\n",
        "\n",
        "      if len(filtered_sessions) > 0:\n",
        "        visitor_sessions[visitor] = list(map(lambda x: list(map(lambda y: action_to_idx[y],x)) ,filtered_sessions))\n"
      ],
      "execution_count": 0,
      "outputs": []
    },
    {
      "cell_type": "code",
      "metadata": {
        "id": "LykeCzQ3izc4",
        "colab_type": "code",
        "colab": {
          "base_uri": "https://localhost:8080/",
          "height": 34
        },
        "outputId": "3ec14baa-f9f6-469d-eb3e-1d2f1896f09e"
      },
      "source": [
        "sum(map(len,visitor_sessions.values()))/len(visitor_sessions)"
      ],
      "execution_count": 11,
      "outputs": [
        {
          "output_type": "execute_result",
          "data": {
            "text/plain": [
              "1.555572839698219"
            ]
          },
          "metadata": {
            "tags": []
          },
          "execution_count": 11
        }
      ]
    },
    {
      "cell_type": "code",
      "metadata": {
        "id": "QAKgnzxs54ht",
        "colab_type": "code",
        "colab": {
          "base_uri": "https://localhost:8080/",
          "height": 34
        },
        "outputId": "3d0024d7-3dc6-40a2-fd3a-d2d592c7444f"
      },
      "source": [
        "len(visitor_sessions)"
      ],
      "execution_count": 12,
      "outputs": [
        {
          "output_type": "execute_result",
          "data": {
            "text/plain": [
              "25714"
            ]
          },
          "metadata": {
            "tags": []
          },
          "execution_count": 12
        }
      ]
    },
    {
      "cell_type": "code",
      "metadata": {
        "id": "jylpF7jqDChl",
        "colab_type": "code",
        "colab": {}
      },
      "source": [
        "import bz2\n",
        "import pickle\n",
        "\n",
        "pickle.dump( visitor_sessions, bz2.BZ2File('/content/drive/My Drive/Colab Notebooks/visitor_sessions.pkl', 'w') )"
      ],
      "execution_count": 0,
      "outputs": []
    },
    {
      "cell_type": "code",
      "metadata": {
        "id": "KLYILSdUikRe",
        "colab_type": "code",
        "colab": {}
      },
      "source": [
        "pickle.dump(visitor_activity, bz2.BZ2File('visitor_activity.pkl','w'))"
      ],
      "execution_count": 0,
      "outputs": []
    },
    {
      "cell_type": "markdown",
      "metadata": {
        "id": "nhIsMFV58MXz",
        "colab_type": "text"
      },
      "source": [
        "#### Create the training data and labels\n",
        "\n",
        "Here, we're holding out the 51st action as the label"
      ]
    },
    {
      "cell_type": "code",
      "metadata": {
        "id": "_-FON4HcC591",
        "colab_type": "code",
        "colab": {}
      },
      "source": [
        "actions = visitor_activity.values()\n",
        "d = np.array(range(len(actions))) # users\n",
        "X = np.array(list(map(lambda x: x[:-1], actions))) #actions for each user\n",
        "y = to_categorical(np.array(list(map(lambda x: x[50], actions))), num_classes=3) # shift sequence on step forward\n",
        "X_3d = X.reshape((X.shape[0],X.shape[1],1))"
      ],
      "execution_count": 0,
      "outputs": []
    },
    {
      "cell_type": "markdown",
      "metadata": {
        "id": "ZwncSNVHm3lq",
        "colab_type": "text"
      },
      "source": [
        "Reformatting the data to one session per row"
      ]
    },
    {
      "cell_type": "code",
      "metadata": {
        "id": "DDx2LEiFThhO",
        "colab_type": "code",
        "colab": {}
      },
      "source": [
        "sessions = visitor_sessions.values()\n",
        "sessions_flat = [item for sublist in sessions for item in sublist]"
      ],
      "execution_count": 0,
      "outputs": []
    },
    {
      "cell_type": "code",
      "metadata": {
        "id": "Dj8a0pptOED9",
        "colab_type": "code",
        "colab": {
          "base_uri": "https://localhost:8080/",
          "height": 34
        },
        "outputId": "d04d6bf3-f111-4f17-c510-6ae3c6bf6bab"
      },
      "source": [
        "len(sessions_flat)"
      ],
      "execution_count": 152,
      "outputs": [
        {
          "output_type": "execute_result",
          "data": {
            "text/plain": [
              "40000"
            ]
          },
          "metadata": {
            "tags": []
          },
          "execution_count": 152
        }
      ]
    },
    {
      "cell_type": "code",
      "metadata": {
        "id": "Y9aQfZOculjp",
        "colab_type": "code",
        "colab": {
          "base_uri": "https://localhost:8080/",
          "height": 50
        },
        "outputId": "cb2fcf28-f999-4533-e285-beb004990c26"
      },
      "source": [
        "# assigning user_ids to each session\n",
        "d = [[i]*len(visitor_sessions[user_id]) for i, user_id in zip(range(len(sessions)),visitor_sessions.keys())]\n",
        "d = np.array([item for sublist in d for item in sublist])\n",
        "\n",
        "X = np.array(list(map(lambda x: np.array(x[:-1]), sessions_flat)))\n",
        "y = to_categorical(np.array(list(map(lambda x: x[-1], sessions_flat))),num_classes=3)\n",
        "print(X.shape)\n",
        "print(y.shape)"
      ],
      "execution_count": 151,
      "outputs": [
        {
          "output_type": "stream",
          "text": [
            "(40000,)\n",
            "(40000, 3)\n"
          ],
          "name": "stdout"
        }
      ]
    },
    {
      "cell_type": "code",
      "metadata": {
        "id": "-sVUvs3T6_o2",
        "colab_type": "code",
        "colab": {}
      },
      "source": [
        "from keras.utils import Sequence\n",
        "class MyBatchGenerator(Sequence):\n",
        "    'Generates data for Keras'\n",
        "    def __init__(self, X, d, y, batch_size=1, shuffle=True):\n",
        "        'Initialization'\n",
        "        self.X = X\n",
        "        self.y = y\n",
        "        self.d = d\n",
        "        self.batch_size = batch_size\n",
        "        self.shuffle = shuffle\n",
        "        self.on_epoch_end()\n",
        "\n",
        "    def __len__(self):\n",
        "        'Denotes the number of batches per epoch'\n",
        "        return int(np.floor(len(self.y)/self.batch_size))\n",
        "\n",
        "    def __getitem__(self, index):\n",
        "        return self.__data_generation(index)\n",
        "\n",
        "    def on_epoch_end(self):\n",
        "        'Shuffles indexes after each epoch'\n",
        "        self.indexes = np.arange(len(self.y))\n",
        "        if self.shuffle == True:\n",
        "            np.random.shuffle(self.indexes)\n",
        "\n",
        "    def __data_generation(self, index):\n",
        "        Xb = np.empty((self.batch_size, *X[index].shape))\n",
        "        yb = np.empty((self.batch_size, *y[index].shape))\n",
        "        db = np.empty((self.batch_size, *d[index].shape))\n",
        "        # naively use the same sample over and over again\n",
        "        for s in range(0, self.batch_size):\n",
        "            Xb[s] = X[index]\n",
        "            yb[s] = y[index]\n",
        "            db[s] = d[index]\n",
        "        return [Xb, db], yb"
      ],
      "execution_count": 0,
      "outputs": []
    },
    {
      "cell_type": "code",
      "metadata": {
        "id": "zPqdHBtSDEpm",
        "colab_type": "code",
        "colab": {}
      },
      "source": [
        "from sklearn.model_selection import train_test_split"
      ],
      "execution_count": 0,
      "outputs": []
    },
    {
      "cell_type": "code",
      "metadata": {
        "id": "xygzVS7PEJ-x",
        "colab_type": "code",
        "colab": {}
      },
      "source": [
        "X_train, X_test, d_train, d_test, y_train, y_test,X_3d_train, X_3d_test = train_test_split(X,d,y,X_3d, test_size = 0.2, random_state=342,stratify=y)"
      ],
      "execution_count": 0,
      "outputs": []
    },
    {
      "cell_type": "code",
      "metadata": {
        "id": "5_Nd74rixDTj",
        "colab_type": "code",
        "colab": {}
      },
      "source": [
        "X_train, X_test,d_train, d_test,y_train, y_test = train_test_split(X,d,y, test_size = 0.2, random_state=342,stratify=y)"
      ],
      "execution_count": 0,
      "outputs": []
    },
    {
      "cell_type": "code",
      "metadata": {
        "id": "6hbOBu_yyv2B",
        "colab_type": "code",
        "colab": {}
      },
      "source": [
        "X_train, X_val,d_train,d_val,y_train, y_val = train_test_split(X_train,d_train,y_train, test_size = 0.2, random_state=342,stratify=y_train)"
      ],
      "execution_count": 0,
      "outputs": []
    },
    {
      "cell_type": "markdown",
      "metadata": {
        "id": "fM0mJEpeyVlS",
        "colab_type": "text"
      },
      "source": [
        "## Build the models"
      ]
    },
    {
      "cell_type": "markdown",
      "metadata": {
        "id": "o6Zv3n-O1B2H",
        "colab_type": "text"
      },
      "source": [
        "### Using the Sequential API"
      ]
    },
    {
      "cell_type": "code",
      "metadata": {
        "id": "u1gknWh-71CB",
        "colab_type": "code",
        "colab": {
          "base_uri": "https://localhost:8080/",
          "height": 0
        },
        "outputId": "54d2fc1a-63ab-489a-9527-71b3824cb9ad"
      },
      "source": [
        "#create the LSTM network\n",
        "\n",
        "# model = Sequential()\n",
        "# model.add(Embedding(\n",
        "#     input_dim=num_actions,\n",
        "#     output_dim=hidden_size, #hidden layer dimension\n",
        "#     input_length=input_length,\n",
        "#     trainable=True\n",
        "#   )\n",
        "# )\n",
        "\n",
        "# model.add(LSTM(hidden_size, return_sequences=True))\n",
        "# model.add(Dropout(rate=0.5))\n",
        "# model.add(Activation('softmax'))\n",
        "\n",
        "\n",
        "model = Sequential()\n",
        "model.add(Embedding(num_actions, hidden_size, input_length=input_length))\n",
        "model.add(LSTM(hidden_size, return_sequences=True))\n",
        "model.add(LSTM(hidden_size, return_sequences=False))\n",
        "\n",
        "model.add(Dropout(rate=0.5))\n",
        "# model.add(TimeDistributed(Dense(num_actions)))\n",
        "# model.add(Activation('softmax'))\n",
        "model.add(Dense(num_actions, activation='softmax'))\n"
      ],
      "execution_count": 13,
      "outputs": [
        {
          "output_type": "stream",
          "text": [
            "WARNING:tensorflow:From /usr/local/lib/python3.6/dist-packages/keras/backend/tensorflow_backend.py:66: The name tf.get_default_graph is deprecated. Please use tf.compat.v1.get_default_graph instead.\n",
            "\n",
            "WARNING:tensorflow:From /usr/local/lib/python3.6/dist-packages/keras/backend/tensorflow_backend.py:541: The name tf.placeholder is deprecated. Please use tf.compat.v1.placeholder instead.\n",
            "\n",
            "WARNING:tensorflow:From /usr/local/lib/python3.6/dist-packages/keras/backend/tensorflow_backend.py:4432: The name tf.random_uniform is deprecated. Please use tf.random.uniform instead.\n",
            "\n",
            "WARNING:tensorflow:From /usr/local/lib/python3.6/dist-packages/keras/backend/tensorflow_backend.py:148: The name tf.placeholder_with_default is deprecated. Please use tf.compat.v1.placeholder_with_default instead.\n",
            "\n",
            "WARNING:tensorflow:From /usr/local/lib/python3.6/dist-packages/keras/backend/tensorflow_backend.py:3733: calling dropout (from tensorflow.python.ops.nn_ops) with keep_prob is deprecated and will be removed in a future version.\n",
            "Instructions for updating:\n",
            "Please use `rate` instead of `keep_prob`. Rate should be set to `rate = 1 - keep_prob`.\n"
          ],
          "name": "stdout"
        }
      ]
    },
    {
      "cell_type": "markdown",
      "metadata": {
        "id": "Y_2G0tse1I3D",
        "colab_type": "text"
      },
      "source": [
        "### Using the Keras functional API"
      ]
    },
    {
      "cell_type": "markdown",
      "metadata": {
        "id": "lvjz4Z951nPY",
        "colab_type": "text"
      },
      "source": [
        "We treat each user action like a word. In this data set, there are three types of actions:\n",
        "\n",
        "\n",
        "* view\n",
        "* add to cart\n",
        "* transaction\n",
        "\n",
        "Therefore, the size of the vocabulary is 3. A user's sequence of actions, or her journey, is liken to a sentence/paragraph.\n",
        "\n",
        "We want to embed these actions into vectors as well as the user's journey to help predict the next action. \n",
        "\n",
        "#### Model 1\n",
        "The first model will embed the actions and user's journey to help predict the next action. This is similar to a multi-class classification problem.\n",
        "\n"
      ]
    },
    {
      "cell_type": "code",
      "metadata": {
        "id": "J6vAHmwL4aqw",
        "colab_type": "code",
        "colab": {}
      },
      "source": [
        "## helper functions for doc2vec algorithm\n",
        "def my_split(window_size):\n",
        "    def _lambda(tensor):\n",
        "        import tensorflow as tf\n",
        "        return tf.split(tensor, window_size + 1, axis=1)\n",
        "    return _lambda\n",
        "\n",
        "\n",
        "def squeeze(axis=-1):\n",
        "    def _lambda(tensor):\n",
        "        import tensorflow as tf\n",
        "        return tf.squeeze(tensor, axis=axis)\n",
        "    return _lambda\n",
        "\n",
        "\n",
        "def stack(window_size):\n",
        "    def _lambda(tensor):\n",
        "        import tensorflow as tf\n",
        "        return tf.stack([tensor] * window_size, axis=1)\n",
        "    return _lambda"
      ],
      "execution_count": 0,
      "outputs": []
    },
    {
      "cell_type": "code",
      "metadata": {
        "id": "lEUKZOnDe0rm",
        "colab_type": "code",
        "colab": {}
      },
      "source": [
        "#Create the LSTM  network using the functional API\n",
        "\n",
        "# sequence of actions\n",
        "A = Input(shape=(input_length,), name=\"actions\") #length of sequence, size of vocab\n",
        "\n",
        "# document ID\n",
        "U = Input(shape=(1,), name=\"users\")\n",
        "\n",
        "#create embedding for actions and for users\n",
        "a = Embedding(input_dim=num_actions, output_dim=hidden_size, input_length=input_length, name='action_embedding')(A) # shape 50,64\n",
        "u = Embedding(input_dim=num_users, output_dim=hidden_size, input_length=1, name='user_embedding')(U) # shape 1,64\n",
        "\n",
        "# combine embeddings\n",
        "x = Concatenate(axis=1)([u,a])\n",
        "\n",
        "split = Lambda(my_split(input_length))(x)\n",
        "averaged = Average()(split)\n",
        "squeezed = Lambda(squeeze(axis=1))(averaged)\n",
        "\n",
        "predictions = Dense(num_actions, activation='softmax')(squeezed)\n",
        "\n",
        "model = Model(inputs=[A, U], outputs=predictions)\n",
        "model.summary()"
      ],
      "execution_count": 0,
      "outputs": []
    },
    {
      "cell_type": "code",
      "metadata": {
        "id": "raV1uFssMs6U",
        "colab_type": "code",
        "colab": {
          "base_uri": "https://localhost:8080/",
          "height": 0
        },
        "outputId": "babbbf4a-d2b2-48ff-b733-59033058675b"
      },
      "source": [
        "opt = Adam(lr=0.01, beta_1=0.9, beta_2=0.999, decay=0.01)\n",
        "\n",
        "model.compile(optimizer=opt, loss='categorical_crossentropy', metrics=['accuracy'])"
      ],
      "execution_count": 16,
      "outputs": [
        {
          "output_type": "stream",
          "text": [
            "WARNING:tensorflow:From /usr/local/lib/python3.6/dist-packages/keras/optimizers.py:793: The name tf.train.Optimizer is deprecated. Please use tf.compat.v1.train.Optimizer instead.\n",
            "\n",
            "WARNING:tensorflow:From /usr/local/lib/python3.6/dist-packages/keras/backend/tensorflow_backend.py:3576: The name tf.log is deprecated. Please use tf.math.log instead.\n",
            "\n"
          ],
          "name": "stdout"
        }
      ]
    },
    {
      "cell_type": "code",
      "metadata": {
        "id": "t4lHuBDU-VTz",
        "colab_type": "code",
        "colab": {}
      },
      "source": [
        "h = model.fit([X_train,d_train], y_train, epochs=50, batch_size=128, validation_split=0.1, verbose=1)"
      ],
      "execution_count": 0,
      "outputs": []
    },
    {
      "cell_type": "markdown",
      "metadata": {
        "id": "IhE2v5il4J0E",
        "colab_type": "text"
      },
      "source": [
        "#### Model 2\n",
        "The second model is an RNN which will take into account the sequence of actions to predict the next action."
      ]
    },
    {
      "cell_type": "code",
      "metadata": {
        "id": "Z0bXCYMFkj6t",
        "colab_type": "code",
        "colab": {
          "base_uri": "https://localhost:8080/",
          "height": 403
        },
        "outputId": "905af1a3-d410-4157-89bf-27ded94c74c9"
      },
      "source": [
        "#Create the NN network using the functional API\n",
        "\n",
        "# sequence of actions\n",
        "A = Input(shape=(input_length,), name=\"actions\") #length of sequence, size of vocab\n",
        "# A = Input(shape=None, batch_shape=(1,), name=\"actions\")\n",
        "\n",
        "# document ID\n",
        "U = Input(shape=(1,), name=\"users\")\n",
        "\n",
        "#create embedding for actions and for users\n",
        "# a = Embedding(input_dim=num_actions, output_dim=hidden_size, name=\"action_embedding\")(A)\n",
        "a = Embedding(input_dim=num_actions, output_dim=hidden_size, input_length=input_length, name='action_embedding')(A) # shape 50,64\n",
        "u = Embedding(input_dim=num_users, output_dim=hidden_size, input_length=1, name='user_embedding')(U) # shape 1,64\n",
        "\n",
        "# combine embeddings\n",
        "x = Concatenate(axis=1)([u,a])\n",
        "\n",
        "L = LSTM(hidden_size,return_sequences=False)(x)\n",
        "\n",
        "predictions = Dense(num_actions, activation='softmax')(L)\n",
        "\n",
        "model2 = Model(inputs=[A, U], outputs=predictions)\n",
        "model2.summary()"
      ],
      "execution_count": 39,
      "outputs": [
        {
          "output_type": "stream",
          "text": [
            "Model: \"model_1\"\n",
            "__________________________________________________________________________________________________\n",
            "Layer (type)                    Output Shape         Param #     Connected to                     \n",
            "==================================================================================================\n",
            "users (InputLayer)              (None, 1)            0                                            \n",
            "__________________________________________________________________________________________________\n",
            "actions (InputLayer)            (None, 50)           0                                            \n",
            "__________________________________________________________________________________________________\n",
            "user_embedding (Embedding)      (None, 1, 64)        384         users[0][0]                      \n",
            "__________________________________________________________________________________________________\n",
            "action_embedding (Embedding)    (None, 50, 64)       192         actions[0][0]                    \n",
            "__________________________________________________________________________________________________\n",
            "concatenate_8 (Concatenate)     (None, 51, 64)       0           user_embedding[0][0]             \n",
            "                                                                 action_embedding[0][0]           \n",
            "__________________________________________________________________________________________________\n",
            "lstm_7 (LSTM)                   (None, 64)           33024       concatenate_8[0][0]              \n",
            "__________________________________________________________________________________________________\n",
            "dense_1 (Dense)                 (None, 3)            195         lstm_7[0][0]                     \n",
            "==================================================================================================\n",
            "Total params: 33,795\n",
            "Trainable params: 33,795\n",
            "Non-trainable params: 0\n",
            "__________________________________________________________________________________________________\n"
          ],
          "name": "stdout"
        }
      ]
    },
    {
      "cell_type": "code",
      "metadata": {
        "id": "ZL1EUsNkcsTb",
        "colab_type": "code",
        "colab": {}
      },
      "source": [
        "# create the optimizer\n",
        "opt2 = Adam(lr=0.01, beta_1=0.9, beta_2=0.999, decay=0.01)\n",
        "\n",
        "model2.compile(optimizer=opt2, loss='categorical_crossentropy', metrics=['accuracy'])"
      ],
      "execution_count": 0,
      "outputs": []
    },
    {
      "cell_type": "code",
      "metadata": {
        "id": "zjOxEaxisHfm",
        "colab_type": "code",
        "colab": {}
      },
      "source": [
        "h = model2.fit([X_train,d_train], y_train, epochs=50, batch_size=128, validation_split=0.1, verbose=0)"
      ],
      "execution_count": 0,
      "outputs": []
    },
    {
      "cell_type": "code",
      "metadata": {
        "id": "v62R9hAPzbhT",
        "colab_type": "code",
        "colab": {
          "base_uri": "https://localhost:8080/",
          "height": 403
        },
        "outputId": "3a20e6c2-8857-4629-e7d5-5c260132cb5f"
      },
      "source": [
        "#Create the NN network using the functional API with return sequences\n",
        "\n",
        "# sequence of actions\n",
        "A = Input(shape=(None,), name=\"actions\") #length of sequence, size of vocab\n",
        "\n",
        "# document ID\n",
        "U = Input(shape=(1,), name=\"users\")\n",
        "\n",
        "#create embedding for actions and for users\n",
        "a = Embedding(input_dim=num_actions, output_dim=hidden_size, name='action_embedding')(A) # shape 50,64\n",
        "u = Embedding(input_dim=num_users, output_dim=hidden_size, input_length=1, name='user_embedding')(U) # shape 1,64\n",
        "\n",
        "# combine embeddings\n",
        "x = Concatenate(axis=1)([u,a])\n",
        "\n",
        "L = LSTM(hidden_size,return_sequences=False)(x)\n",
        "\n",
        "predictions = Dense(num_actions, activation='softmax')(L)\n",
        "\n",
        "model3 = Model(inputs=[A,U], outputs=predictions)\n",
        "model3.summary()"
      ],
      "execution_count": 127,
      "outputs": [
        {
          "output_type": "stream",
          "text": [
            "Model: \"model_10\"\n",
            "__________________________________________________________________________________________________\n",
            "Layer (type)                    Output Shape         Param #     Connected to                     \n",
            "==================================================================================================\n",
            "users (InputLayer)              (None, 1)            0                                            \n",
            "__________________________________________________________________________________________________\n",
            "actions (InputLayer)            (None, None)         0                                            \n",
            "__________________________________________________________________________________________________\n",
            "user_embedding (Embedding)      (None, 1, 64)        1645696     users[0][0]                      \n",
            "__________________________________________________________________________________________________\n",
            "action_embedding (Embedding)    (None, None, 64)     192         actions[0][0]                    \n",
            "__________________________________________________________________________________________________\n",
            "concatenate_6 (Concatenate)     (None, None, 64)     0           user_embedding[0][0]             \n",
            "                                                                 action_embedding[0][0]           \n",
            "__________________________________________________________________________________________________\n",
            "lstm_10 (LSTM)                  (None, 64)           33024       concatenate_6[0][0]              \n",
            "__________________________________________________________________________________________________\n",
            "dense_10 (Dense)                (None, 3)            195         lstm_10[0][0]                    \n",
            "==================================================================================================\n",
            "Total params: 1,679,107\n",
            "Trainable params: 1,679,107\n",
            "Non-trainable params: 0\n",
            "__________________________________________________________________________________________________\n"
          ],
          "name": "stdout"
        }
      ]
    },
    {
      "cell_type": "code",
      "metadata": {
        "id": "t_PU9xjE1MJ1",
        "colab_type": "code",
        "colab": {
          "base_uri": "https://localhost:8080/",
          "height": 205
        },
        "outputId": "4b2cca02-aadc-4785-f36d-7a85abd23ac6"
      },
      "source": [
        "# create the optimizer\n",
        "opt3 = Adam(lr=0.01, beta_1=0.9, beta_2=0.999, decay=0.01)\n",
        "\n",
        "model3.compile(optimizer=opt3, loss='categorical_crossentropy', metrics=['accuracy'])\n",
        "\n",
        "h = model3.fit_generator(MyBatchGenerator(X_train,d_train,y_train),validation_data=MyBatchGenerator(X_val,d_val,y_val), epochs=10, verbose=1)"
      ],
      "execution_count": 132,
      "outputs": [
        {
          "output_type": "stream",
          "text": [
            "Epoch 1/10\n",
            "25600/25600 [==============================] - 668s 26ms/step - loss: 0.2266 - acc: 0.9308 - val_loss: 0.1981 - val_acc: 0.9391\n",
            "Epoch 2/10\n",
            "25600/25600 [==============================] - 726s 28ms/step - loss: 0.2152 - acc: 0.9332 - val_loss: 0.1963 - val_acc: 0.9389\n",
            "Epoch 3/10\n",
            "25600/25600 [==============================] - 749s 29ms/step - loss: 0.2127 - acc: 0.9334 - val_loss: 0.1951 - val_acc: 0.9400\n",
            "Epoch 4/10\n",
            "25600/25600 [==============================] - 782s 31ms/step - loss: 0.2111 - acc: 0.9338 - val_loss: 0.1939 - val_acc: 0.9400\n",
            "Epoch 5/10\n",
            "20727/25600 [=======================>......] - ETA: 2:20 - loss: 0.2090 - acc: 0.9339Buffered data was truncated after reaching the output size limit."
          ],
          "name": "stdout"
        }
      ]
    },
    {
      "cell_type": "markdown",
      "metadata": {
        "id": "G-duNQlM_Eo8",
        "colab_type": "text"
      },
      "source": [
        "## Evaluate models"
      ]
    },
    {
      "cell_type": "markdown",
      "metadata": {
        "id": "XQY04qFy_tMX",
        "colab_type": "text"
      },
      "source": [
        "#### helper functions"
      ]
    },
    {
      "cell_type": "code",
      "metadata": {
        "id": "QR9MtTIhlOkj",
        "colab_type": "code",
        "colab": {}
      },
      "source": [
        "import itertools\n",
        "from sklearn.metrics import confusion_matrix, classification_report,accuracy_score, roc_auc_score, roc_curve\n",
        "def plot_confusion_matrix(cm, classes,\n",
        "                          normalize=False,\n",
        "                          title='Confusion matrix',\n",
        "                          cmap=plt.cm.Blues):\n",
        "    \"\"\"\n",
        "    This function prints and plots the confusion matrix.\n",
        "    Normalization can be applied by setting `normalize=True`.\n",
        "    \"\"\"\n",
        "    if normalize:\n",
        "        cm = cm.astype('float') / cm.sum(axis=1)[:, np.newaxis]\n",
        "        print(\"Normalized confusion matrix\")\n",
        "    else:\n",
        "        print('Confusion matrix, without normalization')\n",
        "\n",
        "    print(cm)\n",
        "\n",
        "    plt.imshow(cm, interpolation='nearest', cmap=cmap)\n",
        "    plt.title(title)\n",
        "    plt.colorbar()\n",
        "    tick_marks = np.arange(len(classes))\n",
        "    plt.xticks(tick_marks, classes, rotation=45)\n",
        "    plt.yticks(tick_marks, classes)\n",
        "\n",
        "    fmt = '.2f' if normalize else 'd'\n",
        "    thresh = cm.max() / 2.\n",
        "    for i, j in itertools.product(range(cm.shape[0]), range(cm.shape[1])):\n",
        "        plt.text(j, i, format(cm[i, j], fmt),\n",
        "                 horizontalalignment=\"center\",\n",
        "                 color=\"white\" if cm[i, j] > thresh else \"black\")\n",
        "\n",
        "    plt.ylabel('True label')\n",
        "    plt.xlabel('Predicted label')\n",
        "    plt.tight_layout()"
      ],
      "execution_count": 0,
      "outputs": []
    },
    {
      "cell_type": "code",
      "metadata": {
        "id": "43DYpL1m_qpG",
        "colab_type": "code",
        "colab": {}
      },
      "source": [
        "y_true = np.argmax(y_test,axis=1)"
      ],
      "execution_count": 0,
      "outputs": []
    },
    {
      "cell_type": "code",
      "metadata": {
        "id": "A10bEiTT_SCS",
        "colab_type": "code",
        "colab": {}
      },
      "source": [
        "## Model 1 predictions\n",
        "pred_prob = model.predict([X_test,d_test])\n",
        "y_pred = np.argmax(pred_prob,axis=1)"
      ],
      "execution_count": 0,
      "outputs": []
    },
    {
      "cell_type": "code",
      "metadata": {
        "id": "98uzLEVO_xRD",
        "colab_type": "code",
        "colab": {}
      },
      "source": [
        "## Model 2 predictions\n",
        "pred_prob2 = model2.predict([X_test,d_test])\n",
        "y_pred2 = np.argmax(pred_prob2,axis=1)"
      ],
      "execution_count": 0,
      "outputs": []
    },
    {
      "cell_type": "code",
      "metadata": {
        "id": "vD9ZVcjQ-9VN",
        "colab_type": "code",
        "colab": {}
      },
      "source": [
        "## Model 3 predictions\n",
        "pred_prob3 = model3.predict_generator(MyBatchGenerator(X_test,d_test,y_test))\n",
        "y_pred3 = np.argmax(pred_prob3,axis=1)"
      ],
      "execution_count": 0,
      "outputs": []
    },
    {
      "cell_type": "code",
      "metadata": {
        "id": "fzZWDH0ulqfq",
        "colab_type": "code",
        "outputId": "29bdca63-81c8-43a8-e171-123609c0d09c",
        "colab": {
          "base_uri": "https://localhost:8080/",
          "height": 368
        }
      },
      "source": [
        "conf=confusion_matrix(y_true,y_pred)\n",
        "plt.figure()\n",
        "plot_confusion_matrix(conf, classes=action_to_idx.keys(), normalize=False,\n",
        "                      title='Normalized confusion matrix')\n",
        "# plt.savefig(\"cm1.jpg\", dpi=900)\n",
        "plt.show()"
      ],
      "execution_count": 26,
      "outputs": [
        {
          "output_type": "stream",
          "text": [
            "Confusion matrix, without normalization\n",
            "[[140   1   0]\n",
            " [  9   0   0]\n",
            " [  3   1   0]]\n"
          ],
          "name": "stdout"
        },
        {
          "output_type": "display_data",
          "data": {
            "image/png": "[encoded data removed]",
            "text/plain": [
              "<Figure size 432x288 with 2 Axes>"
            ]
          },
          "metadata": {
            "tags": []
          }
        }
      ]
    },
    {
      "cell_type": "code",
      "metadata": {
        "id": "E-2l7S0jdHTz",
        "colab_type": "code",
        "colab": {
          "base_uri": "https://localhost:8080/",
          "height": 364
        },
        "outputId": "17716519-6b12-4209-b3c9-4e7845301ad3"
      },
      "source": [
        "conf2=confusion_matrix(y_true,y_pred2)\n",
        "plt.figure()\n",
        "plot_confusion_matrix(conf2, classes=action_to_idx.keys(), normalize=False,\n",
        "                      title='Normalized confusion matrix')\n",
        "# plt.savefig(\"cm1.jpg\", dpi=900)\n",
        "plt.show()"
      ],
      "execution_count": 27,
      "outputs": [
        {
          "output_type": "stream",
          "text": [
            "Confusion matrix, without normalization\n",
            "[[139   2   0]\n",
            " [  8   1   0]\n",
            " [  3   0   1]]\n"
          ],
          "name": "stdout"
        },
        {
          "output_type": "display_data",
          "data": {
            "image/png": "[encoded data removed]",
            "text/plain": [
              "<Figure size 432x288 with 2 Axes>"
            ]
          },
          "metadata": {
            "tags": []
          }
        }
      ]
    },
    {
      "cell_type": "code",
      "metadata": {
        "id": "ZeHzoA1e_wdu",
        "colab_type": "code",
        "colab": {
          "base_uri": "https://localhost:8080/",
          "height": 364
        },
        "outputId": "51481ead-7699-4025-ab75-43d8b058f8cb"
      },
      "source": [
        "conf3=confusion_matrix(y_true,y_pred3)\n",
        "plt.figure()\n",
        "plot_confusion_matrix(conf3, classes=action_to_idx.keys(), normalize=False,\n",
        "                      title='Normalized confusion matrix')\n",
        "# plt.savefig(\"cm1.jpg\", dpi=900)\n",
        "plt.show()"
      ],
      "execution_count": 135,
      "outputs": [
        {
          "output_type": "stream",
          "text": [
            "Confusion matrix, without normalization\n",
            "[[7217   13  229]\n",
            " [ 311    2    5]\n",
            " [ 214    1    8]]\n"
          ],
          "name": "stdout"
        },
        {
          "output_type": "display_data",
          "data": {
            "image/png": "[encoded data removed]",
            "text/plain": [
              "<Figure size 432x288 with 2 Axes>"
            ]
          },
          "metadata": {
            "tags": []
          }
        }
      ]
    },
    {
      "cell_type": "code",
      "metadata": {
        "id": "8NC3QgEseyI7",
        "colab_type": "code",
        "colab": {
          "base_uri": "https://localhost:8080/",
          "height": 406
        },
        "outputId": "711b994c-1c8b-4b2c-c8bc-d109f33ba569"
      },
      "source": [
        "print(classification_report(y_true,y_pred,target_names=action_to_idx.keys()))\n",
        "print(classification_report(y_true,y_pred2,target_names=action_to_idx.keys()))"
      ],
      "execution_count": 28,
      "outputs": [
        {
          "output_type": "stream",
          "text": [
            "              precision    recall  f1-score   support\n",
            "\n",
            "        view       0.92      0.99      0.96       141\n",
            "   addtocart       0.00      0.00      0.00         9\n",
            " transaction       0.00      0.00      0.00         4\n",
            "\n",
            "    accuracy                           0.91       154\n",
            "   macro avg       0.31      0.33      0.32       154\n",
            "weighted avg       0.84      0.91      0.87       154\n",
            "\n",
            "              precision    recall  f1-score   support\n",
            "\n",
            "        view       0.93      0.99      0.96       141\n",
            "   addtocart       0.33      0.11      0.17         9\n",
            " transaction       1.00      0.25      0.40         4\n",
            "\n",
            "    accuracy                           0.92       154\n",
            "   macro avg       0.75      0.45      0.51       154\n",
            "weighted avg       0.89      0.92      0.89       154\n",
            "\n"
          ],
          "name": "stdout"
        },
        {
          "output_type": "stream",
          "text": [
            "/usr/local/lib/python3.6/dist-packages/sklearn/metrics/classification.py:1437: UndefinedMetricWarning: Precision and F-score are ill-defined and being set to 0.0 in labels with no predicted samples.\n",
            "  'precision', 'predicted', average, warn_for)\n"
          ],
          "name": "stderr"
        }
      ]
    },
    {
      "cell_type": "code",
      "metadata": {
        "id": "Wz9gsFxoK-jv",
        "colab_type": "code",
        "colab": {
          "base_uri": "https://localhost:8080/",
          "height": 185
        },
        "outputId": "89f639ca-064e-4f6b-b712-46fe6ce0c1b0"
      },
      "source": [
        "print(classification_report(y_true,y_pred3,target_names=action_to_idx.keys()))"
      ],
      "execution_count": 136,
      "outputs": [
        {
          "output_type": "stream",
          "text": [
            "              precision    recall  f1-score   support\n",
            "\n",
            "        view       0.93      0.97      0.95      7459\n",
            "   addtocart       0.12      0.01      0.01       318\n",
            " transaction       0.03      0.04      0.03       223\n",
            "\n",
            "    accuracy                           0.90      8000\n",
            "   macro avg       0.36      0.34      0.33      8000\n",
            "weighted avg       0.88      0.90      0.89      8000\n",
            "\n"
          ],
          "name": "stdout"
        }
      ]
    },
    {
      "cell_type": "markdown",
      "metadata": {
        "id": "Cb2-ZJjpAszj",
        "colab_type": "text"
      },
      "source": [
        "## Visualize User Journey Embeddings\n",
        "\n",
        "Get the embeddings from the network"
      ]
    },
    {
      "cell_type": "code",
      "metadata": {
        "id": "hFB0Af9KwgVX",
        "colab_type": "code",
        "colab": {}
      },
      "source": [
        "## embeddings for doc2vec model\n",
        "embeddings = model.get_layer(name='user_embedding')\n",
        "embeddings = embeddings.get_weights()[0]\n",
        "embeddings = embeddings / np.linalg.norm(embeddings, axis = 1).reshape((-1, 1))\n",
        "embeddings = np.nan_to_num(embeddings)"
      ],
      "execution_count": 0,
      "outputs": []
    },
    {
      "cell_type": "code",
      "metadata": {
        "id": "GOqmr6ZvBD70",
        "colab_type": "code",
        "colab": {}
      },
      "source": [
        "## Embeddings for RNN model\n",
        "embeddings2 = model2.get_layer(name='user_embedding')\n",
        "embeddings2 = embeddings2.get_weights()[0]\n",
        "embeddings2 = embeddings2 / np.linalg.norm(embeddings2, axis = 1).reshape((-1, 1))\n",
        "embeddings2 = np.nan_to_num(embeddings2)"
      ],
      "execution_count": 0,
      "outputs": []
    },
    {
      "cell_type": "code",
      "metadata": {
        "id": "iN-xP8WVmKjW",
        "colab_type": "code",
        "colab": {}
      },
      "source": [
        "## Embeddings for variable length RNN model\n",
        "embeddings3 = model3.get_layer(name='user_embedding')\n",
        "embeddings3 = embeddings3.get_weights()[0]\n",
        "embeddings3 = embeddings3 / np.linalg.norm(embeddings3, axis = 1).reshape((-1, 1))\n",
        "embeddings3 = np.nan_to_num(embeddings3)"
      ],
      "execution_count": 0,
      "outputs": []
    },
    {
      "cell_type": "markdown",
      "metadata": {
        "id": "s7Fm6-NqAisI",
        "colab_type": "text"
      },
      "source": [
        "### Use tSNE to visualize the embeddings\n",
        "\n",
        "To visualize each user's vector, we reduce it to two dimensions using tSNE and colour code them with the 51st action"
      ]
    },
    {
      "cell_type": "code",
      "metadata": {
        "id": "qqC3evCiw74i",
        "colab_type": "code",
        "colab": {}
      },
      "source": [
        "from sklearn.manifold import TSNE\n"
      ],
      "execution_count": 0,
      "outputs": []
    },
    {
      "cell_type": "code",
      "metadata": {
        "id": "XC-JYSxc-66i",
        "colab_type": "code",
        "colab": {
          "base_uri": "https://localhost:8080/",
          "height": 178
        },
        "outputId": "111d1406-f261-4adb-c54a-3e20ba655fd8"
      },
      "source": [
        "## Embeddings for doc2vec model\n",
        "tsne = TSNE(n_components=2, init='pca', random_state=0)\n",
        "embeddings_reduced = tsne.fit_transform(embeddings)"
      ],
      "execution_count": 139,
      "outputs": [
        {
          "output_type": "error",
          "ename": "NameError",
          "evalue": "ignored",
          "traceback": [
            "\u001b[0;31m---------------------------------------------------------------------------\u001b[0m",
            "\u001b[0;31mNameError\u001b[0m                                 Traceback (most recent call last)",
            "\u001b[0;32m<ipython-input-139-b07d63b03932>\u001b[0m in \u001b[0;36m<module>\u001b[0;34m()\u001b[0m\n\u001b[1;32m      1\u001b[0m \u001b[0mtsne\u001b[0m \u001b[0;34m=\u001b[0m \u001b[0mTSNE\u001b[0m\u001b[0;34m(\u001b[0m\u001b[0mn_components\u001b[0m\u001b[0;34m=\u001b[0m\u001b[0;36m2\u001b[0m\u001b[0;34m,\u001b[0m \u001b[0minit\u001b[0m\u001b[0;34m=\u001b[0m\u001b[0;34m'pca'\u001b[0m\u001b[0;34m,\u001b[0m \u001b[0mrandom_state\u001b[0m\u001b[0;34m=\u001b[0m\u001b[0;36m0\u001b[0m\u001b[0;34m)\u001b[0m\u001b[0;34m\u001b[0m\u001b[0;34m\u001b[0m\u001b[0m\n\u001b[0;32m----> 2\u001b[0;31m \u001b[0membeddings_reduced\u001b[0m \u001b[0;34m=\u001b[0m \u001b[0mtsne\u001b[0m\u001b[0;34m.\u001b[0m\u001b[0mfit_transform\u001b[0m\u001b[0;34m(\u001b[0m\u001b[0membeddings\u001b[0m\u001b[0;34m)\u001b[0m\u001b[0;34m\u001b[0m\u001b[0;34m\u001b[0m\u001b[0m\n\u001b[0m",
            "\u001b[0;31mNameError\u001b[0m: name 'embeddings' is not defined"
          ]
        }
      ]
    },
    {
      "cell_type": "code",
      "metadata": {
        "id": "oc4m9i5A_FjG",
        "colab_type": "code",
        "outputId": "278f846a-e42c-4c3f-9f41-573aaae8132c",
        "colab": {
          "base_uri": "https://localhost:8080/",
          "height": 286
        }
      },
      "source": [
        "y_true = np.argmax(y,axis=1)\n",
        "\n",
        "plt.figure()\n",
        "colors = ['navy', 'darkorange', 'red']\n",
        "lw = 2\n",
        "target_names = action_to_idx.keys()\n",
        "\n",
        "#original points\n",
        "for color, i, target_name in zip(colors, [0, 1,2], target_names):\n",
        "    plt.scatter(embeddings_reduced[y_true == i, 0], embeddings_reduced[y_true == i, 1], color=color, alpha=.8, lw=lw,\n",
        "                label=target_name)\n",
        "plt.legend(loc='best', shadow=False, scatterpoints=1)"
      ],
      "execution_count": 33,
      "outputs": [
        {
          "output_type": "execute_result",
          "data": {
            "text/plain": [
              "<matplotlib.legend.Legend at 0x7f8ebb42a828>"
            ]
          },
          "metadata": {
            "tags": []
          },
          "execution_count": 33
        },
        {
          "output_type": "display_data",
          "data": {
            "image/png": "[encoded data removed]",
            "text/plain": [
              "<Figure size 432x288 with 1 Axes>"
            ]
          },
          "metadata": {
            "tags": []
          }
        }
      ]
    },
    {
      "cell_type": "code",
      "metadata": {
        "id": "Yypqlm6I7vZQ",
        "colab_type": "code",
        "colab": {
          "base_uri": "https://localhost:8080/",
          "height": 286
        },
        "outputId": "a2658afc-bbab-406e-f4d8-757774155014"
      },
      "source": [
        "embeddings_reduced2 = tsne.fit_transform(embeddings2)\n",
        "plt.figure()\n",
        "colors = ['navy', 'darkorange', 'red']\n",
        "lw = 2\n",
        "target_names = action_to_idx.keys()\n",
        "\n",
        "#original points\n",
        "for color, i, target_name in zip(colors, [0, 1,2], target_names):\n",
        "    plt.scatter(embeddings_reduced2[y_true == i, 0], embeddings_reduced2[y_true == i, 1], color=color, alpha=.8, lw=lw,\n",
        "                label=target_name)\n",
        "plt.legend(loc='best', shadow=False, scatterpoints=1)"
      ],
      "execution_count": 34,
      "outputs": [
        {
          "output_type": "execute_result",
          "data": {
            "text/plain": [
              "<matplotlib.legend.Legend at 0x7f8ebe8bbd30>"
            ]
          },
          "metadata": {
            "tags": []
          },
          "execution_count": 34
        },
        {
          "output_type": "display_data",
          "data": {
            "image/png": "[encoded data removed]",
            "text/plain": [
              "<Figure size 432x288 with 1 Axes>"
            ]
          },
          "metadata": {
            "tags": []
          }
        }
      ]
    },
    {
      "cell_type": "code",
      "metadata": {
        "id": "fe3Ul5Zb26No",
        "colab_type": "code",
        "colab": {
          "base_uri": "https://localhost:8080/",
          "height": 246
        },
        "outputId": "757ad964-2950-4095-83ad-ad21da69d8d0"
      },
      "source": [
        "embeddings_reduced3 = tsne.fit_transform(embeddings3)\n",
        "plt.figure()\n",
        "colors = ['navy', 'darkorange', 'red']\n",
        "lw = 2\n",
        "target_names = action_to_idx.keys()\n",
        "\n",
        "#original points\n",
        "for color, i, target_name in zip(colors, [0, 1,2], target_names):\n",
        "    plt.scatter(embeddings_reduced3[y_true == i, 0], embeddings_reduced3[y_true == i, 1], color=color, alpha=.8, lw=lw,\n",
        "                label=target_name)\n",
        "plt.legend(loc='best', shadow=False, scatterpoints=1)"
      ],
      "execution_count": 140,
      "outputs": [
        {
          "output_type": "error",
          "ename": "IndexError",
          "evalue": "ignored",
          "traceback": [
            "\u001b[0;31m---------------------------------------------------------------------------\u001b[0m",
            "\u001b[0;31mIndexError\u001b[0m                                Traceback (most recent call last)",
            "\u001b[0;32m<ipython-input-140-9b4e84cf8ab7>\u001b[0m in \u001b[0;36m<module>\u001b[0;34m()\u001b[0m\n\u001b[1;32m      7\u001b[0m \u001b[0;31m#original points\u001b[0m\u001b[0;34m\u001b[0m\u001b[0;34m\u001b[0m\u001b[0;34m\u001b[0m\u001b[0m\n\u001b[1;32m      8\u001b[0m \u001b[0;32mfor\u001b[0m \u001b[0mcolor\u001b[0m\u001b[0;34m,\u001b[0m \u001b[0mi\u001b[0m\u001b[0;34m,\u001b[0m \u001b[0mtarget_name\u001b[0m \u001b[0;32min\u001b[0m \u001b[0mzip\u001b[0m\u001b[0;34m(\u001b[0m\u001b[0mcolors\u001b[0m\u001b[0;34m,\u001b[0m \u001b[0;34m[\u001b[0m\u001b[0;36m0\u001b[0m\u001b[0;34m,\u001b[0m \u001b[0;36m1\u001b[0m\u001b[0;34m,\u001b[0m\u001b[0;36m2\u001b[0m\u001b[0;34m]\u001b[0m\u001b[0;34m,\u001b[0m \u001b[0mtarget_names\u001b[0m\u001b[0;34m)\u001b[0m\u001b[0;34m:\u001b[0m\u001b[0;34m\u001b[0m\u001b[0;34m\u001b[0m\u001b[0m\n\u001b[0;32m----> 9\u001b[0;31m     plt.scatter(embeddings_reduced3[y_true == i, 0], embeddings_reduced3[y_true == i, 1], color=color, alpha=.8, lw=lw,\n\u001b[0m\u001b[1;32m     10\u001b[0m                 label=target_name)\n\u001b[1;32m     11\u001b[0m \u001b[0mplt\u001b[0m\u001b[0;34m.\u001b[0m\u001b[0mlegend\u001b[0m\u001b[0;34m(\u001b[0m\u001b[0mloc\u001b[0m\u001b[0;34m=\u001b[0m\u001b[0;34m'best'\u001b[0m\u001b[0;34m,\u001b[0m \u001b[0mshadow\u001b[0m\u001b[0;34m=\u001b[0m\u001b[0;32mFalse\u001b[0m\u001b[0;34m,\u001b[0m \u001b[0mscatterpoints\u001b[0m\u001b[0;34m=\u001b[0m\u001b[0;36m1\u001b[0m\u001b[0;34m)\u001b[0m\u001b[0;34m\u001b[0m\u001b[0;34m\u001b[0m\u001b[0m\n",
            "\u001b[0;31mIndexError\u001b[0m: boolean index did not match indexed array along dimension 0; dimension is 25714 but corresponding boolean dimension is 8000"
          ]
        },
        {
          "output_type": "display_data",
          "data": {
            "text/plain": [
              "<Figure size 432x288 with 0 Axes>"
            ]
          },
          "metadata": {
            "tags": []
          }
        }
      ]
    },
    {
      "cell_type": "code",
      "metadata": {
        "id": "CB_MXt3vNHvy",
        "colab_type": "code",
        "colab": {
          "base_uri": "https://localhost:8080/",
          "height": 298
        },
        "outputId": "ca0eceb0-8bb5-4646-dfe3-d3b0f35024bc"
      },
      "source": [
        "y_true = np.argmax(y,axis=1)\n",
        "# for color, i, target_name in zip(colors, [0, 1,2], target_names):\n",
        "plt.scatter(embeddings_reduced3[:, 0], embeddings_reduced3[:, 1], alpha=.8, lw=lw)\n",
        "plt.legend(loc='best', shadow=False, scatterpoints=1)\n",
        "\n",
        "embeddings_reduced3.shape"
      ],
      "execution_count": 162,
      "outputs": [
        {
          "output_type": "stream",
          "text": [
            "No handles with labels found to put in legend.\n"
          ],
          "name": "stderr"
        },
        {
          "output_type": "execute_result",
          "data": {
            "text/plain": [
              "(25714, 2)"
            ]
          },
          "metadata": {
            "tags": []
          },
          "execution_count": 162
        },
        {
          "output_type": "display_data",
          "data": {
            "image/png": "[encoded data removed]",
            "text/plain": [
              "<Figure size 432x288 with 1 Axes>"
            ]
          },
          "metadata": {
            "tags": []
          }
        }
      ]
    },
    {
      "cell_type": "code",
      "metadata": {
        "id": "uG-cPh9KPZRV",
        "colab_type": "code",
        "colab": {}
      },
      "source": [
        "pickle.dump( visitor_sessions, bz2.BZ2File('visitor_sessions.pkl', 'w') )\n",
        "pickle.dump( embeddings3, bz2.BZ2File('embeddings3.pkl', 'w') )"
      ],
      "execution_count": 0,
      "outputs": []
    },
    {
      "cell_type": "markdown",
      "metadata": {
        "id": "T7xIIq31CHd1",
        "colab_type": "text"
      },
      "source": [
        "To Dos\n",
        "\n",
        "\n",
        "*   [ ] visualize sequence of user actions\n",
        "*   [x] create proper train and test sets\n",
        "*   [ ] incorporate item features into model\n",
        "* [x] check LSTM is embedding users correctly\n",
        "     * [x] create data set by user sessions\n",
        "\n",
        "\n",
        "\n",
        "\n",
        "\n",
        "\n"
      ]
    },
    {
      "cell_type": "code",
      "metadata": {
        "id": "hxg5cR06G8_1",
        "colab_type": "code",
        "colab": {}
      },
      "source": [
        ""
      ],
      "execution_count": 0,
      "outputs": []
    }
  ]
}