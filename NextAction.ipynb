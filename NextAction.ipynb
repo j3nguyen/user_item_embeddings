{
  "nbformat": 4,
  "nbformat_minor": 0,
  "metadata": {
    "colab": {
      "name": "NextAction.ipynb",
      "version": "0.3.2",
      "provenance": [],
      "include_colab_link": true
    },
    "kernelspec": {
      "name": "python3",
      "display_name": "Python 3"
    }
  },
  "cells": [
    {
      "cell_type": "markdown",
      "metadata": {
        "id": "view-in-github",
        "colab_type": "text"
      },
      "source": [
        "<a href=\"https://colab.research.google.com/github/j3nguyen/user_item_embeddings/blob/master/NextAction.ipynb\" target=\"_parent\"><img src=\"https://colab.research.google.com/assets/colab-badge.svg\" alt=\"Open In Colab\"/></a>"
      ]
    },
    {
      "cell_type": "code",
      "metadata": {
        "id": "i7lmWYxUscXg",
        "colab_type": "code",
        "colab": {}
      },
      "source": [
        "import re\n",
        "import numpy as np\n",
        "import pandas as pd\n",
        "from pprint import pprint\n",
        "\n",
        "# Gensim\n",
        "# import gensim\n",
        "# import gensim.corpora as corpora\n",
        "# from gensim.utils import simple_preprocess\n",
        "# from gensim.models import CoherenceModel\n",
        "\n",
        "# spacy for lemmatization\n",
        "# import spacy\n",
        "\n",
        "# NLTK for stopwords and stemming\n",
        "# from nltk.stem.porter import * \n",
        "# from nltk.stem.snowball import SnowballStemmer\n",
        "# from nltk.corpus import stopwords\n",
        "# stop_words = stopwords.words('english')\n",
        "\n",
        "# Plotting tools\n",
        "# import pyLDAvis\n",
        "# import pyLDAvis.gensim  # don't skip this\n",
        "import matplotlib.pyplot as plt\n",
        "import matplotlib"
      ],
      "execution_count": 0,
      "outputs": []
    },
    {
      "cell_type": "code",
      "metadata": {
        "id": "EJyyvljXsfw-",
        "colab_type": "code",
        "outputId": "446980b1-84b4-45a5-fb85-acd0dcf6e9f0",
        "colab": {
          "base_uri": "https://localhost:8080/",
          "height": 68
        }
      },
      "source": [
        "import nltk\n",
        "nltk.download('stopwords')"
      ],
      "execution_count": 0,
      "outputs": [
        {
          "output_type": "stream",
          "text": [
            "[nltk_data] Downloading package stopwords to /root/nltk_data...\n",
            "[nltk_data]   Unzipping corpora/stopwords.zip.\n"
          ],
          "name": "stdout"
        },
        {
          "output_type": "execute_result",
          "data": {
            "text/plain": [
              "True"
            ]
          },
          "metadata": {
            "tags": []
          },
          "execution_count": 58
        }
      ]
    },
    {
      "cell_type": "code",
      "metadata": {
        "id": "Ru9frj6Xs7yr",
        "colab_type": "code",
        "colab": {}
      },
      "source": [
        "import keras"
      ],
      "execution_count": 0,
      "outputs": []
    },
    {
      "cell_type": "code",
      "metadata": {
        "id": "1UlLuUz6s9lM",
        "colab_type": "code",
        "colab": {}
      },
      "source": [
        "from keras.models import Sequential, Model\n",
        "from keras.layers import Input, LSTM, Dense, Average, Dropout, Embedding, Activation, TimeDistributed, Concatenate, Flatten, Lambda\n",
        "from keras.optimizers import Adam"
      ],
      "execution_count": 0,
      "outputs": []
    },
    {
      "cell_type": "code",
      "metadata": {
        "id": "vfML1r4FxGRD",
        "colab_type": "code",
        "colab": {}
      },
      "source": [
        "df = pd.read_csv(\"events.csv\")"
      ],
      "execution_count": 0,
      "outputs": []
    },
    {
      "cell_type": "code",
      "metadata": {
        "id": "kdr9sjNNxO00",
        "colab_type": "code",
        "outputId": "4d801457-e2dc-4659-cf33-076636545890",
        "colab": {
          "base_uri": "https://localhost:8080/",
          "height": 204
        }
      },
      "source": [
        "df.head()"
      ],
      "execution_count": 0,
      "outputs": [
        {
          "output_type": "execute_result",
          "data": {
            "text/html": [
              "<div>\n",
              "<style scoped>\n",
              "    .dataframe tbody tr th:only-of-type {\n",
              "        vertical-align: middle;\n",
              "    }\n",
              "\n",
              "    .dataframe tbody tr th {\n",
              "        vertical-align: top;\n",
              "    }\n",
              "\n",
              "    .dataframe thead th {\n",
              "        text-align: right;\n",
              "    }\n",
              "</style>\n",
              "<table border=\"1\" class=\"dataframe\">\n",
              "  <thead>\n",
              "    <tr style=\"text-align: right;\">\n",
              "      <th></th>\n",
              "      <th>timestamp</th>\n",
              "      <th>visitorid</th>\n",
              "      <th>event</th>\n",
              "      <th>itemid</th>\n",
              "      <th>transactionid</th>\n",
              "    </tr>\n",
              "  </thead>\n",
              "  <tbody>\n",
              "    <tr>\n",
              "      <th>0</th>\n",
              "      <td>1433221332117</td>\n",
              "      <td>257597</td>\n",
              "      <td>view</td>\n",
              "      <td>355908</td>\n",
              "      <td>NaN</td>\n",
              "    </tr>\n",
              "    <tr>\n",
              "      <th>1</th>\n",
              "      <td>1433224214164</td>\n",
              "      <td>992329</td>\n",
              "      <td>view</td>\n",
              "      <td>248676</td>\n",
              "      <td>NaN</td>\n",
              "    </tr>\n",
              "    <tr>\n",
              "      <th>2</th>\n",
              "      <td>1433221999827</td>\n",
              "      <td>111016</td>\n",
              "      <td>view</td>\n",
              "      <td>318965</td>\n",
              "      <td>NaN</td>\n",
              "    </tr>\n",
              "    <tr>\n",
              "      <th>3</th>\n",
              "      <td>1433221955914</td>\n",
              "      <td>483717</td>\n",
              "      <td>view</td>\n",
              "      <td>253185</td>\n",
              "      <td>NaN</td>\n",
              "    </tr>\n",
              "    <tr>\n",
              "      <th>4</th>\n",
              "      <td>1433221337106</td>\n",
              "      <td>951259</td>\n",
              "      <td>view</td>\n",
              "      <td>367447</td>\n",
              "      <td>NaN</td>\n",
              "    </tr>\n",
              "  </tbody>\n",
              "</table>\n",
              "</div>"
            ],
            "text/plain": [
              "       timestamp  visitorid event  itemid  transactionid\n",
              "0  1433221332117     257597  view  355908            NaN\n",
              "1  1433224214164     992329  view  248676            NaN\n",
              "2  1433221999827     111016  view  318965            NaN\n",
              "3  1433221955914     483717  view  253185            NaN\n",
              "4  1433221337106     951259  view  367447            NaN"
            ]
          },
          "metadata": {
            "tags": []
          },
          "execution_count": 7
        }
      ]
    },
    {
      "cell_type": "code",
      "metadata": {
        "id": "UoC-P7sYxQYX",
        "colab_type": "code",
        "colab": {}
      },
      "source": [
        "# reformat the data set\n",
        "visitor_ids = df.visitorid.unique()"
      ],
      "execution_count": 0,
      "outputs": []
    },
    {
      "cell_type": "code",
      "metadata": {
        "id": "MHMvV21cxg-T",
        "colab_type": "code",
        "outputId": "b20e233e-30e6-4169-a98b-28bad93b1255",
        "colab": {
          "base_uri": "https://localhost:8080/",
          "height": 34
        }
      },
      "source": [
        "df.shape"
      ],
      "execution_count": 0,
      "outputs": [
        {
          "output_type": "execute_result",
          "data": {
            "text/plain": [
              "(2756101, 5)"
            ]
          },
          "metadata": {
            "tags": []
          },
          "execution_count": 11
        }
      ]
    },
    {
      "cell_type": "code",
      "metadata": {
        "id": "RKdIig2DxoG_",
        "colab_type": "code",
        "outputId": "a36ad26b-1167-4583-bd35-29f4cf55960d",
        "colab": {
          "base_uri": "https://localhost:8080/",
          "height": 85
        }
      },
      "source": [
        "df.event.value_counts()"
      ],
      "execution_count": 0,
      "outputs": [
        {
          "output_type": "execute_result",
          "data": {
            "text/plain": [
              "view           2664312\n",
              "addtocart        69332\n",
              "transaction      22457\n",
              "Name: event, dtype: int64"
            ]
          },
          "metadata": {
            "tags": []
          },
          "execution_count": 73
        }
      ]
    },
    {
      "cell_type": "code",
      "metadata": {
        "id": "wQUbzn4-4Mq9",
        "colab_type": "code",
        "colab": {}
      },
      "source": [
        "action_to_idx = {\"view\": 0, \"addtocart\": 1, \"transaction\": 2}"
      ],
      "execution_count": 0,
      "outputs": []
    },
    {
      "cell_type": "code",
      "metadata": {
        "id": "FEKxbog95qZ_",
        "colab_type": "code",
        "colab": {}
      },
      "source": [
        "# build the data set\n",
        "\n",
        "a = df[df.visitorid == visitor_ids[342]].sort_values(\"timestamp\").event.values\n",
        "a = list(map(lambda x: action_to_idx[x],a))"
      ],
      "execution_count": 0,
      "outputs": []
    },
    {
      "cell_type": "code",
      "metadata": {
        "id": "HMaW7q4-6Btl",
        "colab_type": "code",
        "colab": {}
      },
      "source": [
        "visitor_activity = {}\n",
        "\n",
        "for visitor in visitor_ids[:1000]:\n",
        "  # get user's actions in order of time\n",
        "  actions = df[df.visitorid == visitor].sort_values(\"timestamp\").event.values\n",
        "  \n",
        "  if len(actions) > 50:\n",
        "    actions = list(map(lambda x: action_to_idx[x],actions)) [:51] \n",
        "    visitor_activity[visitor] = actions"
      ],
      "execution_count": 0,
      "outputs": []
    },
    {
      "cell_type": "code",
      "metadata": {
        "id": "2az0tCkqfSTi",
        "colab_type": "code",
        "colab": {}
      },
      "source": [
        "hidden_size = 64\n",
        "num_actions = len(action_to_idx)\n",
        "input_length = 50\n",
        "num_users = len(visitor_activity)"
      ],
      "execution_count": 0,
      "outputs": []
    },
    {
      "cell_type": "code",
      "metadata": {
        "id": "u1gknWh-71CB",
        "colab_type": "code",
        "colab": {}
      },
      "source": [
        "#create the LSTM network\n",
        "\n",
        "# model = Sequential()\n",
        "# model.add(Embedding(\n",
        "#     input_dim=num_actions,\n",
        "#     output_dim=hidden_size, #hidden layer dimension\n",
        "#     input_length=input_length,\n",
        "#     trainable=True\n",
        "#   )\n",
        "# )\n",
        "\n",
        "# model.add(LSTM(hidden_size, return_sequences=True))\n",
        "# model.add(Dropout(rate=0.5))\n",
        "# model.add(Activation('softmax'))\n",
        "\n",
        "\n",
        "model = Sequential()\n",
        "model.add(Embedding(num_actions, hidden_size, input_length=input_length))\n",
        "model.add(LSTM(hidden_size, return_sequences=True))\n",
        "model.add(LSTM(hidden_size, return_sequences=False))\n",
        "\n",
        "model.add(Dropout(rate=0.5))\n",
        "# model.add(TimeDistributed(Dense(num_actions)))\n",
        "# model.add(Activation('softmax'))\n",
        "model.add(Dense(num_actions, activation='softmax'))\n"
      ],
      "execution_count": 0,
      "outputs": []
    },
    {
      "cell_type": "code",
      "metadata": {
        "id": "lEUKZOnDe0rm",
        "colab_type": "code",
        "colab": {}
      },
      "source": [
        "#Create the LSTM  network using the functional API\n",
        "\n",
        "\n",
        "# sequence of actions\n",
        "A = Input(shape=(input_length,), name=\"actions\") #length of sequence, size of vocab\n",
        "\n",
        "# document ID\n",
        "U = Input(shape=(1,), name=\"users\")\n",
        "\n",
        "#create embedding for actions and for users\n",
        "a = Embedding(input_dim=num_actions, output_dim=hidden_size, input_length=input_length)(A) # shape 50,64\n",
        "u = Embedding(input_dim=num_users, output_dim=hidden_size, input_length=1)(U) # shape 1,64\n",
        "\n",
        "# combine embeddings\n",
        "x = Concatenate(axis=1)([u,a])\n",
        "\n",
        "# shared LSTM\n",
        "# x = Dense(hidden_size,activation='relu')(x)\n",
        "# # predictions = Flatten()(x\n",
        "\n",
        "split = Lambda(my_split(input_length))(x)\n",
        "averaged = Average()(split)\n",
        "squeezed = Lambda(squeeze(axis=1))(averaged)\n",
        "\n",
        "predictions = Dense(num_actions, activation='softmax')(squeezed)\n",
        "\n",
        "model = Model(inputs=[A, U], outputs=predictions)"
      ],
      "execution_count": 0,
      "outputs": []
    },
    {
      "cell_type": "code",
      "metadata": {
        "id": "raV1uFssMs6U",
        "colab_type": "code",
        "outputId": "d8156afb-d6e2-42d5-e712-23415ceec14d",
        "colab": {
          "base_uri": "https://localhost:8080/",
          "height": 105
        }
      },
      "source": [
        "opt = Adam(lr=0.01, beta_1=0.9, beta_2=0.999, decay=0.01)\n",
        "\n",
        "model.compile(optimizer=opt, loss='categorical_crossentropy', metrics=['accuracy'])"
      ],
      "execution_count": 0,
      "outputs": [
        {
          "output_type": "stream",
          "text": [
            "W0826 16:07:21.975575 140163473876864 deprecation_wrapper.py:119] From /usr/local/lib/python3.6/dist-packages/keras/optimizers.py:790: The name tf.train.Optimizer is deprecated. Please use tf.compat.v1.train.Optimizer instead.\n",
            "\n",
            "W0826 16:07:21.992528 140163473876864 deprecation_wrapper.py:119] From /usr/local/lib/python3.6/dist-packages/keras/backend/tensorflow_backend.py:3295: The name tf.log is deprecated. Please use tf.math.log instead.\n",
            "\n"
          ],
          "name": "stderr"
        }
      ]
    },
    {
      "cell_type": "code",
      "metadata": {
        "id": "k4XZ5wilM9cv",
        "colab_type": "code",
        "outputId": "5c002d44-bcb4-4449-8827-2f2428e7c5d7",
        "colab": {
          "base_uri": "https://localhost:8080/",
          "height": 1000
        }
      },
      "source": [
        "model.summary()"
      ],
      "execution_count": 0,
      "outputs": [
        {
          "output_type": "stream",
          "text": [
            "__________________________________________________________________________________________________\n",
            "Layer (type)                    Output Shape         Param #     Connected to                     \n",
            "==================================================================================================\n",
            "users (InputLayer)              (None, 1)            0                                            \n",
            "__________________________________________________________________________________________________\n",
            "actions (InputLayer)            (None, 50)           0                                            \n",
            "__________________________________________________________________________________________________\n",
            "embedding_4 (Embedding)         (None, 1, 64)        2432        users[0][0]                      \n",
            "__________________________________________________________________________________________________\n",
            "embedding_3 (Embedding)         (None, 50, 64)       192         actions[0][0]                    \n",
            "__________________________________________________________________________________________________\n",
            "concatenate_2 (Concatenate)     (None, 51, 64)       0           embedding_4[0][0]                \n",
            "                                                                 embedding_3[0][0]                \n",
            "__________________________________________________________________________________________________\n",
            "lambda_1 (Lambda)               [(None, 1, 64), (Non 0           concatenate_2[0][0]              \n",
            "__________________________________________________________________________________________________\n",
            "average_1 (Average)             (None, 1, 64)        0           lambda_1[0][0]                   \n",
            "                                                                 lambda_1[0][1]                   \n",
            "                                                                 lambda_1[0][2]                   \n",
            "                                                                 lambda_1[0][3]                   \n",
            "                                                                 lambda_1[0][4]                   \n",
            "                                                                 lambda_1[0][5]                   \n",
            "                                                                 lambda_1[0][6]                   \n",
            "                                                                 lambda_1[0][7]                   \n",
            "                                                                 lambda_1[0][8]                   \n",
            "                                                                 lambda_1[0][9]                   \n",
            "                                                                 lambda_1[0][10]                  \n",
            "                                                                 lambda_1[0][11]                  \n",
            "                                                                 lambda_1[0][12]                  \n",
            "                                                                 lambda_1[0][13]                  \n",
            "                                                                 lambda_1[0][14]                  \n",
            "                                                                 lambda_1[0][15]                  \n",
            "                                                                 lambda_1[0][16]                  \n",
            "                                                                 lambda_1[0][17]                  \n",
            "                                                                 lambda_1[0][18]                  \n",
            "                                                                 lambda_1[0][19]                  \n",
            "                                                                 lambda_1[0][20]                  \n",
            "                                                                 lambda_1[0][21]                  \n",
            "                                                                 lambda_1[0][22]                  \n",
            "                                                                 lambda_1[0][23]                  \n",
            "                                                                 lambda_1[0][24]                  \n",
            "                                                                 lambda_1[0][25]                  \n",
            "                                                                 lambda_1[0][26]                  \n",
            "                                                                 lambda_1[0][27]                  \n",
            "                                                                 lambda_1[0][28]                  \n",
            "                                                                 lambda_1[0][29]                  \n",
            "                                                                 lambda_1[0][30]                  \n",
            "                                                                 lambda_1[0][31]                  \n",
            "                                                                 lambda_1[0][32]                  \n",
            "                                                                 lambda_1[0][33]                  \n",
            "                                                                 lambda_1[0][34]                  \n",
            "                                                                 lambda_1[0][35]                  \n",
            "                                                                 lambda_1[0][36]                  \n",
            "                                                                 lambda_1[0][37]                  \n",
            "                                                                 lambda_1[0][38]                  \n",
            "                                                                 lambda_1[0][39]                  \n",
            "                                                                 lambda_1[0][40]                  \n",
            "                                                                 lambda_1[0][41]                  \n",
            "                                                                 lambda_1[0][42]                  \n",
            "                                                                 lambda_1[0][43]                  \n",
            "                                                                 lambda_1[0][44]                  \n",
            "                                                                 lambda_1[0][45]                  \n",
            "                                                                 lambda_1[0][46]                  \n",
            "                                                                 lambda_1[0][47]                  \n",
            "                                                                 lambda_1[0][48]                  \n",
            "                                                                 lambda_1[0][49]                  \n",
            "                                                                 lambda_1[0][50]                  \n",
            "__________________________________________________________________________________________________\n",
            "lambda_2 (Lambda)               (None, 64)           0           average_1[0][0]                  \n",
            "__________________________________________________________________________________________________\n",
            "dense_1 (Dense)                 (None, 3)            195         lambda_2[0][0]                   \n",
            "==================================================================================================\n",
            "Total params: 2,819\n",
            "Trainable params: 2,819\n",
            "Non-trainable params: 0\n",
            "__________________________________________________________________________________________________\n"
          ],
          "name": "stdout"
        }
      ]
    },
    {
      "cell_type": "code",
      "metadata": {
        "id": "6uyw081aNmZw",
        "colab_type": "code",
        "outputId": "ab2b1953-8a29-4854-b364-efbe48cfefc1",
        "colab": {
          "base_uri": "https://localhost:8080/",
          "height": 34
        }
      },
      "source": [
        "max(list(map(lambda x: len(x),visitor_activity.values())))"
      ],
      "execution_count": 0,
      "outputs": [
        {
          "output_type": "execute_result",
          "data": {
            "text/plain": [
              "51"
            ]
          },
          "metadata": {
            "tags": []
          },
          "execution_count": 17
        }
      ]
    },
    {
      "cell_type": "code",
      "metadata": {
        "id": "bJy3z1wFadTi",
        "colab_type": "code",
        "colab": {}
      },
      "source": [
        "from keras.utils import to_categorical"
      ],
      "execution_count": 0,
      "outputs": []
    },
    {
      "cell_type": "code",
      "metadata": {
        "colab_type": "code",
        "id": "RaGIAx7ll0jU",
        "colab": {}
      },
      "source": [
        "actions = visitor_activity.values()\n",
        "d_train = np.array(range(len(actions))) # users\n",
        "X_train = np.array(list(map(lambda x: x[:-1], actions))) #actions for each user\n",
        "y_train = to_categorical(np.array(list(map(lambda x: x[50], actions))), num_classes=3) # shift sequence on step forward\n"
      ],
      "execution_count": 0,
      "outputs": []
    },
    {
      "cell_type": "code",
      "metadata": {
        "id": "b78uOWSdkGYp",
        "colab_type": "code",
        "outputId": "82749052-eb01-43dd-863c-4012815e8f65",
        "colab": {
          "base_uri": "https://localhost:8080/",
          "height": 34
        }
      },
      "source": [
        "y_train.shape"
      ],
      "execution_count": 0,
      "outputs": [
        {
          "output_type": "execute_result",
          "data": {
            "text/plain": [
              "(38, 3)"
            ]
          },
          "metadata": {
            "tags": []
          },
          "execution_count": 33
        }
      ]
    },
    {
      "cell_type": "code",
      "metadata": {
        "colab_type": "code",
        "id": "r0beNKrAlzxP",
        "colab": {}
      },
      "source": [
        "def my_split(window_size):\n",
        "    def _lambda(tensor):\n",
        "        import tensorflow as tf\n",
        "        return tf.split(tensor, window_size + 1, axis=1)\n",
        "    return _lambda\n",
        "\n",
        "\n",
        "def squeeze(axis=-1):\n",
        "    def _lambda(tensor):\n",
        "        import tensorflow as tf\n",
        "        return tf.squeeze(tensor, axis=axis)\n",
        "    return _lambda\n",
        "\n",
        "\n",
        "def stack(window_size):\n",
        "    def _lambda(tensor):\n",
        "        import tensorflow as tf\n",
        "        return tf.stack([tensor] * window_size, axis=1)\n",
        "    return _lambda"
      ],
      "execution_count": 0,
      "outputs": []
    },
    {
      "cell_type": "code",
      "metadata": {
        "id": "jAJB-6K-XaTs",
        "colab_type": "code",
        "outputId": "fdcf8857-8b05-457d-83c2-04d6fac14522",
        "colab": {
          "base_uri": "https://localhost:8080/",
          "height": 34
        }
      },
      "source": [
        ""
      ],
      "execution_count": 0,
      "outputs": [
        {
          "output_type": "execute_result",
          "data": {
            "text/plain": [
              "(899, 50)"
            ]
          },
          "metadata": {
            "tags": []
          },
          "execution_count": 53
        }
      ]
    },
    {
      "cell_type": "code",
      "metadata": {
        "id": "659x-AsLPw-x",
        "colab_type": "code",
        "outputId": "37e8dea1-b71f-439d-812a-19334a9334c7",
        "colab": {
          "base_uri": "https://localhost:8080/",
          "height": 1000
        }
      },
      "source": [
        "h = model.fit([X_train,d_train], y_train, epochs=50, batch_size=128, validation_split=0.1, verbose=1)"
      ],
      "execution_count": 0,
      "outputs": [
        {
          "output_type": "stream",
          "text": [
            "W0826 16:15:37.025151 140163473876864 deprecation.py:323] From /usr/local/lib/python3.6/dist-packages/tensorflow/python/ops/math_grad.py:1250: add_dispatch_support.<locals>.wrapper (from tensorflow.python.ops.array_ops) is deprecated and will be removed in a future version.\n",
            "Instructions for updating:\n",
            "Use tf.where in 2.0, which has the same broadcast rule as np.where\n",
            "W0826 16:15:37.434035 140163473876864 deprecation_wrapper.py:119] From /usr/local/lib/python3.6/dist-packages/keras/backend/tensorflow_backend.py:986: The name tf.assign_add is deprecated. Please use tf.compat.v1.assign_add instead.\n",
            "\n"
          ],
          "name": "stderr"
        },
        {
          "output_type": "stream",
          "text": [
            "Train on 34 samples, validate on 4 samples\n",
            "Epoch 1/50\n",
            "34/34 [==============================] - 1s 27ms/step - loss: 1.1004 - acc: 0.0294 - val_loss: 1.0292 - val_acc: 1.0000\n",
            "Epoch 2/50\n",
            "34/34 [==============================] - 0s 229us/step - loss: 1.0378 - acc: 0.9118 - val_loss: 0.9514 - val_acc: 1.0000\n",
            "Epoch 3/50\n",
            "34/34 [==============================] - 0s 196us/step - loss: 0.9694 - acc: 0.9118 - val_loss: 0.8716 - val_acc: 1.0000\n",
            "Epoch 4/50\n",
            "34/34 [==============================] - 0s 184us/step - loss: 0.9000 - acc: 0.9118 - val_loss: 0.7849 - val_acc: 1.0000\n",
            "Epoch 5/50\n",
            "34/34 [==============================] - 0s 197us/step - loss: 0.8253 - acc: 0.9118 - val_loss: 0.7038 - val_acc: 1.0000\n",
            "Epoch 6/50\n",
            "34/34 [==============================] - 0s 147us/step - loss: 0.7563 - acc: 0.9118 - val_loss: 0.6194 - val_acc: 1.0000\n",
            "Epoch 7/50\n",
            "34/34 [==============================] - 0s 218us/step - loss: 0.6859 - acc: 0.9118 - val_loss: 0.5396 - val_acc: 1.0000\n",
            "Epoch 8/50\n",
            "34/34 [==============================] - 0s 178us/step - loss: 0.6208 - acc: 0.9118 - val_loss: 0.4626 - val_acc: 1.0000\n",
            "Epoch 9/50\n",
            "34/34 [==============================] - 0s 201us/step - loss: 0.5598 - acc: 0.9118 - val_loss: 0.3900 - val_acc: 1.0000\n",
            "Epoch 10/50\n",
            "34/34 [==============================] - 0s 192us/step - loss: 0.5044 - acc: 0.9118 - val_loss: 0.3236 - val_acc: 1.0000\n",
            "Epoch 11/50\n",
            "34/34 [==============================] - 0s 171us/step - loss: 0.4564 - acc: 0.9118 - val_loss: 0.2647 - val_acc: 1.0000\n",
            "Epoch 12/50\n",
            "34/34 [==============================] - 0s 224us/step - loss: 0.4166 - acc: 0.9118 - val_loss: 0.2139 - val_acc: 1.0000\n",
            "Epoch 13/50\n",
            "34/34 [==============================] - 0s 146us/step - loss: 0.3853 - acc: 0.9118 - val_loss: 0.1720 - val_acc: 1.0000\n",
            "Epoch 14/50\n",
            "34/34 [==============================] - 0s 111us/step - loss: 0.3626 - acc: 0.9118 - val_loss: 0.1381 - val_acc: 1.0000\n",
            "Epoch 15/50\n",
            "34/34 [==============================] - 0s 111us/step - loss: 0.3472 - acc: 0.9118 - val_loss: 0.1114 - val_acc: 1.0000\n",
            "Epoch 16/50\n",
            "34/34 [==============================] - 0s 160us/step - loss: 0.3378 - acc: 0.9118 - val_loss: 0.0907 - val_acc: 1.0000\n",
            "Epoch 17/50\n",
            "34/34 [==============================] - 0s 136us/step - loss: 0.3329 - acc: 0.9118 - val_loss: 0.0750 - val_acc: 1.0000\n",
            "Epoch 18/50\n",
            "34/34 [==============================] - 0s 160us/step - loss: 0.3311 - acc: 0.9118 - val_loss: 0.0633 - val_acc: 1.0000\n",
            "Epoch 19/50\n",
            "34/34 [==============================] - 0s 145us/step - loss: 0.3311 - acc: 0.9118 - val_loss: 0.0546 - val_acc: 1.0000\n",
            "Epoch 20/50\n",
            "34/34 [==============================] - 0s 249us/step - loss: 0.3319 - acc: 0.9118 - val_loss: 0.0483 - val_acc: 1.0000\n",
            "Epoch 21/50\n",
            "34/34 [==============================] - 0s 225us/step - loss: 0.3328 - acc: 0.9118 - val_loss: 0.0438 - val_acc: 1.0000\n",
            "Epoch 22/50\n",
            "34/34 [==============================] - 0s 171us/step - loss: 0.3332 - acc: 0.9118 - val_loss: 0.0408 - val_acc: 1.0000\n",
            "Epoch 23/50\n",
            "34/34 [==============================] - 0s 153us/step - loss: 0.3329 - acc: 0.9118 - val_loss: 0.0390 - val_acc: 1.0000\n",
            "Epoch 24/50\n",
            "34/34 [==============================] - 0s 200us/step - loss: 0.3316 - acc: 0.9118 - val_loss: 0.0381 - val_acc: 1.0000\n",
            "Epoch 25/50\n",
            "34/34 [==============================] - 0s 181us/step - loss: 0.3294 - acc: 0.9118 - val_loss: 0.0380 - val_acc: 1.0000\n",
            "Epoch 26/50\n",
            "34/34 [==============================] - 0s 140us/step - loss: 0.3262 - acc: 0.9118 - val_loss: 0.0387 - val_acc: 1.0000\n",
            "Epoch 27/50\n",
            "34/34 [==============================] - 0s 124us/step - loss: 0.3223 - acc: 0.9118 - val_loss: 0.0400 - val_acc: 1.0000\n",
            "Epoch 28/50\n",
            "34/34 [==============================] - 0s 157us/step - loss: 0.3178 - acc: 0.9118 - val_loss: 0.0420 - val_acc: 1.0000\n",
            "Epoch 29/50\n",
            "34/34 [==============================] - 0s 180us/step - loss: 0.3127 - acc: 0.9118 - val_loss: 0.0446 - val_acc: 1.0000\n",
            "Epoch 30/50\n",
            "34/34 [==============================] - 0s 234us/step - loss: 0.3074 - acc: 0.9118 - val_loss: 0.0478 - val_acc: 1.0000\n",
            "Epoch 31/50\n",
            "34/34 [==============================] - 0s 140us/step - loss: 0.3019 - acc: 0.9118 - val_loss: 0.0516 - val_acc: 1.0000\n",
            "Epoch 32/50\n",
            "34/34 [==============================] - 0s 151us/step - loss: 0.2965 - acc: 0.9118 - val_loss: 0.0559 - val_acc: 1.0000\n",
            "Epoch 33/50\n",
            "34/34 [==============================] - 0s 174us/step - loss: 0.2912 - acc: 0.9118 - val_loss: 0.0608 - val_acc: 1.0000\n",
            "Epoch 34/50\n",
            "34/34 [==============================] - 0s 201us/step - loss: 0.2862 - acc: 0.9118 - val_loss: 0.0662 - val_acc: 1.0000\n",
            "Epoch 35/50\n",
            "34/34 [==============================] - 0s 174us/step - loss: 0.2817 - acc: 0.9118 - val_loss: 0.0720 - val_acc: 1.0000\n",
            "Epoch 36/50\n",
            "34/34 [==============================] - 0s 190us/step - loss: 0.2776 - acc: 0.9118 - val_loss: 0.0781 - val_acc: 1.0000\n",
            "Epoch 37/50\n",
            "34/34 [==============================] - 0s 186us/step - loss: 0.2740 - acc: 0.9118 - val_loss: 0.0845 - val_acc: 1.0000\n",
            "Epoch 38/50\n",
            "34/34 [==============================] - 0s 183us/step - loss: 0.2709 - acc: 0.9118 - val_loss: 0.0909 - val_acc: 1.0000\n",
            "Epoch 39/50\n",
            "34/34 [==============================] - 0s 259us/step - loss: 0.2682 - acc: 0.9118 - val_loss: 0.0973 - val_acc: 1.0000\n",
            "Epoch 40/50\n",
            "34/34 [==============================] - 0s 212us/step - loss: 0.2660 - acc: 0.9118 - val_loss: 0.1034 - val_acc: 1.0000\n",
            "Epoch 41/50\n",
            "34/34 [==============================] - 0s 157us/step - loss: 0.2640 - acc: 0.9118 - val_loss: 0.1092 - val_acc: 1.0000\n",
            "Epoch 42/50\n",
            "34/34 [==============================] - 0s 202us/step - loss: 0.2623 - acc: 0.9118 - val_loss: 0.1144 - val_acc: 1.0000\n",
            "Epoch 43/50\n",
            "34/34 [==============================] - 0s 185us/step - loss: 0.2607 - acc: 0.9118 - val_loss: 0.1190 - val_acc: 1.0000\n",
            "Epoch 44/50\n",
            "34/34 [==============================] - 0s 129us/step - loss: 0.2592 - acc: 0.9118 - val_loss: 0.1228 - val_acc: 1.0000\n",
            "Epoch 45/50\n",
            "34/34 [==============================] - 0s 178us/step - loss: 0.2576 - acc: 0.9118 - val_loss: 0.1258 - val_acc: 1.0000\n",
            "Epoch 46/50\n",
            "34/34 [==============================] - 0s 149us/step - loss: 0.2559 - acc: 0.9118 - val_loss: 0.1280 - val_acc: 1.0000\n",
            "Epoch 47/50\n",
            "34/34 [==============================] - 0s 163us/step - loss: 0.2541 - acc: 0.9118 - val_loss: 0.1295 - val_acc: 1.0000\n",
            "Epoch 48/50\n",
            "34/34 [==============================] - 0s 143us/step - loss: 0.2521 - acc: 0.9118 - val_loss: 0.1302 - val_acc: 1.0000\n",
            "Epoch 49/50\n",
            "34/34 [==============================] - 0s 276us/step - loss: 0.2501 - acc: 0.9118 - val_loss: 0.1303 - val_acc: 1.0000\n",
            "Epoch 50/50\n",
            "34/34 [==============================] - 0s 134us/step - loss: 0.2479 - acc: 0.9118 - val_loss: 0.1299 - val_acc: 1.0000\n"
          ],
          "name": "stdout"
        }
      ]
    },
    {
      "cell_type": "code",
      "metadata": {
        "id": "8Xhoqc1uXOZ6",
        "colab_type": "code",
        "colab": {}
      },
      "source": [
        "pred_prob = model.predict([X_train,d_train])"
      ],
      "execution_count": 0,
      "outputs": []
    },
    {
      "cell_type": "code",
      "metadata": {
        "id": "NuImBzNoioQn",
        "colab_type": "code",
        "colab": {}
      },
      "source": [
        "y_pred = np.argmax(pred_prob,axis=1)\n",
        "# pred_prob"
      ],
      "execution_count": 0,
      "outputs": []
    },
    {
      "cell_type": "code",
      "metadata": {
        "id": "F70aDmLSkDpU",
        "colab_type": "code",
        "colab": {}
      },
      "source": [
        "y_true = np.argmax(y_train,axis=1)"
      ],
      "execution_count": 0,
      "outputs": []
    },
    {
      "cell_type": "code",
      "metadata": {
        "id": "QR9MtTIhlOkj",
        "colab_type": "code",
        "colab": {}
      },
      "source": [
        "import itertools\n",
        "from sklearn.metrics import confusion_matrix, classification_report,accuracy_score, roc_auc_score, roc_curve\n",
        "def plot_confusion_matrix(cm, classes,\n",
        "                          normalize=False,\n",
        "                          title='Confusion matrix',\n",
        "                          cmap=plt.cm.Blues):\n",
        "    \"\"\"\n",
        "    This function prints and plots the confusion matrix.\n",
        "    Normalization can be applied by setting `normalize=True`.\n",
        "    \"\"\"\n",
        "    if normalize:\n",
        "        cm = cm.astype('float') / cm.sum(axis=1)[:, np.newaxis]\n",
        "        print(\"Normalized confusion matrix\")\n",
        "    else:\n",
        "        print('Confusion matrix, without normalization')\n",
        "\n",
        "    print(cm)\n",
        "\n",
        "    plt.imshow(cm, interpolation='nearest', cmap=cmap)\n",
        "    plt.title(title)\n",
        "    plt.colorbar()\n",
        "    tick_marks = np.arange(len(classes))\n",
        "    plt.xticks(tick_marks, classes, rotation=45)\n",
        "    plt.yticks(tick_marks, classes)\n",
        "\n",
        "    fmt = '.2f' if normalize else 'd'\n",
        "    thresh = cm.max() / 2.\n",
        "    for i, j in itertools.product(range(cm.shape[0]), range(cm.shape[1])):\n",
        "        plt.text(j, i, format(cm[i, j], fmt),\n",
        "                 horizontalalignment=\"center\",\n",
        "                 color=\"white\" if cm[i, j] > thresh else \"black\")\n",
        "\n",
        "    plt.ylabel('True label')\n",
        "    plt.xlabel('Predicted label')\n",
        "    plt.tight_layout()"
      ],
      "execution_count": 0,
      "outputs": []
    },
    {
      "cell_type": "code",
      "metadata": {
        "id": "fzZWDH0ulqfq",
        "colab_type": "code",
        "outputId": "ce4dcb4e-ba57-421f-c515-4321e5c3c5e8",
        "colab": {
          "base_uri": "https://localhost:8080/",
          "height": 365
        }
      },
      "source": [
        "conf=confusion_matrix(y_true,y_pred)\n",
        "plt.figure()\n",
        "plot_confusion_matrix(conf, classes=action_to_idx.keys(), normalize=False,\n",
        "                      title='Normalized confusion matrix')\n",
        "# plt.savefig(\"cm1.jpg\", dpi=900)\n",
        "plt.show()"
      ],
      "execution_count": 0,
      "outputs": [
        {
          "output_type": "stream",
          "text": [
            "Confusion matrix, without normalization\n",
            "[[35  0  0]\n",
            " [ 2  0  0]\n",
            " [ 1  0  0]]\n"
          ],
          "name": "stdout"
        },
        {
          "output_type": "display_data",
          "data": {
            "image/png": "[encoded data removed]",
            "text/plain": [
              "<Figure size 432x288 with 2 Axes>"
            ]
          },
          "metadata": {
            "tags": []
          }
        }
      ]
    },
    {
      "cell_type": "markdown",
      "metadata": {
        "id": "Cb2-ZJjpAszj",
        "colab_type": "text"
      },
      "source": [
        "## Visualize User Journey Embeddings"
      ]
    },
    {
      "cell_type": "code",
      "metadata": {
        "id": "hFB0Af9KwgVX",
        "colab_type": "code",
        "colab": {}
      },
      "source": [
        "embeddings = model.get_layer(name='embedding_4')\n",
        "embeddings = embeddings.get_weights()[0]\n",
        "embeddings = embeddings / np.linalg.norm(embeddings, axis = 1).reshape((-1, 1))\n",
        "embeddings = np.nan_to_num(embeddings)"
      ],
      "execution_count": 0,
      "outputs": []
    },
    {
      "cell_type": "code",
      "metadata": {
        "id": "L8Mw2H4Yw4vn",
        "colab_type": "code",
        "outputId": "7ce3651d-d40a-49de-f508-189328d99db7",
        "colab": {
          "base_uri": "https://localhost:8080/",
          "height": 238
        }
      },
      "source": [
        "embeddings"
      ],
      "execution_count": 0,
      "outputs": [
        {
          "output_type": "execute_result",
          "data": {
            "text/plain": [
              "array([[-0.02442238, -0.11238019,  0.14504206, ...,  0.11763352,\n",
              "         0.15338677, -0.14439106],\n",
              "       [-0.03820889, -0.11839249,  0.15006176, ...,  0.1428828 ,\n",
              "         0.1328839 , -0.18180448],\n",
              "       [-0.00971832, -0.13536982,  0.13915087, ...,  0.1668404 ,\n",
              "         0.14957514, -0.17526533],\n",
              "       ...,\n",
              "       [ 0.13134937,  0.07875734,  0.20240417, ...,  0.09817847,\n",
              "        -0.02122602, -0.11476202],\n",
              "       [ 0.01542506,  0.1093291 ,  0.0998246 , ..., -0.07506896,\n",
              "        -0.06041389, -0.04601167],\n",
              "       [-0.18493702,  0.00885947, -0.14143568, ...,  0.06557115,\n",
              "        -0.01084917, -0.11345032]], dtype=float32)"
            ]
          },
          "metadata": {
            "tags": []
          },
          "execution_count": 50
        }
      ]
    },
    {
      "cell_type": "code",
      "metadata": {
        "id": "qqC3evCiw74i",
        "colab_type": "code",
        "colab": {}
      },
      "source": [
        "from sklearn.manifold import TSNE\n"
      ],
      "execution_count": 0,
      "outputs": []
    },
    {
      "cell_type": "code",
      "metadata": {
        "id": "XC-JYSxc-66i",
        "colab_type": "code",
        "colab": {}
      },
      "source": [
        "tsne = TSNE(n_components=2, init='pca', random_state=0)\n",
        "embeddings_reduced = tsne.fit_transform(embeddings)"
      ],
      "execution_count": 0,
      "outputs": []
    },
    {
      "cell_type": "code",
      "metadata": {
        "id": "wDRVmHKOAC5t",
        "colab_type": "code",
        "colab": {}
      },
      "source": [
        "y_labels = np.array(list(map(lambda x: x[50], actions)))"
      ],
      "execution_count": 0,
      "outputs": []
    },
    {
      "cell_type": "code",
      "metadata": {
        "id": "oc4m9i5A_FjG",
        "colab_type": "code",
        "colab": {
          "base_uri": "https://localhost:8080/",
          "height": 286
        },
        "outputId": "e4c13986-a1fc-4cab-c5e4-77bfe0ffc786"
      },
      "source": [
        "plt.figure()\n",
        "colors = ['navy', 'darkorange', 'red']\n",
        "lw = 2\n",
        "target_names = action_to_idx.keys()\n",
        "\n",
        "#original points\n",
        "for color, i, target_name in zip(colors, [0, 1,2], target_names):\n",
        "    plt.scatter(embeddings_reduced[y_labels == i, 0], embeddings_reduced[y_labels == i, 1], color=color, alpha=.8, lw=lw,\n",
        "                label=target_name)\n",
        "plt.legend(loc='best', shadow=False, scatterpoints=1)"
      ],
      "execution_count": 67,
      "outputs": [
        {
          "output_type": "execute_result",
          "data": {
            "text/plain": [
              "<matplotlib.legend.Legend at 0x7f7a0c179c18>"
            ]
          },
          "metadata": {
            "tags": []
          },
          "execution_count": 67
        },
        {
          "output_type": "display_data",
          "data": {
            "image/png": "[encoded data removed]",
            "text/plain": [
              "<Figure size 432x288 with 1 Axes>"
            ]
          },
          "metadata": {
            "tags": []
          }
        }
      ]
    },
    {
      "cell_type": "code",
      "metadata": {
        "id": "USNlUWrxwBT9",
        "colab_type": "code",
        "colab": {}
      },
      "source": [
        "from google.colab import drive\n",
        "drive.mount('/content/drive')"
      ],
      "execution_count": 0,
      "outputs": []
    }
  ]
}